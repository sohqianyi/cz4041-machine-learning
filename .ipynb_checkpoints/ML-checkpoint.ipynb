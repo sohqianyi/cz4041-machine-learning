{
 "cells": [
  {
   "cell_type": "markdown",
   "metadata": {
    "id": "PTJhkHmFiXj7"
   },
   "source": [
    "# Store Item Demand Forecasting Challenge\n",
    ">https://www.kaggle.com/c/demand-forecasting-kernels-only/overview\n",
    "\n",
    "\n",
    "\n"
   ]
  },
  {
   "cell_type": "markdown",
   "metadata": {
    "id": "zkWgbhi8OjSA"
   },
   "source": [
    "\n",
    "Best Score <br>\n",
    "Experiment 6: Ensembled model (Improved Prophet + Tuned Catboost + Rounding) <br>\n",
    "Rank 98/459 on private leaderboard (top 21%) <br>\n",
    "Rank 119/459 on public leaderboard (top 25%) <br>\n",
    "<br>\n",
    "![Screenshot 2022-02-14 at 2.12.50 PM.png](data:image/png;base64,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)"
   ]
  },
  {
   "cell_type": "markdown",
   "metadata": {
    "id": "wubyecOrBaZ7"
   },
   "source": [
    "## Imports\n"
   ]
  },
  {
   "cell_type": "code",
   "execution_count": 1,
   "metadata": {
    "id": "KRqwJL7u-JlZ"
   },
   "outputs": [],
   "source": [
    "import pandas as pd\n",
    "import numpy as np\n",
    "from sklearn.metrics import mean_absolute_error, mean_squared_error, max_error, median_absolute_error, r2_score, explained_variance_score"
   ]
  },
  {
   "cell_type": "code",
   "execution_count": 2,
   "metadata": {
    "colab": {
     "base_uri": "https://localhost:8080/",
     "height": 204
    },
    "executionInfo": {
     "elapsed": 2039,
     "status": "ok",
     "timestamp": 1644814368058,
     "user": {
      "displayName": "andrel",
      "photoUrl": "https://lh3.googleusercontent.com/a-/AOh14GhJHrQmI0O_j6I_y6ptXfC7DmRsvh9q4PkYKC9uRg=s64",
      "userId": "01083842325601129049"
     },
     "user_tz": -480
    },
    "id": "avMZmK5L_MWk",
    "outputId": "55b1eae3-5b27-4548-b8be-069600df0c6b",
    "scrolled": true
   },
   "outputs": [
    {
     "data": {
      "text/html": [
       "<div>\n",
       "<style scoped>\n",
       "    .dataframe tbody tr th:only-of-type {\n",
       "        vertical-align: middle;\n",
       "    }\n",
       "\n",
       "    .dataframe tbody tr th {\n",
       "        vertical-align: top;\n",
       "    }\n",
       "\n",
       "    .dataframe thead th {\n",
       "        text-align: right;\n",
       "    }\n",
       "</style>\n",
       "<table border=\"1\" class=\"dataframe\">\n",
       "  <thead>\n",
       "    <tr style=\"text-align: right;\">\n",
       "      <th></th>\n",
       "      <th>date</th>\n",
       "      <th>store</th>\n",
       "      <th>item</th>\n",
       "      <th>sales</th>\n",
       "    </tr>\n",
       "  </thead>\n",
       "  <tbody>\n",
       "    <tr>\n",
       "      <th>0</th>\n",
       "      <td>2013-01-01</td>\n",
       "      <td>1</td>\n",
       "      <td>1</td>\n",
       "      <td>13</td>\n",
       "    </tr>\n",
       "    <tr>\n",
       "      <th>1</th>\n",
       "      <td>2013-01-02</td>\n",
       "      <td>1</td>\n",
       "      <td>1</td>\n",
       "      <td>11</td>\n",
       "    </tr>\n",
       "    <tr>\n",
       "      <th>2</th>\n",
       "      <td>2013-01-03</td>\n",
       "      <td>1</td>\n",
       "      <td>1</td>\n",
       "      <td>14</td>\n",
       "    </tr>\n",
       "    <tr>\n",
       "      <th>3</th>\n",
       "      <td>2013-01-04</td>\n",
       "      <td>1</td>\n",
       "      <td>1</td>\n",
       "      <td>13</td>\n",
       "    </tr>\n",
       "    <tr>\n",
       "      <th>4</th>\n",
       "      <td>2013-01-05</td>\n",
       "      <td>1</td>\n",
       "      <td>1</td>\n",
       "      <td>10</td>\n",
       "    </tr>\n",
       "  </tbody>\n",
       "</table>\n",
       "</div>"
      ],
      "text/plain": [
       "         date  store  item  sales\n",
       "0  2013-01-01      1     1     13\n",
       "1  2013-01-02      1     1     11\n",
       "2  2013-01-03      1     1     14\n",
       "3  2013-01-04      1     1     13\n",
       "4  2013-01-05      1     1     10"
      ]
     },
     "execution_count": 2,
     "metadata": {},
     "output_type": "execute_result"
    }
   ],
   "source": [
    "# train.csv\n",
    "train_df = pd.read_csv(\"train.csv\")\n",
    "train_df.head()"
   ]
  },
  {
   "cell_type": "code",
   "execution_count": 3,
   "metadata": {
    "colab": {
     "base_uri": "https://localhost:8080/",
     "height": 204
    },
    "executionInfo": {
     "elapsed": 516,
     "status": "ok",
     "timestamp": 1644814370089,
     "user": {
      "displayName": "andrel",
      "photoUrl": "https://lh3.googleusercontent.com/a-/AOh14GhJHrQmI0O_j6I_y6ptXfC7DmRsvh9q4PkYKC9uRg=s64",
      "userId": "01083842325601129049"
     },
     "user_tz": -480
    },
    "id": "IqoRJWJ0_aMI",
    "outputId": "5dc2e0ab-7716-4bcd-ba93-be76d3760e02"
   },
   "outputs": [
    {
     "data": {
      "text/html": [
       "<div>\n",
       "<style scoped>\n",
       "    .dataframe tbody tr th:only-of-type {\n",
       "        vertical-align: middle;\n",
       "    }\n",
       "\n",
       "    .dataframe tbody tr th {\n",
       "        vertical-align: top;\n",
       "    }\n",
       "\n",
       "    .dataframe thead th {\n",
       "        text-align: right;\n",
       "    }\n",
       "</style>\n",
       "<table border=\"1\" class=\"dataframe\">\n",
       "  <thead>\n",
       "    <tr style=\"text-align: right;\">\n",
       "      <th></th>\n",
       "      <th>id</th>\n",
       "      <th>date</th>\n",
       "      <th>store</th>\n",
       "      <th>item</th>\n",
       "    </tr>\n",
       "  </thead>\n",
       "  <tbody>\n",
       "    <tr>\n",
       "      <th>0</th>\n",
       "      <td>0</td>\n",
       "      <td>2018-01-01</td>\n",
       "      <td>1</td>\n",
       "      <td>1</td>\n",
       "    </tr>\n",
       "    <tr>\n",
       "      <th>1</th>\n",
       "      <td>1</td>\n",
       "      <td>2018-01-02</td>\n",
       "      <td>1</td>\n",
       "      <td>1</td>\n",
       "    </tr>\n",
       "    <tr>\n",
       "      <th>2</th>\n",
       "      <td>2</td>\n",
       "      <td>2018-01-03</td>\n",
       "      <td>1</td>\n",
       "      <td>1</td>\n",
       "    </tr>\n",
       "    <tr>\n",
       "      <th>3</th>\n",
       "      <td>3</td>\n",
       "      <td>2018-01-04</td>\n",
       "      <td>1</td>\n",
       "      <td>1</td>\n",
       "    </tr>\n",
       "    <tr>\n",
       "      <th>4</th>\n",
       "      <td>4</td>\n",
       "      <td>2018-01-05</td>\n",
       "      <td>1</td>\n",
       "      <td>1</td>\n",
       "    </tr>\n",
       "  </tbody>\n",
       "</table>\n",
       "</div>"
      ],
      "text/plain": [
       "   id        date  store  item\n",
       "0   0  2018-01-01      1     1\n",
       "1   1  2018-01-02      1     1\n",
       "2   2  2018-01-03      1     1\n",
       "3   3  2018-01-04      1     1\n",
       "4   4  2018-01-05      1     1"
      ]
     },
     "execution_count": 3,
     "metadata": {},
     "output_type": "execute_result"
    }
   ],
   "source": [
    "# test.csv\n",
    "test_df = pd.read_csv(\"test.csv\")\n",
    "test_df.head()"
   ]
  },
  {
   "cell_type": "code",
   "execution_count": 4,
   "metadata": {
    "colab": {
     "base_uri": "https://localhost:8080/",
     "height": 204
    },
    "executionInfo": {
     "elapsed": 796,
     "status": "ok",
     "timestamp": 1644814373136,
     "user": {
      "displayName": "andrel",
      "photoUrl": "https://lh3.googleusercontent.com/a-/AOh14GhJHrQmI0O_j6I_y6ptXfC7DmRsvh9q4PkYKC9uRg=s64",
      "userId": "01083842325601129049"
     },
     "user_tz": -480
    },
    "id": "Zd0GojZ9_ma9",
    "outputId": "471e956e-0e85-4a8b-e789-66cc0a71536a"
   },
   "outputs": [
    {
     "data": {
      "text/html": [
       "<div>\n",
       "<style scoped>\n",
       "    .dataframe tbody tr th:only-of-type {\n",
       "        vertical-align: middle;\n",
       "    }\n",
       "\n",
       "    .dataframe tbody tr th {\n",
       "        vertical-align: top;\n",
       "    }\n",
       "\n",
       "    .dataframe thead th {\n",
       "        text-align: right;\n",
       "    }\n",
       "</style>\n",
       "<table border=\"1\" class=\"dataframe\">\n",
       "  <thead>\n",
       "    <tr style=\"text-align: right;\">\n",
       "      <th></th>\n",
       "      <th>id</th>\n",
       "      <th>sales</th>\n",
       "    </tr>\n",
       "  </thead>\n",
       "  <tbody>\n",
       "    <tr>\n",
       "      <th>0</th>\n",
       "      <td>0</td>\n",
       "      <td>52</td>\n",
       "    </tr>\n",
       "    <tr>\n",
       "      <th>1</th>\n",
       "      <td>1</td>\n",
       "      <td>52</td>\n",
       "    </tr>\n",
       "    <tr>\n",
       "      <th>2</th>\n",
       "      <td>2</td>\n",
       "      <td>52</td>\n",
       "    </tr>\n",
       "    <tr>\n",
       "      <th>3</th>\n",
       "      <td>3</td>\n",
       "      <td>52</td>\n",
       "    </tr>\n",
       "    <tr>\n",
       "      <th>4</th>\n",
       "      <td>4</td>\n",
       "      <td>52</td>\n",
       "    </tr>\n",
       "  </tbody>\n",
       "</table>\n",
       "</div>"
      ],
      "text/plain": [
       "   id  sales\n",
       "0   0     52\n",
       "1   1     52\n",
       "2   2     52\n",
       "3   3     52\n",
       "4   4     52"
      ]
     },
     "execution_count": 4,
     "metadata": {},
     "output_type": "execute_result"
    }
   ],
   "source": [
    "# sample_submission.csv\n",
    "sample_df = pd.read_csv(\"sample_submission.csv\")\n",
    "sample_df.head()"
   ]
  },
  {
   "cell_type": "markdown",
   "metadata": {
    "id": "tfPFjhtUoRg3"
   },
   "source": [
    "Exploration"
   ]
  },
  {
   "cell_type": "markdown",
   "metadata": {
    "id": "ZbISeAJnJDw9"
   },
   "source": [
    "## Data Preparation"
   ]
  },
  {
   "cell_type": "code",
   "execution_count": 5,
   "metadata": {},
   "outputs": [],
   "source": [
    "from datetime import datetime\n",
    "\n",
    "def convertYMD(df):\n",
    "    df['date'] = pd.to_datetime(df['date'])\n",
    "    df['year'] = [i.year for i in df['date']]\n",
    "    df['month'] = [i.month for i in df['date']]\n",
    "    df['day'] = [i.dayofweek for i in df['date']]"
   ]
  },
  {
   "cell_type": "code",
   "execution_count": 6,
   "metadata": {},
   "outputs": [
    {
     "data": {
      "text/html": [
       "<div>\n",
       "<style scoped>\n",
       "    .dataframe tbody tr th:only-of-type {\n",
       "        vertical-align: middle;\n",
       "    }\n",
       "\n",
       "    .dataframe tbody tr th {\n",
       "        vertical-align: top;\n",
       "    }\n",
       "\n",
       "    .dataframe thead th {\n",
       "        text-align: right;\n",
       "    }\n",
       "</style>\n",
       "<table border=\"1\" class=\"dataframe\">\n",
       "  <thead>\n",
       "    <tr style=\"text-align: right;\">\n",
       "      <th></th>\n",
       "      <th>store</th>\n",
       "      <th>item</th>\n",
       "      <th>sales</th>\n",
       "      <th>year</th>\n",
       "      <th>month</th>\n",
       "      <th>day</th>\n",
       "    </tr>\n",
       "  </thead>\n",
       "  <tbody>\n",
       "    <tr>\n",
       "      <th>0</th>\n",
       "      <td>1</td>\n",
       "      <td>1</td>\n",
       "      <td>13</td>\n",
       "      <td>2013</td>\n",
       "      <td>1</td>\n",
       "      <td>1</td>\n",
       "    </tr>\n",
       "    <tr>\n",
       "      <th>1</th>\n",
       "      <td>1</td>\n",
       "      <td>1</td>\n",
       "      <td>11</td>\n",
       "      <td>2013</td>\n",
       "      <td>1</td>\n",
       "      <td>2</td>\n",
       "    </tr>\n",
       "    <tr>\n",
       "      <th>2</th>\n",
       "      <td>1</td>\n",
       "      <td>1</td>\n",
       "      <td>14</td>\n",
       "      <td>2013</td>\n",
       "      <td>1</td>\n",
       "      <td>3</td>\n",
       "    </tr>\n",
       "    <tr>\n",
       "      <th>3</th>\n",
       "      <td>1</td>\n",
       "      <td>1</td>\n",
       "      <td>13</td>\n",
       "      <td>2013</td>\n",
       "      <td>1</td>\n",
       "      <td>4</td>\n",
       "    </tr>\n",
       "    <tr>\n",
       "      <th>4</th>\n",
       "      <td>1</td>\n",
       "      <td>1</td>\n",
       "      <td>10</td>\n",
       "      <td>2013</td>\n",
       "      <td>1</td>\n",
       "      <td>5</td>\n",
       "    </tr>\n",
       "  </tbody>\n",
       "</table>\n",
       "</div>"
      ],
      "text/plain": [
       "   store  item  sales  year  month  day\n",
       "0      1     1     13  2013      1    1\n",
       "1      1     1     11  2013      1    2\n",
       "2      1     1     14  2013      1    3\n",
       "3      1     1     13  2013      1    4\n",
       "4      1     1     10  2013      1    5"
      ]
     },
     "execution_count": 6,
     "metadata": {},
     "output_type": "execute_result"
    }
   ],
   "source": [
    "convertYMD(train_df)\n",
    "train_df.drop('date', axis=1, inplace=True)\n",
    "train_df.head()"
   ]
  },
  {
   "cell_type": "code",
   "execution_count": 7,
   "metadata": {},
   "outputs": [
    {
     "data": {
      "text/html": [
       "<div>\n",
       "<style scoped>\n",
       "    .dataframe tbody tr th:only-of-type {\n",
       "        vertical-align: middle;\n",
       "    }\n",
       "\n",
       "    .dataframe tbody tr th {\n",
       "        vertical-align: top;\n",
       "    }\n",
       "\n",
       "    .dataframe thead th {\n",
       "        text-align: right;\n",
       "    }\n",
       "</style>\n",
       "<table border=\"1\" class=\"dataframe\">\n",
       "  <thead>\n",
       "    <tr style=\"text-align: right;\">\n",
       "      <th></th>\n",
       "      <th>id</th>\n",
       "      <th>store</th>\n",
       "      <th>item</th>\n",
       "      <th>year</th>\n",
       "      <th>month</th>\n",
       "      <th>day</th>\n",
       "    </tr>\n",
       "  </thead>\n",
       "  <tbody>\n",
       "    <tr>\n",
       "      <th>0</th>\n",
       "      <td>0</td>\n",
       "      <td>1</td>\n",
       "      <td>1</td>\n",
       "      <td>2018</td>\n",
       "      <td>1</td>\n",
       "      <td>0</td>\n",
       "    </tr>\n",
       "    <tr>\n",
       "      <th>1</th>\n",
       "      <td>1</td>\n",
       "      <td>1</td>\n",
       "      <td>1</td>\n",
       "      <td>2018</td>\n",
       "      <td>1</td>\n",
       "      <td>1</td>\n",
       "    </tr>\n",
       "    <tr>\n",
       "      <th>2</th>\n",
       "      <td>2</td>\n",
       "      <td>1</td>\n",
       "      <td>1</td>\n",
       "      <td>2018</td>\n",
       "      <td>1</td>\n",
       "      <td>2</td>\n",
       "    </tr>\n",
       "    <tr>\n",
       "      <th>3</th>\n",
       "      <td>3</td>\n",
       "      <td>1</td>\n",
       "      <td>1</td>\n",
       "      <td>2018</td>\n",
       "      <td>1</td>\n",
       "      <td>3</td>\n",
       "    </tr>\n",
       "    <tr>\n",
       "      <th>4</th>\n",
       "      <td>4</td>\n",
       "      <td>1</td>\n",
       "      <td>1</td>\n",
       "      <td>2018</td>\n",
       "      <td>1</td>\n",
       "      <td>4</td>\n",
       "    </tr>\n",
       "  </tbody>\n",
       "</table>\n",
       "</div>"
      ],
      "text/plain": [
       "   id  store  item  year  month  day\n",
       "0   0      1     1  2018      1    0\n",
       "1   1      1     1  2018      1    1\n",
       "2   2      1     1  2018      1    2\n",
       "3   3      1     1  2018      1    3\n",
       "4   4      1     1  2018      1    4"
      ]
     },
     "execution_count": 7,
     "metadata": {},
     "output_type": "execute_result"
    }
   ],
   "source": [
    "convertYMD(test_df)\n",
    "test_df.drop('date', axis=1, inplace=True)\n",
    "test_df.head()"
   ]
  },
  {
   "cell_type": "code",
   "execution_count": 8,
   "metadata": {
    "id": "PLsMSc5Kly_G"
   },
   "outputs": [],
   "source": [
    "# drop id column before predicting\n",
    "test_df.drop('id', axis=1, inplace=True)"
   ]
  },
  {
   "cell_type": "markdown",
   "metadata": {
    "id": "9Es_6MN6ODYR"
   },
   "source": [
    "# Baseline ML Models"
   ]
  },
  {
   "cell_type": "code",
   "execution_count": 9,
   "metadata": {
    "id": "CxYbFmx2q0GI"
   },
   "outputs": [
    {
     "data": {
      "text/html": [
       "<div>\n",
       "<style scoped>\n",
       "    .dataframe tbody tr th:only-of-type {\n",
       "        vertical-align: middle;\n",
       "    }\n",
       "\n",
       "    .dataframe tbody tr th {\n",
       "        vertical-align: top;\n",
       "    }\n",
       "\n",
       "    .dataframe thead th {\n",
       "        text-align: right;\n",
       "    }\n",
       "</style>\n",
       "<table border=\"1\" class=\"dataframe\">\n",
       "  <thead>\n",
       "    <tr style=\"text-align: right;\">\n",
       "      <th></th>\n",
       "      <th>date</th>\n",
       "      <th>store</th>\n",
       "      <th>item</th>\n",
       "      <th>sales</th>\n",
       "    </tr>\n",
       "  </thead>\n",
       "  <tbody>\n",
       "    <tr>\n",
       "      <th>0</th>\n",
       "      <td>2013-01-01</td>\n",
       "      <td>1</td>\n",
       "      <td>1</td>\n",
       "      <td>13</td>\n",
       "    </tr>\n",
       "    <tr>\n",
       "      <th>1</th>\n",
       "      <td>2013-01-02</td>\n",
       "      <td>1</td>\n",
       "      <td>1</td>\n",
       "      <td>11</td>\n",
       "    </tr>\n",
       "    <tr>\n",
       "      <th>2</th>\n",
       "      <td>2013-01-03</td>\n",
       "      <td>1</td>\n",
       "      <td>1</td>\n",
       "      <td>14</td>\n",
       "    </tr>\n",
       "    <tr>\n",
       "      <th>3</th>\n",
       "      <td>2013-01-04</td>\n",
       "      <td>1</td>\n",
       "      <td>1</td>\n",
       "      <td>13</td>\n",
       "    </tr>\n",
       "    <tr>\n",
       "      <th>4</th>\n",
       "      <td>2013-01-05</td>\n",
       "      <td>1</td>\n",
       "      <td>1</td>\n",
       "      <td>10</td>\n",
       "    </tr>\n",
       "    <tr>\n",
       "      <th>...</th>\n",
       "      <td>...</td>\n",
       "      <td>...</td>\n",
       "      <td>...</td>\n",
       "      <td>...</td>\n",
       "    </tr>\n",
       "    <tr>\n",
       "      <th>912995</th>\n",
       "      <td>2017-12-27</td>\n",
       "      <td>10</td>\n",
       "      <td>50</td>\n",
       "      <td>63</td>\n",
       "    </tr>\n",
       "    <tr>\n",
       "      <th>912996</th>\n",
       "      <td>2017-12-28</td>\n",
       "      <td>10</td>\n",
       "      <td>50</td>\n",
       "      <td>59</td>\n",
       "    </tr>\n",
       "    <tr>\n",
       "      <th>912997</th>\n",
       "      <td>2017-12-29</td>\n",
       "      <td>10</td>\n",
       "      <td>50</td>\n",
       "      <td>74</td>\n",
       "    </tr>\n",
       "    <tr>\n",
       "      <th>912998</th>\n",
       "      <td>2017-12-30</td>\n",
       "      <td>10</td>\n",
       "      <td>50</td>\n",
       "      <td>62</td>\n",
       "    </tr>\n",
       "    <tr>\n",
       "      <th>912999</th>\n",
       "      <td>2017-12-31</td>\n",
       "      <td>10</td>\n",
       "      <td>50</td>\n",
       "      <td>82</td>\n",
       "    </tr>\n",
       "  </tbody>\n",
       "</table>\n",
       "<p>913000 rows × 4 columns</p>\n",
       "</div>"
      ],
      "text/plain": [
       "              date  store  item  sales\n",
       "0       2013-01-01      1     1     13\n",
       "1       2013-01-02      1     1     11\n",
       "2       2013-01-03      1     1     14\n",
       "3       2013-01-04      1     1     13\n",
       "4       2013-01-05      1     1     10\n",
       "...            ...    ...   ...    ...\n",
       "912995  2017-12-27     10    50     63\n",
       "912996  2017-12-28     10    50     59\n",
       "912997  2017-12-29     10    50     74\n",
       "912998  2017-12-30     10    50     62\n",
       "912999  2017-12-31     10    50     82\n",
       "\n",
       "[913000 rows x 4 columns]"
      ]
     },
     "execution_count": 9,
     "metadata": {},
     "output_type": "execute_result"
    }
   ],
   "source": [
    "train_df = pd.read_csv(\"train.csv\")\n",
    "train_df"
   ]
  },
  {
   "cell_type": "code",
   "execution_count": 10,
   "metadata": {
    "id": "CxYbFmx2q0GI"
   },
   "outputs": [],
   "source": [
    "# split train_df into 2 validation and train set\n",
    "val = train_df.loc[(train_df[\"date\"] >= \"2017-01-01\") & (train_df[\"date\"] < \"2017-04-01\"), :] # first 3 months of 2017\n",
    "train = pd.concat([train_df, val, val]).drop_duplicates(keep=False) # the rest of the months"
   ]
  },
  {
   "cell_type": "markdown",
   "metadata": {},
   "source": [
    "x-labels"
   ]
  },
  {
   "cell_type": "code",
   "execution_count": 11,
   "metadata": {},
   "outputs": [
    {
     "data": {
      "text/html": [
       "<div>\n",
       "<style scoped>\n",
       "    .dataframe tbody tr th:only-of-type {\n",
       "        vertical-align: middle;\n",
       "    }\n",
       "\n",
       "    .dataframe tbody tr th {\n",
       "        vertical-align: top;\n",
       "    }\n",
       "\n",
       "    .dataframe thead th {\n",
       "        text-align: right;\n",
       "    }\n",
       "</style>\n",
       "<table border=\"1\" class=\"dataframe\">\n",
       "  <thead>\n",
       "    <tr style=\"text-align: right;\">\n",
       "      <th></th>\n",
       "      <th>store</th>\n",
       "      <th>item</th>\n",
       "      <th>sales</th>\n",
       "      <th>year</th>\n",
       "      <th>month</th>\n",
       "      <th>day</th>\n",
       "    </tr>\n",
       "  </thead>\n",
       "  <tbody>\n",
       "    <tr>\n",
       "      <th>0</th>\n",
       "      <td>1</td>\n",
       "      <td>1</td>\n",
       "      <td>13</td>\n",
       "      <td>2013</td>\n",
       "      <td>1</td>\n",
       "      <td>1</td>\n",
       "    </tr>\n",
       "    <tr>\n",
       "      <th>1</th>\n",
       "      <td>1</td>\n",
       "      <td>1</td>\n",
       "      <td>11</td>\n",
       "      <td>2013</td>\n",
       "      <td>1</td>\n",
       "      <td>2</td>\n",
       "    </tr>\n",
       "    <tr>\n",
       "      <th>2</th>\n",
       "      <td>1</td>\n",
       "      <td>1</td>\n",
       "      <td>14</td>\n",
       "      <td>2013</td>\n",
       "      <td>1</td>\n",
       "      <td>3</td>\n",
       "    </tr>\n",
       "    <tr>\n",
       "      <th>3</th>\n",
       "      <td>1</td>\n",
       "      <td>1</td>\n",
       "      <td>13</td>\n",
       "      <td>2013</td>\n",
       "      <td>1</td>\n",
       "      <td>4</td>\n",
       "    </tr>\n",
       "    <tr>\n",
       "      <th>4</th>\n",
       "      <td>1</td>\n",
       "      <td>1</td>\n",
       "      <td>10</td>\n",
       "      <td>2013</td>\n",
       "      <td>1</td>\n",
       "      <td>5</td>\n",
       "    </tr>\n",
       "    <tr>\n",
       "      <th>...</th>\n",
       "      <td>...</td>\n",
       "      <td>...</td>\n",
       "      <td>...</td>\n",
       "      <td>...</td>\n",
       "      <td>...</td>\n",
       "      <td>...</td>\n",
       "    </tr>\n",
       "    <tr>\n",
       "      <th>912995</th>\n",
       "      <td>10</td>\n",
       "      <td>50</td>\n",
       "      <td>63</td>\n",
       "      <td>2017</td>\n",
       "      <td>12</td>\n",
       "      <td>2</td>\n",
       "    </tr>\n",
       "    <tr>\n",
       "      <th>912996</th>\n",
       "      <td>10</td>\n",
       "      <td>50</td>\n",
       "      <td>59</td>\n",
       "      <td>2017</td>\n",
       "      <td>12</td>\n",
       "      <td>3</td>\n",
       "    </tr>\n",
       "    <tr>\n",
       "      <th>912997</th>\n",
       "      <td>10</td>\n",
       "      <td>50</td>\n",
       "      <td>74</td>\n",
       "      <td>2017</td>\n",
       "      <td>12</td>\n",
       "      <td>4</td>\n",
       "    </tr>\n",
       "    <tr>\n",
       "      <th>912998</th>\n",
       "      <td>10</td>\n",
       "      <td>50</td>\n",
       "      <td>62</td>\n",
       "      <td>2017</td>\n",
       "      <td>12</td>\n",
       "      <td>5</td>\n",
       "    </tr>\n",
       "    <tr>\n",
       "      <th>912999</th>\n",
       "      <td>10</td>\n",
       "      <td>50</td>\n",
       "      <td>82</td>\n",
       "      <td>2017</td>\n",
       "      <td>12</td>\n",
       "      <td>6</td>\n",
       "    </tr>\n",
       "  </tbody>\n",
       "</table>\n",
       "<p>868000 rows × 6 columns</p>\n",
       "</div>"
      ],
      "text/plain": [
       "        store  item  sales  year  month  day\n",
       "0           1     1     13  2013      1    1\n",
       "1           1     1     11  2013      1    2\n",
       "2           1     1     14  2013      1    3\n",
       "3           1     1     13  2013      1    4\n",
       "4           1     1     10  2013      1    5\n",
       "...       ...   ...    ...   ...    ...  ...\n",
       "912995     10    50     63  2017     12    2\n",
       "912996     10    50     59  2017     12    3\n",
       "912997     10    50     74  2017     12    4\n",
       "912998     10    50     62  2017     12    5\n",
       "912999     10    50     82  2017     12    6\n",
       "\n",
       "[868000 rows x 6 columns]"
      ]
     },
     "execution_count": 11,
     "metadata": {},
     "output_type": "execute_result"
    }
   ],
   "source": [
    "convertYMD(train)\n",
    "train.drop('date', axis=1, inplace=True)\n",
    "train"
   ]
  },
  {
   "cell_type": "code",
   "execution_count": 12,
   "metadata": {
    "scrolled": true
   },
   "outputs": [
    {
     "name": "stderr",
     "output_type": "stream",
     "text": [
      "C:\\Users\\nct\\AppData\\Local\\Temp\\ipykernel_15756\\3823085543.py:4: SettingWithCopyWarning: \n",
      "A value is trying to be set on a copy of a slice from a DataFrame.\n",
      "Try using .loc[row_indexer,col_indexer] = value instead\n",
      "\n",
      "See the caveats in the documentation: https://pandas.pydata.org/pandas-docs/stable/user_guide/indexing.html#returning-a-view-versus-a-copy\n",
      "  df['date'] = pd.to_datetime(df['date'])\n",
      "C:\\Users\\nct\\AppData\\Local\\Temp\\ipykernel_15756\\3823085543.py:5: SettingWithCopyWarning: \n",
      "A value is trying to be set on a copy of a slice from a DataFrame.\n",
      "Try using .loc[row_indexer,col_indexer] = value instead\n",
      "\n",
      "See the caveats in the documentation: https://pandas.pydata.org/pandas-docs/stable/user_guide/indexing.html#returning-a-view-versus-a-copy\n",
      "  df['year'] = [i.year for i in df['date']]\n",
      "C:\\Users\\nct\\AppData\\Local\\Temp\\ipykernel_15756\\3823085543.py:6: SettingWithCopyWarning: \n",
      "A value is trying to be set on a copy of a slice from a DataFrame.\n",
      "Try using .loc[row_indexer,col_indexer] = value instead\n",
      "\n",
      "See the caveats in the documentation: https://pandas.pydata.org/pandas-docs/stable/user_guide/indexing.html#returning-a-view-versus-a-copy\n",
      "  df['month'] = [i.month for i in df['date']]\n",
      "C:\\Users\\nct\\AppData\\Local\\Temp\\ipykernel_15756\\3823085543.py:7: SettingWithCopyWarning: \n",
      "A value is trying to be set on a copy of a slice from a DataFrame.\n",
      "Try using .loc[row_indexer,col_indexer] = value instead\n",
      "\n",
      "See the caveats in the documentation: https://pandas.pydata.org/pandas-docs/stable/user_guide/indexing.html#returning-a-view-versus-a-copy\n",
      "  df['day'] = [i.dayofweek for i in df['date']]\n",
      "C:\\Users\\nct\\AppData\\Local\\Temp\\ipykernel_15756\\503842310.py:2: SettingWithCopyWarning: \n",
      "A value is trying to be set on a copy of a slice from a DataFrame\n",
      "\n",
      "See the caveats in the documentation: https://pandas.pydata.org/pandas-docs/stable/user_guide/indexing.html#returning-a-view-versus-a-copy\n",
      "  val.drop('date', axis=1, inplace=True)\n"
     ]
    },
    {
     "data": {
      "text/html": [
       "<div>\n",
       "<style scoped>\n",
       "    .dataframe tbody tr th:only-of-type {\n",
       "        vertical-align: middle;\n",
       "    }\n",
       "\n",
       "    .dataframe tbody tr th {\n",
       "        vertical-align: top;\n",
       "    }\n",
       "\n",
       "    .dataframe thead th {\n",
       "        text-align: right;\n",
       "    }\n",
       "</style>\n",
       "<table border=\"1\" class=\"dataframe\">\n",
       "  <thead>\n",
       "    <tr style=\"text-align: right;\">\n",
       "      <th></th>\n",
       "      <th>store</th>\n",
       "      <th>item</th>\n",
       "      <th>sales</th>\n",
       "      <th>year</th>\n",
       "      <th>month</th>\n",
       "      <th>day</th>\n",
       "    </tr>\n",
       "  </thead>\n",
       "  <tbody>\n",
       "    <tr>\n",
       "      <th>1461</th>\n",
       "      <td>1</td>\n",
       "      <td>1</td>\n",
       "      <td>19</td>\n",
       "      <td>2017</td>\n",
       "      <td>1</td>\n",
       "      <td>6</td>\n",
       "    </tr>\n",
       "    <tr>\n",
       "      <th>1462</th>\n",
       "      <td>1</td>\n",
       "      <td>1</td>\n",
       "      <td>15</td>\n",
       "      <td>2017</td>\n",
       "      <td>1</td>\n",
       "      <td>0</td>\n",
       "    </tr>\n",
       "    <tr>\n",
       "      <th>1463</th>\n",
       "      <td>1</td>\n",
       "      <td>1</td>\n",
       "      <td>10</td>\n",
       "      <td>2017</td>\n",
       "      <td>1</td>\n",
       "      <td>1</td>\n",
       "    </tr>\n",
       "    <tr>\n",
       "      <th>1464</th>\n",
       "      <td>1</td>\n",
       "      <td>1</td>\n",
       "      <td>16</td>\n",
       "      <td>2017</td>\n",
       "      <td>1</td>\n",
       "      <td>2</td>\n",
       "    </tr>\n",
       "    <tr>\n",
       "      <th>1465</th>\n",
       "      <td>1</td>\n",
       "      <td>1</td>\n",
       "      <td>14</td>\n",
       "      <td>2017</td>\n",
       "      <td>1</td>\n",
       "      <td>3</td>\n",
       "    </tr>\n",
       "    <tr>\n",
       "      <th>...</th>\n",
       "      <td>...</td>\n",
       "      <td>...</td>\n",
       "      <td>...</td>\n",
       "      <td>...</td>\n",
       "      <td>...</td>\n",
       "      <td>...</td>\n",
       "    </tr>\n",
       "    <tr>\n",
       "      <th>912720</th>\n",
       "      <td>10</td>\n",
       "      <td>50</td>\n",
       "      <td>66</td>\n",
       "      <td>2017</td>\n",
       "      <td>3</td>\n",
       "      <td>0</td>\n",
       "    </tr>\n",
       "    <tr>\n",
       "      <th>912721</th>\n",
       "      <td>10</td>\n",
       "      <td>50</td>\n",
       "      <td>60</td>\n",
       "      <td>2017</td>\n",
       "      <td>3</td>\n",
       "      <td>1</td>\n",
       "    </tr>\n",
       "    <tr>\n",
       "      <th>912722</th>\n",
       "      <td>10</td>\n",
       "      <td>50</td>\n",
       "      <td>73</td>\n",
       "      <td>2017</td>\n",
       "      <td>3</td>\n",
       "      <td>2</td>\n",
       "    </tr>\n",
       "    <tr>\n",
       "      <th>912723</th>\n",
       "      <td>10</td>\n",
       "      <td>50</td>\n",
       "      <td>68</td>\n",
       "      <td>2017</td>\n",
       "      <td>3</td>\n",
       "      <td>3</td>\n",
       "    </tr>\n",
       "    <tr>\n",
       "      <th>912724</th>\n",
       "      <td>10</td>\n",
       "      <td>50</td>\n",
       "      <td>69</td>\n",
       "      <td>2017</td>\n",
       "      <td>3</td>\n",
       "      <td>4</td>\n",
       "    </tr>\n",
       "  </tbody>\n",
       "</table>\n",
       "<p>45000 rows × 6 columns</p>\n",
       "</div>"
      ],
      "text/plain": [
       "        store  item  sales  year  month  day\n",
       "1461        1     1     19  2017      1    6\n",
       "1462        1     1     15  2017      1    0\n",
       "1463        1     1     10  2017      1    1\n",
       "1464        1     1     16  2017      1    2\n",
       "1465        1     1     14  2017      1    3\n",
       "...       ...   ...    ...   ...    ...  ...\n",
       "912720     10    50     66  2017      3    0\n",
       "912721     10    50     60  2017      3    1\n",
       "912722     10    50     73  2017      3    2\n",
       "912723     10    50     68  2017      3    3\n",
       "912724     10    50     69  2017      3    4\n",
       "\n",
       "[45000 rows x 6 columns]"
      ]
     },
     "execution_count": 12,
     "metadata": {},
     "output_type": "execute_result"
    }
   ],
   "source": [
    "convertYMD(val)\n",
    "val.drop('date', axis=1, inplace=True)\n",
    "val"
   ]
  },
  {
   "cell_type": "markdown",
   "metadata": {},
   "source": [
    "y-labels"
   ]
  },
  {
   "cell_type": "code",
   "execution_count": 13,
   "metadata": {
    "scrolled": true
   },
   "outputs": [
    {
     "data": {
      "text/plain": [
       "1461      19\n",
       "1462      15\n",
       "1463      10\n",
       "1464      16\n",
       "1465      14\n",
       "          ..\n",
       "912720    66\n",
       "912721    60\n",
       "912722    73\n",
       "912723    68\n",
       "912724    69\n",
       "Name: sales, Length: 45000, dtype: int64"
      ]
     },
     "execution_count": 13,
     "metadata": {},
     "output_type": "execute_result"
    }
   ],
   "source": [
    "sales_val = val.pop('sales')\n",
    "sales_val"
   ]
  },
  {
   "cell_type": "code",
   "execution_count": 14,
   "metadata": {},
   "outputs": [
    {
     "data": {
      "text/plain": [
       "0         13\n",
       "1         11\n",
       "2         14\n",
       "3         13\n",
       "4         10\n",
       "          ..\n",
       "912995    63\n",
       "912996    59\n",
       "912997    74\n",
       "912998    62\n",
       "912999    82\n",
       "Name: sales, Length: 868000, dtype: int64"
      ]
     },
     "execution_count": 14,
     "metadata": {},
     "output_type": "execute_result"
    }
   ],
   "source": [
    "sales_train = train.pop('sales')\n",
    "sales_train"
   ]
  },
  {
   "cell_type": "code",
   "execution_count": 15,
   "metadata": {},
   "outputs": [
    {
     "data": {
      "text/html": [
       "<div>\n",
       "<style scoped>\n",
       "    .dataframe tbody tr th:only-of-type {\n",
       "        vertical-align: middle;\n",
       "    }\n",
       "\n",
       "    .dataframe tbody tr th {\n",
       "        vertical-align: top;\n",
       "    }\n",
       "\n",
       "    .dataframe thead th {\n",
       "        text-align: right;\n",
       "    }\n",
       "</style>\n",
       "<table border=\"1\" class=\"dataframe\">\n",
       "  <thead>\n",
       "    <tr style=\"text-align: right;\">\n",
       "      <th></th>\n",
       "      <th>store</th>\n",
       "      <th>item</th>\n",
       "      <th>year</th>\n",
       "      <th>month</th>\n",
       "      <th>day</th>\n",
       "    </tr>\n",
       "  </thead>\n",
       "  <tbody>\n",
       "    <tr>\n",
       "      <th>0</th>\n",
       "      <td>1</td>\n",
       "      <td>1</td>\n",
       "      <td>2018</td>\n",
       "      <td>1</td>\n",
       "      <td>0</td>\n",
       "    </tr>\n",
       "    <tr>\n",
       "      <th>1</th>\n",
       "      <td>1</td>\n",
       "      <td>1</td>\n",
       "      <td>2018</td>\n",
       "      <td>1</td>\n",
       "      <td>1</td>\n",
       "    </tr>\n",
       "    <tr>\n",
       "      <th>2</th>\n",
       "      <td>1</td>\n",
       "      <td>1</td>\n",
       "      <td>2018</td>\n",
       "      <td>1</td>\n",
       "      <td>2</td>\n",
       "    </tr>\n",
       "    <tr>\n",
       "      <th>3</th>\n",
       "      <td>1</td>\n",
       "      <td>1</td>\n",
       "      <td>2018</td>\n",
       "      <td>1</td>\n",
       "      <td>3</td>\n",
       "    </tr>\n",
       "    <tr>\n",
       "      <th>4</th>\n",
       "      <td>1</td>\n",
       "      <td>1</td>\n",
       "      <td>2018</td>\n",
       "      <td>1</td>\n",
       "      <td>4</td>\n",
       "    </tr>\n",
       "    <tr>\n",
       "      <th>...</th>\n",
       "      <td>...</td>\n",
       "      <td>...</td>\n",
       "      <td>...</td>\n",
       "      <td>...</td>\n",
       "      <td>...</td>\n",
       "    </tr>\n",
       "    <tr>\n",
       "      <th>44995</th>\n",
       "      <td>10</td>\n",
       "      <td>50</td>\n",
       "      <td>2018</td>\n",
       "      <td>3</td>\n",
       "      <td>1</td>\n",
       "    </tr>\n",
       "    <tr>\n",
       "      <th>44996</th>\n",
       "      <td>10</td>\n",
       "      <td>50</td>\n",
       "      <td>2018</td>\n",
       "      <td>3</td>\n",
       "      <td>2</td>\n",
       "    </tr>\n",
       "    <tr>\n",
       "      <th>44997</th>\n",
       "      <td>10</td>\n",
       "      <td>50</td>\n",
       "      <td>2018</td>\n",
       "      <td>3</td>\n",
       "      <td>3</td>\n",
       "    </tr>\n",
       "    <tr>\n",
       "      <th>44998</th>\n",
       "      <td>10</td>\n",
       "      <td>50</td>\n",
       "      <td>2018</td>\n",
       "      <td>3</td>\n",
       "      <td>4</td>\n",
       "    </tr>\n",
       "    <tr>\n",
       "      <th>44999</th>\n",
       "      <td>10</td>\n",
       "      <td>50</td>\n",
       "      <td>2018</td>\n",
       "      <td>3</td>\n",
       "      <td>5</td>\n",
       "    </tr>\n",
       "  </tbody>\n",
       "</table>\n",
       "<p>45000 rows × 5 columns</p>\n",
       "</div>"
      ],
      "text/plain": [
       "       store  item  year  month  day\n",
       "0          1     1  2018      1    0\n",
       "1          1     1  2018      1    1\n",
       "2          1     1  2018      1    2\n",
       "3          1     1  2018      1    3\n",
       "4          1     1  2018      1    4\n",
       "...      ...   ...   ...    ...  ...\n",
       "44995     10    50  2018      3    1\n",
       "44996     10    50  2018      3    2\n",
       "44997     10    50  2018      3    3\n",
       "44998     10    50  2018      3    4\n",
       "44999     10    50  2018      3    5\n",
       "\n",
       "[45000 rows x 5 columns]"
      ]
     },
     "execution_count": 15,
     "metadata": {},
     "output_type": "execute_result"
    }
   ],
   "source": [
    "test_df"
   ]
  },
  {
   "cell_type": "code",
   "execution_count": 16,
   "metadata": {
    "colab": {
     "base_uri": "https://localhost:8080/"
    },
    "executionInfo": {
     "elapsed": 316,
     "status": "ok",
     "timestamp": 1644778346269,
     "user": {
      "displayName": "andrel",
      "photoUrl": "https://lh3.googleusercontent.com/a-/AOh14GhJHrQmI0O_j6I_y6ptXfC7DmRsvh9q4PkYKC9uRg=s64",
      "userId": "01083842325601129049"
     },
     "user_tz": -480
    },
    "id": "iHvD3jDPbcyy",
    "outputId": "80443743-1690-465b-ad4f-2c653e24d7b4"
   },
   "outputs": [
    {
     "name": "stdout",
     "output_type": "stream",
     "text": [
      "(868000, 5) (45000, 5) (45000, 5)\n"
     ]
    }
   ],
   "source": [
    "print(train.shape, val.shape, test_df.shape)"
   ]
  },
  {
   "cell_type": "code",
   "execution_count": 17,
   "metadata": {
    "id": "tjlI2HE7qvlh"
   },
   "outputs": [],
   "source": [
    "def regression_report(y_true, y_pred):\n",
    "    metrics = [('SMAPE', (100/len(y_pred) * np.sum(2 * np.abs(y_true - y_pred) / (np.abs(y_pred) + np.abs(y_true))))),\n",
    "               ('MAE', mean_absolute_error(y_true, y_pred)),\n",
    "               ('Median Absolute Error', median_absolute_error(y_true, y_pred)),\n",
    "               ('Mean Squared Error', mean_squared_error(y_true, y_pred)),\n",
    "               ('Max Error', max_error(y_true, y_pred)),\n",
    "               ('R2 Score', r2_score(y_true, y_pred)),\n",
    "               ('Explained Variance Score', explained_variance_score(y_true, y_pred))]\n",
    "\n",
    "    # Init scoring metrics\n",
    "    regression_report_df = pd.DataFrame(columns=['Metric Name', 'Score'])\n",
    "    dfs = []\n",
    "    for name, score in metrics:\n",
    "        df = pd.DataFrame([[name, score]], columns=['Metric Name', 'Score'])\n",
    "        dfs.append(df)\n",
    "    regression_report_df = pd.concat(dfs, ignore_index=True)\n",
    "              \n",
    "    return regression_report_df"
   ]
  },
  {
   "cell_type": "markdown",
   "metadata": {
    "id": "EF-sUZd6MsYn"
   },
   "source": [
    "## Catboost"
   ]
  },
  {
   "cell_type": "code",
   "execution_count": 18,
   "metadata": {
    "colab": {
     "base_uri": "https://localhost:8080/"
    },
    "executionInfo": {
     "elapsed": 29346,
     "status": "ok",
     "timestamp": 1644743099603,
     "user": {
      "displayName": "andrel",
      "photoUrl": "https://lh3.googleusercontent.com/a-/AOh14GhJHrQmI0O_j6I_y6ptXfC7DmRsvh9q4PkYKC9uRg=s64",
      "userId": "01083842325601129049"
     },
     "user_tz": -480
    },
    "id": "1IpOMwBmMtzq",
    "outputId": "2b7976c7-048c-4c98-d591-6ec0aaf11e56"
   },
   "outputs": [
    {
     "name": "stderr",
     "output_type": "stream",
     "text": [
      "C:\\Users\\nct\\anaconda3\\lib\\site-packages\\xgboost\\compat.py:36: FutureWarning: pandas.Int64Index is deprecated and will be removed from pandas in a future version. Use pandas.Index with the appropriate dtype instead.\n",
      "  from pandas import MultiIndex, Int64Index\n"
     ]
    },
    {
     "name": "stdout",
     "output_type": "stream",
     "text": [
      "0:\tlearn: 25.5508294\ttest: 22.0294744\tbest: 22.0294744 (0)\ttotal: 298ms\tremaining: 59.2s\n",
      "1:\tlearn: 23.5569327\ttest: 20.0034748\tbest: 20.0034748 (1)\ttotal: 403ms\tremaining: 39.9s\n",
      "2:\tlearn: 21.9270142\ttest: 18.7698309\tbest: 18.7698309 (2)\ttotal: 507ms\tremaining: 33.3s\n",
      "3:\tlearn: 20.8556084\ttest: 17.8652701\tbest: 17.8652701 (3)\ttotal: 628ms\tremaining: 30.8s\n",
      "4:\tlearn: 19.8948580\ttest: 17.1182411\tbest: 17.1182411 (4)\ttotal: 760ms\tremaining: 29.6s\n",
      "5:\tlearn: 18.9128838\ttest: 16.1631390\tbest: 16.1631390 (5)\ttotal: 920ms\tremaining: 29.7s\n",
      "6:\tlearn: 18.1926212\ttest: 15.4094859\tbest: 15.4094859 (6)\ttotal: 1.17s\tremaining: 32.2s\n",
      "7:\tlearn: 17.6572749\ttest: 14.9678126\tbest: 14.9678126 (7)\ttotal: 1.33s\tremaining: 31.9s\n",
      "8:\tlearn: 16.4071182\ttest: 13.7564503\tbest: 13.7564503 (8)\ttotal: 1.48s\tremaining: 31.4s\n",
      "9:\tlearn: 15.3101600\ttest: 12.6974150\tbest: 12.6974150 (9)\ttotal: 1.61s\tremaining: 30.5s\n",
      "10:\tlearn: 14.5357008\ttest: 11.9557628\tbest: 11.9557628 (10)\ttotal: 1.73s\tremaining: 29.7s\n",
      "11:\tlearn: 14.0640542\ttest: 11.4494657\tbest: 11.4494657 (11)\ttotal: 1.85s\tremaining: 29s\n",
      "12:\tlearn: 13.6168678\ttest: 11.1725844\tbest: 11.1725844 (12)\ttotal: 1.98s\tremaining: 28.4s\n",
      "13:\tlearn: 13.2161938\ttest: 10.7483398\tbest: 10.7483398 (13)\ttotal: 2.1s\tremaining: 28s\n",
      "14:\tlearn: 12.8978179\ttest: 10.4263809\tbest: 10.4263809 (14)\ttotal: 2.23s\tremaining: 27.5s\n",
      "15:\tlearn: 12.4490891\ttest: 9.9908123\tbest: 9.9908123 (15)\ttotal: 2.36s\tremaining: 27.1s\n",
      "16:\tlearn: 12.2544547\ttest: 9.8095755\tbest: 9.8095755 (16)\ttotal: 2.5s\tremaining: 26.9s\n",
      "17:\tlearn: 12.0163442\ttest: 9.6696275\tbest: 9.6696275 (17)\ttotal: 2.78s\tremaining: 28.1s\n",
      "18:\tlearn: 11.6899645\ttest: 9.3994931\tbest: 9.3994931 (18)\ttotal: 2.92s\tremaining: 27.8s\n",
      "19:\tlearn: 11.5065383\ttest: 9.3192498\tbest: 9.3192498 (19)\ttotal: 3.08s\tremaining: 27.8s\n",
      "20:\tlearn: 10.9744570\ttest: 9.1046895\tbest: 9.1046895 (20)\ttotal: 3.47s\tremaining: 29.6s\n",
      "21:\tlearn: 10.8559107\ttest: 9.0480802\tbest: 9.0480802 (21)\ttotal: 3.7s\tremaining: 29.9s\n",
      "22:\tlearn: 10.5493797\ttest: 8.7601522\tbest: 8.7601522 (22)\ttotal: 3.87s\tremaining: 29.8s\n",
      "23:\tlearn: 10.4209019\ttest: 8.6295370\tbest: 8.6295370 (23)\ttotal: 4.03s\tremaining: 29.6s\n",
      "24:\tlearn: 10.1635878\ttest: 8.4140861\tbest: 8.4140861 (24)\ttotal: 4.17s\tremaining: 29.2s\n",
      "25:\tlearn: 10.0200540\ttest: 8.3118129\tbest: 8.3118129 (25)\ttotal: 4.3s\tremaining: 28.8s\n",
      "26:\tlearn: 9.9474236\ttest: 8.2983466\tbest: 8.2983466 (26)\ttotal: 4.44s\tremaining: 28.5s\n",
      "27:\tlearn: 9.8002590\ttest: 8.2002396\tbest: 8.2002396 (27)\ttotal: 4.57s\tremaining: 28s\n",
      "28:\tlearn: 9.6654485\ttest: 8.1117757\tbest: 8.1117757 (28)\ttotal: 4.69s\tremaining: 27.7s\n",
      "29:\tlearn: 9.5248449\ttest: 8.0321100\tbest: 8.0321100 (29)\ttotal: 4.84s\tremaining: 27.4s\n",
      "30:\tlearn: 9.4644241\ttest: 7.9920350\tbest: 7.9920350 (30)\ttotal: 4.98s\tremaining: 27.2s\n",
      "31:\tlearn: 9.3550574\ttest: 7.9174102\tbest: 7.9174102 (31)\ttotal: 5.13s\tremaining: 26.9s\n",
      "32:\tlearn: 9.3188837\ttest: 7.9135014\tbest: 7.9135014 (32)\ttotal: 5.28s\tremaining: 26.7s\n",
      "33:\tlearn: 9.1817931\ttest: 7.8803309\tbest: 7.8803309 (33)\ttotal: 5.41s\tremaining: 26.4s\n",
      "34:\tlearn: 9.1170941\ttest: 7.8584675\tbest: 7.8584675 (34)\ttotal: 5.56s\tremaining: 26.2s\n",
      "35:\tlearn: 9.0678239\ttest: 7.8548602\tbest: 7.8548602 (35)\ttotal: 5.73s\tremaining: 26.1s\n",
      "36:\tlearn: 8.9241683\ttest: 7.7364034\tbest: 7.7364034 (36)\ttotal: 5.89s\tremaining: 25.9s\n",
      "37:\tlearn: 8.8772856\ttest: 7.7081629\tbest: 7.7081629 (37)\ttotal: 6.03s\tremaining: 25.7s\n",
      "38:\tlearn: 8.8467169\ttest: 7.6842887\tbest: 7.6842887 (38)\ttotal: 6.16s\tremaining: 25.4s\n",
      "39:\tlearn: 8.7777544\ttest: 7.6538386\tbest: 7.6538386 (39)\ttotal: 6.32s\tremaining: 25.3s\n",
      "40:\tlearn: 8.7113652\ttest: 7.6431474\tbest: 7.6431474 (40)\ttotal: 6.5s\tremaining: 25.2s\n",
      "41:\tlearn: 8.6483795\ttest: 7.6029331\tbest: 7.6029331 (41)\ttotal: 6.64s\tremaining: 25s\n",
      "42:\tlearn: 8.5785422\ttest: 7.5557758\tbest: 7.5557758 (42)\ttotal: 6.78s\tremaining: 24.7s\n",
      "43:\tlearn: 8.5509103\ttest: 7.5444313\tbest: 7.5444313 (43)\ttotal: 6.9s\tremaining: 24.5s\n",
      "44:\tlearn: 8.4797247\ttest: 7.5007067\tbest: 7.5007067 (44)\ttotal: 7.03s\tremaining: 24.2s\n",
      "45:\tlearn: 8.4506532\ttest: 7.4915491\tbest: 7.4915491 (45)\ttotal: 7.16s\tremaining: 24s\n",
      "46:\tlearn: 8.4243268\ttest: 7.4888400\tbest: 7.4888400 (46)\ttotal: 7.3s\tremaining: 23.8s\n",
      "47:\tlearn: 8.3925038\ttest: 7.4683962\tbest: 7.4683962 (47)\ttotal: 7.45s\tremaining: 23.6s\n",
      "48:\tlearn: 8.3282166\ttest: 7.4175208\tbest: 7.4175208 (48)\ttotal: 7.59s\tremaining: 23.4s\n",
      "49:\tlearn: 8.2974059\ttest: 7.4005656\tbest: 7.4005656 (49)\ttotal: 7.72s\tremaining: 23.2s\n",
      "50:\tlearn: 8.2637827\ttest: 7.3928305\tbest: 7.3928305 (50)\ttotal: 7.86s\tremaining: 23s\n",
      "51:\tlearn: 8.2088182\ttest: 7.3865471\tbest: 7.3865471 (51)\ttotal: 7.98s\tremaining: 22.7s\n",
      "52:\tlearn: 8.1937881\ttest: 7.3771522\tbest: 7.3771522 (52)\ttotal: 8.11s\tremaining: 22.5s\n",
      "53:\tlearn: 8.1819552\ttest: 7.3661563\tbest: 7.3661563 (53)\ttotal: 8.25s\tremaining: 22.3s\n",
      "54:\tlearn: 8.1679219\ttest: 7.3605454\tbest: 7.3605454 (54)\ttotal: 8.38s\tremaining: 22.1s\n",
      "55:\tlearn: 8.1338431\ttest: 7.3477119\tbest: 7.3477119 (55)\ttotal: 8.5s\tremaining: 21.9s\n",
      "56:\tlearn: 8.1113866\ttest: 7.3446069\tbest: 7.3446069 (56)\ttotal: 8.62s\tremaining: 21.6s\n",
      "57:\tlearn: 8.0897406\ttest: 7.3333088\tbest: 7.3333088 (57)\ttotal: 8.74s\tremaining: 21.4s\n",
      "58:\tlearn: 8.0815492\ttest: 7.3248699\tbest: 7.3248699 (58)\ttotal: 8.87s\tremaining: 21.2s\n",
      "59:\tlearn: 8.0339029\ttest: 7.2774834\tbest: 7.2774834 (59)\ttotal: 9.01s\tremaining: 21s\n",
      "60:\tlearn: 7.9935234\ttest: 7.2417680\tbest: 7.2417680 (60)\ttotal: 9.16s\tremaining: 20.9s\n",
      "61:\tlearn: 7.9737949\ttest: 7.2320961\tbest: 7.2320961 (61)\ttotal: 9.3s\tremaining: 20.7s\n",
      "62:\tlearn: 7.9569319\ttest: 7.2217012\tbest: 7.2217012 (62)\ttotal: 9.43s\tremaining: 20.5s\n",
      "63:\tlearn: 7.9379327\ttest: 7.2026295\tbest: 7.2026295 (63)\ttotal: 9.56s\tremaining: 20.3s\n",
      "64:\tlearn: 7.9290882\ttest: 7.2004111\tbest: 7.2004111 (64)\ttotal: 9.69s\tremaining: 20.1s\n",
      "65:\tlearn: 7.9159771\ttest: 7.1926422\tbest: 7.1926422 (65)\ttotal: 9.9s\tremaining: 20.1s\n",
      "66:\tlearn: 7.8958991\ttest: 7.1836206\tbest: 7.1836206 (66)\ttotal: 10.1s\tremaining: 20s\n",
      "67:\tlearn: 7.8670086\ttest: 7.1676824\tbest: 7.1676824 (67)\ttotal: 10.2s\tremaining: 19.8s\n",
      "68:\tlearn: 7.8381629\ttest: 7.1636592\tbest: 7.1636592 (68)\ttotal: 10.3s\tremaining: 19.6s\n",
      "69:\tlearn: 7.8315783\ttest: 7.1549797\tbest: 7.1549797 (69)\ttotal: 10.5s\tremaining: 19.4s\n",
      "70:\tlearn: 7.8101501\ttest: 7.1417215\tbest: 7.1417215 (70)\ttotal: 10.6s\tremaining: 19.2s\n",
      "71:\tlearn: 7.8002918\ttest: 7.1339707\tbest: 7.1339707 (71)\ttotal: 10.7s\tremaining: 19s\n",
      "72:\tlearn: 7.7897662\ttest: 7.1252362\tbest: 7.1252362 (72)\ttotal: 10.9s\tremaining: 19s\n",
      "73:\tlearn: 7.7826142\ttest: 7.1222543\tbest: 7.1222543 (73)\ttotal: 11.1s\tremaining: 18.9s\n",
      "74:\tlearn: 7.7626136\ttest: 7.1080617\tbest: 7.1080617 (74)\ttotal: 11.3s\tremaining: 18.8s\n",
      "75:\tlearn: 7.7544941\ttest: 7.1093722\tbest: 7.1080617 (74)\ttotal: 11.4s\tremaining: 18.6s\n",
      "76:\tlearn: 7.7265580\ttest: 7.0815701\tbest: 7.0815701 (76)\ttotal: 11.7s\tremaining: 18.6s\n",
      "77:\tlearn: 7.7112015\ttest: 7.0702749\tbest: 7.0702749 (77)\ttotal: 11.8s\tremaining: 18.5s\n",
      "78:\tlearn: 7.6914760\ttest: 7.0653659\tbest: 7.0653659 (78)\ttotal: 12s\tremaining: 18.4s\n",
      "79:\tlearn: 7.6799401\ttest: 7.0582906\tbest: 7.0582906 (79)\ttotal: 12.1s\tremaining: 18.1s\n",
      "80:\tlearn: 7.6643100\ttest: 7.0476774\tbest: 7.0476774 (80)\ttotal: 12.2s\tremaining: 17.9s\n",
      "81:\tlearn: 7.6523086\ttest: 7.0423405\tbest: 7.0423405 (81)\ttotal: 12.3s\tremaining: 17.7s\n",
      "82:\tlearn: 7.6492557\ttest: 7.0428711\tbest: 7.0423405 (81)\ttotal: 12.4s\tremaining: 17.5s\n",
      "83:\tlearn: 7.6415962\ttest: 7.0393400\tbest: 7.0393400 (83)\ttotal: 12.5s\tremaining: 17.3s\n",
      "84:\tlearn: 7.6365218\ttest: 7.0367511\tbest: 7.0367511 (84)\ttotal: 12.6s\tremaining: 17.1s\n",
      "85:\tlearn: 7.6326805\ttest: 7.0376521\tbest: 7.0367511 (84)\ttotal: 12.7s\tremaining: 16.9s\n",
      "86:\tlearn: 7.6211975\ttest: 7.0303281\tbest: 7.0303281 (86)\ttotal: 12.8s\tremaining: 16.7s\n",
      "87:\tlearn: 7.6158817\ttest: 7.0303470\tbest: 7.0303281 (86)\ttotal: 13s\tremaining: 16.5s\n",
      "88:\tlearn: 7.5959648\ttest: 7.0203054\tbest: 7.0203054 (88)\ttotal: 13.1s\tremaining: 16.4s\n",
      "89:\tlearn: 7.5867404\ttest: 7.0155954\tbest: 7.0155954 (89)\ttotal: 13.3s\tremaining: 16.2s\n",
      "90:\tlearn: 7.5715536\ttest: 6.9994254\tbest: 6.9994254 (90)\ttotal: 13.4s\tremaining: 16s\n",
      "91:\tlearn: 7.5642180\ttest: 6.9924901\tbest: 6.9924901 (91)\ttotal: 13.5s\tremaining: 15.9s\n",
      "92:\tlearn: 7.5538039\ttest: 6.9908173\tbest: 6.9908173 (92)\ttotal: 13.6s\tremaining: 15.7s\n",
      "93:\tlearn: 7.5431854\ttest: 6.9827922\tbest: 6.9827922 (93)\ttotal: 13.8s\tremaining: 15.6s\n",
      "94:\tlearn: 7.5366146\ttest: 6.9770941\tbest: 6.9770941 (94)\ttotal: 13.9s\tremaining: 15.4s\n"
     ]
    },
    {
     "name": "stdout",
     "output_type": "stream",
     "text": [
      "95:\tlearn: 7.5336343\ttest: 6.9769120\tbest: 6.9769120 (95)\ttotal: 14.1s\tremaining: 15.3s\n",
      "96:\tlearn: 7.5277992\ttest: 6.9762160\tbest: 6.9762160 (96)\ttotal: 14.2s\tremaining: 15.1s\n",
      "97:\tlearn: 7.5234872\ttest: 6.9710952\tbest: 6.9710952 (97)\ttotal: 14.3s\tremaining: 14.9s\n",
      "98:\tlearn: 7.5167481\ttest: 6.9675198\tbest: 6.9675198 (98)\ttotal: 14.5s\tremaining: 14.8s\n",
      "99:\tlearn: 7.5085112\ttest: 6.9646289\tbest: 6.9646289 (99)\ttotal: 14.7s\tremaining: 14.7s\n",
      "100:\tlearn: 7.5027549\ttest: 6.9665325\tbest: 6.9646289 (99)\ttotal: 14.8s\tremaining: 14.5s\n",
      "101:\tlearn: 7.4978205\ttest: 6.9649231\tbest: 6.9646289 (99)\ttotal: 15s\tremaining: 14.4s\n",
      "102:\tlearn: 7.4922063\ttest: 6.9614589\tbest: 6.9614589 (102)\ttotal: 15.1s\tremaining: 14.2s\n",
      "103:\tlearn: 7.4882166\ttest: 6.9617693\tbest: 6.9614589 (102)\ttotal: 15.2s\tremaining: 14.1s\n",
      "104:\tlearn: 7.4828752\ttest: 6.9605668\tbest: 6.9605668 (104)\ttotal: 15.4s\tremaining: 13.9s\n",
      "105:\tlearn: 7.4776112\ttest: 6.9595626\tbest: 6.9595626 (105)\ttotal: 15.6s\tremaining: 13.8s\n",
      "106:\tlearn: 7.4673875\ttest: 6.9521739\tbest: 6.9521739 (106)\ttotal: 15.7s\tremaining: 13.7s\n",
      "107:\tlearn: 7.4638186\ttest: 6.9520605\tbest: 6.9520605 (107)\ttotal: 15.9s\tremaining: 13.5s\n",
      "108:\tlearn: 7.4610384\ttest: 6.9538643\tbest: 6.9520605 (107)\ttotal: 16s\tremaining: 13.3s\n",
      "109:\tlearn: 7.4597620\ttest: 6.9517860\tbest: 6.9517860 (109)\ttotal: 16.1s\tremaining: 13.2s\n",
      "110:\tlearn: 7.4562742\ttest: 6.9542549\tbest: 6.9517860 (109)\ttotal: 16.2s\tremaining: 13s\n",
      "111:\tlearn: 7.4529345\ttest: 6.9528759\tbest: 6.9517860 (109)\ttotal: 16.3s\tremaining: 12.8s\n",
      "112:\tlearn: 7.4497736\ttest: 6.9483301\tbest: 6.9483301 (112)\ttotal: 16.4s\tremaining: 12.7s\n",
      "113:\tlearn: 7.4481902\ttest: 6.9468021\tbest: 6.9468021 (113)\ttotal: 16.6s\tremaining: 12.5s\n",
      "114:\tlearn: 7.4456964\ttest: 6.9439647\tbest: 6.9439647 (114)\ttotal: 16.7s\tremaining: 12.3s\n",
      "115:\tlearn: 7.4431500\ttest: 6.9469745\tbest: 6.9439647 (114)\ttotal: 16.8s\tremaining: 12.2s\n",
      "116:\tlearn: 7.4407215\ttest: 6.9437930\tbest: 6.9437930 (116)\ttotal: 16.9s\tremaining: 12s\n",
      "117:\tlearn: 7.4376524\ttest: 6.9421999\tbest: 6.9421999 (117)\ttotal: 17s\tremaining: 11.8s\n",
      "118:\tlearn: 7.4335381\ttest: 6.9409746\tbest: 6.9409746 (118)\ttotal: 17.2s\tremaining: 11.7s\n",
      "119:\tlearn: 7.4300306\ttest: 6.9382202\tbest: 6.9382202 (119)\ttotal: 17.3s\tremaining: 11.5s\n",
      "120:\tlearn: 7.4279912\ttest: 6.9400135\tbest: 6.9382202 (119)\ttotal: 17.5s\tremaining: 11.4s\n",
      "121:\tlearn: 7.4188715\ttest: 6.9362328\tbest: 6.9362328 (121)\ttotal: 17.6s\tremaining: 11.3s\n",
      "122:\tlearn: 7.4147522\ttest: 6.9334816\tbest: 6.9334816 (122)\ttotal: 17.8s\tremaining: 11.1s\n",
      "123:\tlearn: 7.4124504\ttest: 6.9321083\tbest: 6.9321083 (123)\ttotal: 17.9s\tremaining: 11s\n",
      "124:\tlearn: 7.4080378\ttest: 6.9299307\tbest: 6.9299307 (124)\ttotal: 18.1s\tremaining: 10.8s\n",
      "125:\tlearn: 7.4043375\ttest: 6.9279036\tbest: 6.9279036 (125)\ttotal: 18.2s\tremaining: 10.7s\n",
      "126:\tlearn: 7.4000368\ttest: 6.9267205\tbest: 6.9267205 (126)\ttotal: 18.3s\tremaining: 10.5s\n",
      "127:\tlearn: 7.3953993\ttest: 6.9257923\tbest: 6.9257923 (127)\ttotal: 18.4s\tremaining: 10.4s\n",
      "128:\tlearn: 7.3926663\ttest: 6.9263944\tbest: 6.9257923 (127)\ttotal: 18.6s\tremaining: 10.2s\n",
      "129:\tlearn: 7.3911252\ttest: 6.9249207\tbest: 6.9249207 (129)\ttotal: 18.7s\tremaining: 10.1s\n",
      "130:\tlearn: 7.3860399\ttest: 6.9229111\tbest: 6.9229111 (130)\ttotal: 18.8s\tremaining: 9.92s\n",
      "131:\tlearn: 7.3843445\ttest: 6.9198544\tbest: 6.9198544 (131)\ttotal: 19s\tremaining: 9.76s\n",
      "132:\tlearn: 7.3824991\ttest: 6.9197299\tbest: 6.9197299 (132)\ttotal: 19.1s\tremaining: 9.61s\n",
      "133:\tlearn: 7.3787456\ttest: 6.9171390\tbest: 6.9171390 (133)\ttotal: 19.2s\tremaining: 9.46s\n",
      "134:\tlearn: 7.3775477\ttest: 6.9157494\tbest: 6.9157494 (134)\ttotal: 19.3s\tremaining: 9.31s\n",
      "135:\tlearn: 7.3755385\ttest: 6.9142066\tbest: 6.9142066 (135)\ttotal: 19.5s\tremaining: 9.19s\n",
      "136:\tlearn: 7.3736176\ttest: 6.9126402\tbest: 6.9126402 (136)\ttotal: 19.7s\tremaining: 9.06s\n",
      "137:\tlearn: 7.3707892\ttest: 6.9088413\tbest: 6.9088413 (137)\ttotal: 19.8s\tremaining: 8.91s\n",
      "138:\tlearn: 7.3688731\ttest: 6.9074628\tbest: 6.9074628 (138)\ttotal: 20s\tremaining: 8.76s\n",
      "139:\tlearn: 7.3675562\ttest: 6.9050876\tbest: 6.9050876 (139)\ttotal: 20.1s\tremaining: 8.61s\n",
      "140:\tlearn: 7.3658182\ttest: 6.9026358\tbest: 6.9026358 (140)\ttotal: 20.2s\tremaining: 8.46s\n",
      "141:\tlearn: 7.3626257\ttest: 6.9007466\tbest: 6.9007466 (141)\ttotal: 20.4s\tremaining: 8.31s\n",
      "142:\tlearn: 7.3585449\ttest: 6.8979407\tbest: 6.8979407 (142)\ttotal: 20.6s\tremaining: 8.21s\n",
      "143:\tlearn: 7.3552611\ttest: 6.8945361\tbest: 6.8945361 (143)\ttotal: 20.8s\tremaining: 8.07s\n",
      "144:\tlearn: 7.3535300\ttest: 6.8933503\tbest: 6.8933503 (144)\ttotal: 21s\tremaining: 7.98s\n",
      "145:\tlearn: 7.3518464\ttest: 6.8924475\tbest: 6.8924475 (145)\ttotal: 21.2s\tremaining: 7.85s\n",
      "146:\tlearn: 7.3507053\ttest: 6.8918208\tbest: 6.8918208 (146)\ttotal: 21.4s\tremaining: 7.71s\n",
      "147:\tlearn: 7.3498334\ttest: 6.8921716\tbest: 6.8918208 (146)\ttotal: 21.6s\tremaining: 7.57s\n",
      "148:\tlearn: 7.3479482\ttest: 6.8922188\tbest: 6.8918208 (146)\ttotal: 21.8s\tremaining: 7.45s\n",
      "149:\tlearn: 7.3455904\ttest: 6.8909640\tbest: 6.8909640 (149)\ttotal: 22s\tremaining: 7.32s\n",
      "150:\tlearn: 7.3439913\ttest: 6.8902388\tbest: 6.8902388 (150)\ttotal: 22.1s\tremaining: 7.18s\n",
      "151:\tlearn: 7.3419416\ttest: 6.8909180\tbest: 6.8902388 (150)\ttotal: 22.3s\tremaining: 7.04s\n",
      "152:\tlearn: 7.3409557\ttest: 6.8905716\tbest: 6.8902388 (150)\ttotal: 22.5s\tremaining: 6.9s\n",
      "153:\tlearn: 7.3401205\ttest: 6.8908107\tbest: 6.8902388 (150)\ttotal: 22.6s\tremaining: 6.75s\n",
      "154:\tlearn: 7.3388737\ttest: 6.8889165\tbest: 6.8889165 (154)\ttotal: 22.8s\tremaining: 6.61s\n",
      "155:\tlearn: 7.3371452\ttest: 6.8889606\tbest: 6.8889165 (154)\ttotal: 22.9s\tremaining: 6.46s\n",
      "156:\tlearn: 7.3353811\ttest: 6.8879113\tbest: 6.8879113 (156)\ttotal: 23s\tremaining: 6.31s\n",
      "157:\tlearn: 7.3340737\ttest: 6.8875220\tbest: 6.8875220 (157)\ttotal: 23.2s\tremaining: 6.16s\n",
      "158:\tlearn: 7.3331594\ttest: 6.8859910\tbest: 6.8859910 (158)\ttotal: 23.3s\tremaining: 6.01s\n",
      "159:\tlearn: 7.3317237\ttest: 6.8852695\tbest: 6.8852695 (159)\ttotal: 23.4s\tremaining: 5.86s\n",
      "160:\tlearn: 7.3304132\ttest: 6.8847913\tbest: 6.8847913 (160)\ttotal: 23.6s\tremaining: 5.71s\n",
      "161:\tlearn: 7.3296057\ttest: 6.8848171\tbest: 6.8847913 (160)\ttotal: 23.7s\tremaining: 5.56s\n",
      "162:\tlearn: 7.3288834\ttest: 6.8846620\tbest: 6.8846620 (162)\ttotal: 23.9s\tremaining: 5.41s\n",
      "163:\tlearn: 7.3282652\ttest: 6.8845236\tbest: 6.8845236 (163)\ttotal: 24s\tremaining: 5.28s\n",
      "164:\tlearn: 7.3270501\ttest: 6.8838135\tbest: 6.8838135 (164)\ttotal: 24.2s\tremaining: 5.14s\n",
      "165:\tlearn: 7.3252080\ttest: 6.8821220\tbest: 6.8821220 (165)\ttotal: 24.4s\tremaining: 5s\n",
      "166:\tlearn: 7.3243773\ttest: 6.8831961\tbest: 6.8821220 (165)\ttotal: 24.6s\tremaining: 4.86s\n",
      "167:\tlearn: 7.3218255\ttest: 6.8823337\tbest: 6.8821220 (165)\ttotal: 24.7s\tremaining: 4.71s\n",
      "168:\tlearn: 7.3206783\ttest: 6.8804522\tbest: 6.8804522 (168)\ttotal: 24.9s\tremaining: 4.56s\n",
      "169:\tlearn: 7.3193238\ttest: 6.8801343\tbest: 6.8801343 (169)\ttotal: 25s\tremaining: 4.41s\n",
      "170:\tlearn: 7.3179858\ttest: 6.8797726\tbest: 6.8797726 (170)\ttotal: 25.1s\tremaining: 4.26s\n",
      "171:\tlearn: 7.3168936\ttest: 6.8793837\tbest: 6.8793837 (171)\ttotal: 25.3s\tremaining: 4.12s\n",
      "172:\tlearn: 7.3163920\ttest: 6.8789003\tbest: 6.8789003 (172)\ttotal: 25.5s\tremaining: 3.97s\n",
      "173:\tlearn: 7.3154471\ttest: 6.8777223\tbest: 6.8777223 (173)\ttotal: 25.6s\tremaining: 3.83s\n",
      "174:\tlearn: 7.3144496\ttest: 6.8774015\tbest: 6.8774015 (174)\ttotal: 25.8s\tremaining: 3.68s\n",
      "175:\tlearn: 7.3136577\ttest: 6.8764112\tbest: 6.8764112 (175)\ttotal: 25.9s\tremaining: 3.53s\n",
      "176:\tlearn: 7.3129338\ttest: 6.8767402\tbest: 6.8764112 (175)\ttotal: 26.1s\tremaining: 3.38s\n",
      "177:\tlearn: 7.3121554\ttest: 6.8765771\tbest: 6.8764112 (175)\ttotal: 26.2s\tremaining: 3.24s\n",
      "178:\tlearn: 7.3105584\ttest: 6.8762057\tbest: 6.8762057 (178)\ttotal: 26.3s\tremaining: 3.09s\n",
      "179:\tlearn: 7.3098934\ttest: 6.8764605\tbest: 6.8762057 (178)\ttotal: 26.5s\tremaining: 2.94s\n",
      "180:\tlearn: 7.3086895\ttest: 6.8768785\tbest: 6.8762057 (178)\ttotal: 26.6s\tremaining: 2.79s\n",
      "181:\tlearn: 7.3072513\ttest: 6.8771007\tbest: 6.8762057 (178)\ttotal: 26.7s\tremaining: 2.64s\n",
      "182:\tlearn: 7.3065699\ttest: 6.8758385\tbest: 6.8758385 (182)\ttotal: 26.9s\tremaining: 2.5s\n",
      "183:\tlearn: 7.3058900\ttest: 6.8755687\tbest: 6.8755687 (183)\ttotal: 27s\tremaining: 2.35s\n",
      "184:\tlearn: 7.3050793\ttest: 6.8752801\tbest: 6.8752801 (184)\ttotal: 27.1s\tremaining: 2.2s\n",
      "185:\tlearn: 7.3045336\ttest: 6.8750646\tbest: 6.8750646 (185)\ttotal: 27.3s\tremaining: 2.05s\n",
      "186:\tlearn: 7.3037525\ttest: 6.8755237\tbest: 6.8750646 (185)\ttotal: 27.4s\tremaining: 1.91s\n"
     ]
    },
    {
     "name": "stdout",
     "output_type": "stream",
     "text": [
      "187:\tlearn: 7.3031546\ttest: 6.8756380\tbest: 6.8750646 (185)\ttotal: 27.5s\tremaining: 1.76s\n",
      "188:\tlearn: 7.3015616\ttest: 6.8750965\tbest: 6.8750646 (185)\ttotal: 27.7s\tremaining: 1.61s\n",
      "189:\tlearn: 7.3007113\ttest: 6.8747082\tbest: 6.8747082 (189)\ttotal: 27.8s\tremaining: 1.46s\n",
      "190:\tlearn: 7.2999543\ttest: 6.8744921\tbest: 6.8744921 (190)\ttotal: 28s\tremaining: 1.32s\n",
      "191:\tlearn: 7.2988630\ttest: 6.8743118\tbest: 6.8743118 (191)\ttotal: 28.1s\tremaining: 1.17s\n",
      "192:\tlearn: 7.2974087\ttest: 6.8738520\tbest: 6.8738520 (192)\ttotal: 28.2s\tremaining: 1.02s\n",
      "193:\tlearn: 7.2967245\ttest: 6.8733259\tbest: 6.8733259 (193)\ttotal: 28.4s\tremaining: 877ms\n",
      "194:\tlearn: 7.2957456\ttest: 6.8726316\tbest: 6.8726316 (194)\ttotal: 28.5s\tremaining: 731ms\n",
      "195:\tlearn: 7.2953455\ttest: 6.8723888\tbest: 6.8723888 (195)\ttotal: 28.6s\tremaining: 584ms\n",
      "196:\tlearn: 7.2946150\ttest: 6.8723623\tbest: 6.8723623 (196)\ttotal: 28.8s\tremaining: 438ms\n",
      "197:\tlearn: 7.2936375\ttest: 6.8723975\tbest: 6.8723623 (196)\ttotal: 28.9s\tremaining: 292ms\n",
      "198:\tlearn: 7.2927152\ttest: 6.8722440\tbest: 6.8722440 (198)\ttotal: 29.1s\tremaining: 146ms\n",
      "199:\tlearn: 7.2921339\ttest: 6.8722224\tbest: 6.8722224 (199)\ttotal: 29.2s\tremaining: 0us\n",
      "\n",
      "bestTest = 6.872222397\n",
      "bestIteration = 199\n",
      "\n"
     ]
    },
    {
     "data": {
      "text/plain": [
       "<catboost.core.CatBoostRegressor at 0x2bfa32fb6a0>"
      ]
     },
     "execution_count": 18,
     "metadata": {},
     "output_type": "execute_result"
    }
   ],
   "source": [
    "from catboost import CatBoostRegressor\n",
    "from sklearn.metrics import mean_squared_error as mse\n",
    "\n",
    "model = CatBoostRegressor(max_depth=10, loss_function='RMSE', n_estimators = 200, eta = 0.3, random_seed=1)\n",
    "model.fit(train.values, sales_train.values, verbose=True, early_stopping_rounds = 20, eval_set=(val.values, sales_val.values))"
   ]
  },
  {
   "cell_type": "code",
   "execution_count": 19,
   "metadata": {
    "colab": {
     "base_uri": "https://localhost:8080/",
     "height": 261
    },
    "executionInfo": {
     "elapsed": 15,
     "status": "ok",
     "timestamp": 1644743099605,
     "user": {
      "displayName": "andrel",
      "photoUrl": "https://lh3.googleusercontent.com/a-/AOh14GhJHrQmI0O_j6I_y6ptXfC7DmRsvh9q4PkYKC9uRg=s64",
      "userId": "01083842325601129049"
     },
     "user_tz": -480
    },
    "id": "rUIuWGyHM1dp",
    "outputId": "78475c37-38fb-4016-c86d-7b533512de0a"
   },
   "outputs": [
    {
     "data": {
      "text/html": [
       "<div>\n",
       "<style scoped>\n",
       "    .dataframe tbody tr th:only-of-type {\n",
       "        vertical-align: middle;\n",
       "    }\n",
       "\n",
       "    .dataframe tbody tr th {\n",
       "        vertical-align: top;\n",
       "    }\n",
       "\n",
       "    .dataframe thead th {\n",
       "        text-align: right;\n",
       "    }\n",
       "</style>\n",
       "<table border=\"1\" class=\"dataframe\">\n",
       "  <thead>\n",
       "    <tr style=\"text-align: right;\">\n",
       "      <th></th>\n",
       "      <th>Metric Name</th>\n",
       "      <th>Score</th>\n",
       "    </tr>\n",
       "  </thead>\n",
       "  <tbody>\n",
       "    <tr>\n",
       "      <th>0</th>\n",
       "      <td>SMAPE</td>\n",
       "      <td>13.470677</td>\n",
       "    </tr>\n",
       "    <tr>\n",
       "      <th>1</th>\n",
       "      <td>MAE</td>\n",
       "      <td>5.308890</td>\n",
       "    </tr>\n",
       "    <tr>\n",
       "      <th>2</th>\n",
       "      <td>Median Absolute Error</td>\n",
       "      <td>4.244043</td>\n",
       "    </tr>\n",
       "    <tr>\n",
       "      <th>3</th>\n",
       "      <td>Mean Squared Error</td>\n",
       "      <td>47.227441</td>\n",
       "    </tr>\n",
       "    <tr>\n",
       "      <th>4</th>\n",
       "      <td>Max Error</td>\n",
       "      <td>36.376568</td>\n",
       "    </tr>\n",
       "    <tr>\n",
       "      <th>5</th>\n",
       "      <td>R2 Score</td>\n",
       "      <td>0.916615</td>\n",
       "    </tr>\n",
       "    <tr>\n",
       "      <th>6</th>\n",
       "      <td>Explained Variance Score</td>\n",
       "      <td>0.916844</td>\n",
       "    </tr>\n",
       "  </tbody>\n",
       "</table>\n",
       "</div>"
      ],
      "text/plain": [
       "                Metric Name      Score\n",
       "0                     SMAPE  13.470677\n",
       "1                       MAE   5.308890\n",
       "2     Median Absolute Error   4.244043\n",
       "3        Mean Squared Error  47.227441\n",
       "4                 Max Error  36.376568\n",
       "5                  R2 Score   0.916615\n",
       "6  Explained Variance Score   0.916844"
      ]
     },
     "execution_count": 19,
     "metadata": {},
     "output_type": "execute_result"
    }
   ],
   "source": [
    "y_pred = model.predict(val.values)\n",
    "regression_report(sales_val.values, y_pred)"
   ]
  },
  {
   "cell_type": "code",
   "execution_count": 20,
   "metadata": {
    "colab": {
     "base_uri": "https://localhost:8080/",
     "height": 201
    },
    "executionInfo": {
     "elapsed": 527,
     "status": "ok",
     "timestamp": 1644743100122,
     "user": {
      "displayName": "andrel",
      "photoUrl": "https://lh3.googleusercontent.com/a-/AOh14GhJHrQmI0O_j6I_y6ptXfC7DmRsvh9q4PkYKC9uRg=s64",
      "userId": "01083842325601129049"
     },
     "user_tz": -480
    },
    "id": "t5KdZkShM3Xl",
    "outputId": "8743baca-aa06-4d1e-88f5-77ea9096e5ed"
   },
   "outputs": [
    {
     "data": {
      "text/html": [
       "<div>\n",
       "<style scoped>\n",
       "    .dataframe tbody tr th:only-of-type {\n",
       "        vertical-align: middle;\n",
       "    }\n",
       "\n",
       "    .dataframe tbody tr th {\n",
       "        vertical-align: top;\n",
       "    }\n",
       "\n",
       "    .dataframe thead th {\n",
       "        text-align: right;\n",
       "    }\n",
       "</style>\n",
       "<table border=\"1\" class=\"dataframe\">\n",
       "  <thead>\n",
       "    <tr style=\"text-align: right;\">\n",
       "      <th></th>\n",
       "      <th>id</th>\n",
       "      <th>sales</th>\n",
       "    </tr>\n",
       "  </thead>\n",
       "  <tbody>\n",
       "    <tr>\n",
       "      <th>0</th>\n",
       "      <td>0</td>\n",
       "      <td>12.024849</td>\n",
       "    </tr>\n",
       "    <tr>\n",
       "      <th>1</th>\n",
       "      <td>1</td>\n",
       "      <td>13.822182</td>\n",
       "    </tr>\n",
       "    <tr>\n",
       "      <th>2</th>\n",
       "      <td>2</td>\n",
       "      <td>13.872539</td>\n",
       "    </tr>\n",
       "    <tr>\n",
       "      <th>3</th>\n",
       "      <td>3</td>\n",
       "      <td>14.491420</td>\n",
       "    </tr>\n",
       "    <tr>\n",
       "      <th>4</th>\n",
       "      <td>4</td>\n",
       "      <td>15.831704</td>\n",
       "    </tr>\n",
       "  </tbody>\n",
       "</table>\n",
       "</div>"
      ],
      "text/plain": [
       "   id      sales\n",
       "0   0  12.024849\n",
       "1   1  13.822182\n",
       "2   2  13.872539\n",
       "3   3  14.491420\n",
       "4   4  15.831704"
      ]
     },
     "execution_count": 20,
     "metadata": {},
     "output_type": "execute_result"
    }
   ],
   "source": [
    "y_pred = model.predict(test_df.values)\n",
    "\n",
    "sample_df = pd.read_csv(\"sample_submission.csv\")\n",
    "sample_df['sales'] = y_pred\n",
    "sample_df.to_csv(\"submission_cb.csv\", index=False)\n",
    "sample_df.head()"
   ]
  },
  {
   "cell_type": "markdown",
   "metadata": {
    "id": "-48Fx9hoLHT6"
   },
   "source": [
    "## Decision Tree"
   ]
  },
  {
   "cell_type": "code",
   "execution_count": 21,
   "metadata": {
    "colab": {
     "base_uri": "https://localhost:8080/"
    },
    "executionInfo": {
     "elapsed": 3392,
     "status": "ok",
     "timestamp": 1644740787393,
     "user": {
      "displayName": "andrel",
      "photoUrl": "https://lh3.googleusercontent.com/a-/AOh14GhJHrQmI0O_j6I_y6ptXfC7DmRsvh9q4PkYKC9uRg=s64",
      "userId": "01083842325601129049"
     },
     "user_tz": -480
    },
    "id": "i-wdDSHTLJTy",
    "outputId": "d7f6eff9-ac36-499f-d5c0-27b13d61f05f"
   },
   "outputs": [
    {
     "data": {
      "text/plain": [
       "DecisionTreeRegressor()"
      ]
     },
     "execution_count": 21,
     "metadata": {},
     "output_type": "execute_result"
    }
   ],
   "source": [
    "from sklearn.tree import DecisionTreeRegressor\n",
    "model = DecisionTreeRegressor()\n",
    "model.fit(train.values, sales_train.values)"
   ]
  },
  {
   "cell_type": "code",
   "execution_count": 22,
   "metadata": {
    "colab": {
     "base_uri": "https://localhost:8080/",
     "height": 261
    },
    "executionInfo": {
     "elapsed": 414,
     "status": "ok",
     "timestamp": 1644740790255,
     "user": {
      "displayName": "andrel",
      "photoUrl": "https://lh3.googleusercontent.com/a-/AOh14GhJHrQmI0O_j6I_y6ptXfC7DmRsvh9q4PkYKC9uRg=s64",
      "userId": "01083842325601129049"
     },
     "user_tz": -480
    },
    "id": "uMSrhEV8LLgb",
    "outputId": "95ec9364-0075-4e05-aa11-589ccf28cc18"
   },
   "outputs": [
    {
     "data": {
      "text/html": [
       "<div>\n",
       "<style scoped>\n",
       "    .dataframe tbody tr th:only-of-type {\n",
       "        vertical-align: middle;\n",
       "    }\n",
       "\n",
       "    .dataframe tbody tr th {\n",
       "        vertical-align: top;\n",
       "    }\n",
       "\n",
       "    .dataframe thead th {\n",
       "        text-align: right;\n",
       "    }\n",
       "</style>\n",
       "<table border=\"1\" class=\"dataframe\">\n",
       "  <thead>\n",
       "    <tr style=\"text-align: right;\">\n",
       "      <th></th>\n",
       "      <th>Metric Name</th>\n",
       "      <th>Score</th>\n",
       "    </tr>\n",
       "  </thead>\n",
       "  <tbody>\n",
       "    <tr>\n",
       "      <th>0</th>\n",
       "      <td>SMAPE</td>\n",
       "      <td>14.971560</td>\n",
       "    </tr>\n",
       "    <tr>\n",
       "      <th>1</th>\n",
       "      <td>MAE</td>\n",
       "      <td>5.914089</td>\n",
       "    </tr>\n",
       "    <tr>\n",
       "      <th>2</th>\n",
       "      <td>Median Absolute Error</td>\n",
       "      <td>4.750000</td>\n",
       "    </tr>\n",
       "    <tr>\n",
       "      <th>3</th>\n",
       "      <td>Mean Squared Error</td>\n",
       "      <td>59.487114</td>\n",
       "    </tr>\n",
       "    <tr>\n",
       "      <th>4</th>\n",
       "      <td>Max Error</td>\n",
       "      <td>46.250000</td>\n",
       "    </tr>\n",
       "    <tr>\n",
       "      <th>5</th>\n",
       "      <td>R2 Score</td>\n",
       "      <td>0.894970</td>\n",
       "    </tr>\n",
       "    <tr>\n",
       "      <th>6</th>\n",
       "      <td>Explained Variance Score</td>\n",
       "      <td>0.899911</td>\n",
       "    </tr>\n",
       "  </tbody>\n",
       "</table>\n",
       "</div>"
      ],
      "text/plain": [
       "                Metric Name      Score\n",
       "0                     SMAPE  14.971560\n",
       "1                       MAE   5.914089\n",
       "2     Median Absolute Error   4.750000\n",
       "3        Mean Squared Error  59.487114\n",
       "4                 Max Error  46.250000\n",
       "5                  R2 Score   0.894970\n",
       "6  Explained Variance Score   0.899911"
      ]
     },
     "execution_count": 22,
     "metadata": {},
     "output_type": "execute_result"
    }
   ],
   "source": [
    "y_pred = model.predict(val.values)\n",
    "regression_report(sales_val.values, y_pred)"
   ]
  },
  {
   "cell_type": "code",
   "execution_count": 23,
   "metadata": {
    "colab": {
     "base_uri": "https://localhost:8080/",
     "height": 201
    },
    "executionInfo": {
     "elapsed": 816,
     "status": "ok",
     "timestamp": 1644740794649,
     "user": {
      "displayName": "andrel",
      "photoUrl": "https://lh3.googleusercontent.com/a-/AOh14GhJHrQmI0O_j6I_y6ptXfC7DmRsvh9q4PkYKC9uRg=s64",
      "userId": "01083842325601129049"
     },
     "user_tz": -480
    },
    "id": "dLTa7RmBLMjp",
    "outputId": "765bb6ea-768c-4c12-fe4b-43128471905e"
   },
   "outputs": [
    {
     "data": {
      "text/html": [
       "<div>\n",
       "<style scoped>\n",
       "    .dataframe tbody tr th:only-of-type {\n",
       "        vertical-align: middle;\n",
       "    }\n",
       "\n",
       "    .dataframe tbody tr th {\n",
       "        vertical-align: top;\n",
       "    }\n",
       "\n",
       "    .dataframe thead th {\n",
       "        text-align: right;\n",
       "    }\n",
       "</style>\n",
       "<table border=\"1\" class=\"dataframe\">\n",
       "  <thead>\n",
       "    <tr style=\"text-align: right;\">\n",
       "      <th></th>\n",
       "      <th>id</th>\n",
       "      <th>sales</th>\n",
       "    </tr>\n",
       "  </thead>\n",
       "  <tbody>\n",
       "    <tr>\n",
       "      <th>0</th>\n",
       "      <td>0</td>\n",
       "      <td>10.25</td>\n",
       "    </tr>\n",
       "    <tr>\n",
       "      <th>1</th>\n",
       "      <td>1</td>\n",
       "      <td>15.00</td>\n",
       "    </tr>\n",
       "    <tr>\n",
       "      <th>2</th>\n",
       "      <td>2</td>\n",
       "      <td>13.00</td>\n",
       "    </tr>\n",
       "    <tr>\n",
       "      <th>3</th>\n",
       "      <td>3</td>\n",
       "      <td>14.75</td>\n",
       "    </tr>\n",
       "    <tr>\n",
       "      <th>4</th>\n",
       "      <td>4</td>\n",
       "      <td>15.40</td>\n",
       "    </tr>\n",
       "  </tbody>\n",
       "</table>\n",
       "</div>"
      ],
      "text/plain": [
       "   id  sales\n",
       "0   0  10.25\n",
       "1   1  15.00\n",
       "2   2  13.00\n",
       "3   3  14.75\n",
       "4   4  15.40"
      ]
     },
     "execution_count": 23,
     "metadata": {},
     "output_type": "execute_result"
    }
   ],
   "source": [
    "# predict test data\n",
    "y_pred = model.predict(test_df.values)\n",
    "sample_df = pd.read_csv(\"sample_submission.csv\")\n",
    "sample_df['sales'] = y_pred\n",
    "sample_df.to_csv(\"submission_dt.csv\", index=False)\n",
    "sample_df.head()"
   ]
  },
  {
   "cell_type": "markdown",
   "metadata": {
    "id": "1OHkWBmHZwVB"
   },
   "source": [
    "## LightGBM"
   ]
  },
  {
   "cell_type": "code",
   "execution_count": 24,
   "metadata": {
    "colab": {
     "base_uri": "https://localhost:8080/"
    },
    "executionInfo": {
     "elapsed": 5371,
     "status": "ok",
     "timestamp": 1644738362916,
     "user": {
      "displayName": "andrel",
      "photoUrl": "https://lh3.googleusercontent.com/a-/AOh14GhJHrQmI0O_j6I_y6ptXfC7DmRsvh9q4PkYKC9uRg=s64",
      "userId": "01083842325601129049"
     },
     "user_tz": -480
    },
    "id": "I5DhNO7ACVDI",
    "outputId": "00ae855a-bd99-4407-dcee-a0f2f127d013"
   },
   "outputs": [
    {
     "name": "stderr",
     "output_type": "stream",
     "text": [
      "C:\\Users\\nct\\anaconda3\\lib\\site-packages\\lightgbm\\sklearn.py:726: UserWarning: 'early_stopping_rounds' argument is deprecated and will be removed in a future release of LightGBM. Pass 'early_stopping()' callback via 'callbacks' argument instead.\n",
      "  _log_warning(\"'early_stopping_rounds' argument is deprecated and will be removed in a future release of LightGBM. \"\n",
      "C:\\Users\\nct\\anaconda3\\lib\\site-packages\\lightgbm\\sklearn.py:736: UserWarning: 'verbose' argument is deprecated and will be removed in a future release of LightGBM. Pass 'log_evaluation()' callback via 'callbacks' argument instead.\n",
      "  _log_warning(\"'verbose' argument is deprecated and will be removed in a future release of LightGBM. \"\n"
     ]
    },
    {
     "name": "stdout",
     "output_type": "stream",
     "text": [
      "[1]\tvalid_0's l2: 584.19\n",
      "[2]\tvalid_0's l2: 561.64\n",
      "[3]\tvalid_0's l2: 524.281\n",
      "[4]\tvalid_0's l2: 506.43\n",
      "[5]\tvalid_0's l2: 473.732\n",
      "[6]\tvalid_0's l2: 450.229\n",
      "[7]\tvalid_0's l2: 428.166\n",
      "[8]\tvalid_0's l2: 416.79\n",
      "[9]\tvalid_0's l2: 394.807\n",
      "[10]\tvalid_0's l2: 374.03\n",
      "[11]\tvalid_0's l2: 363.919\n",
      "[12]\tvalid_0's l2: 361.482\n",
      "[13]\tvalid_0's l2: 342.619\n",
      "[14]\tvalid_0's l2: 330.144\n",
      "[15]\tvalid_0's l2: 300.307\n",
      "[16]\tvalid_0's l2: 297.294\n",
      "[17]\tvalid_0's l2: 268.072\n",
      "[18]\tvalid_0's l2: 257.175\n",
      "[19]\tvalid_0's l2: 254.052\n",
      "[20]\tvalid_0's l2: 247.8\n",
      "[21]\tvalid_0's l2: 225.654\n",
      "[22]\tvalid_0's l2: 227.765\n",
      "[23]\tvalid_0's l2: 223.403\n",
      "[24]\tvalid_0's l2: 217.933\n",
      "[25]\tvalid_0's l2: 214.066\n",
      "[26]\tvalid_0's l2: 204.363\n",
      "[27]\tvalid_0's l2: 202.691\n",
      "[28]\tvalid_0's l2: 198.104\n",
      "[29]\tvalid_0's l2: 199.247\n",
      "[30]\tvalid_0's l2: 196.216\n",
      "[31]\tvalid_0's l2: 181.023\n",
      "[32]\tvalid_0's l2: 176.559\n",
      "[33]\tvalid_0's l2: 174.482\n",
      "[34]\tvalid_0's l2: 163.458\n",
      "[35]\tvalid_0's l2: 158.113\n",
      "[36]\tvalid_0's l2: 154.468\n",
      "[37]\tvalid_0's l2: 144.422\n",
      "[38]\tvalid_0's l2: 144.924\n",
      "[39]\tvalid_0's l2: 143.467\n",
      "[40]\tvalid_0's l2: 140.108\n",
      "[41]\tvalid_0's l2: 139.117\n",
      "[42]\tvalid_0's l2: 130.897\n",
      "[43]\tvalid_0's l2: 129.581\n",
      "[44]\tvalid_0's l2: 127.974\n",
      "[45]\tvalid_0's l2: 120.787\n",
      "[46]\tvalid_0's l2: 116.224\n",
      "[47]\tvalid_0's l2: 115.711\n",
      "[48]\tvalid_0's l2: 112.451\n",
      "[49]\tvalid_0's l2: 112.039\n",
      "[50]\tvalid_0's l2: 111.263\n",
      "[51]\tvalid_0's l2: 106.249\n",
      "[52]\tvalid_0's l2: 104.814\n",
      "[53]\tvalid_0's l2: 103.429\n",
      "[54]\tvalid_0's l2: 103.06\n",
      "[55]\tvalid_0's l2: 97.9926\n",
      "[56]\tvalid_0's l2: 96.014\n",
      "[57]\tvalid_0's l2: 95.4894\n",
      "[58]\tvalid_0's l2: 93.9862\n",
      "[59]\tvalid_0's l2: 90.074\n",
      "[60]\tvalid_0's l2: 89.6014\n",
      "[61]\tvalid_0's l2: 87.7645\n",
      "[62]\tvalid_0's l2: 86.8326\n",
      "[63]\tvalid_0's l2: 86.0433\n",
      "[64]\tvalid_0's l2: 85.0315\n",
      "[65]\tvalid_0's l2: 84.6852\n",
      "[66]\tvalid_0's l2: 83.9735\n",
      "[67]\tvalid_0's l2: 82.0608\n",
      "[68]\tvalid_0's l2: 81.6475\n",
      "[69]\tvalid_0's l2: 80.763\n",
      "[70]\tvalid_0's l2: 79.3188\n",
      "[71]\tvalid_0's l2: 79.1634\n",
      "[72]\tvalid_0's l2: 77.9345\n",
      "[73]\tvalid_0's l2: 77.4952\n",
      "[74]\tvalid_0's l2: 76.5265\n",
      "[75]\tvalid_0's l2: 75.1901\n",
      "[76]\tvalid_0's l2: 73.3123\n",
      "[77]\tvalid_0's l2: 73.197\n",
      "[78]\tvalid_0's l2: 73.3143\n",
      "[79]\tvalid_0's l2: 71.8758\n",
      "[80]\tvalid_0's l2: 71.4325\n",
      "[81]\tvalid_0's l2: 70.6452\n",
      "[82]\tvalid_0's l2: 70.2432\n",
      "[83]\tvalid_0's l2: 70.0764\n",
      "[84]\tvalid_0's l2: 69.5766\n",
      "[85]\tvalid_0's l2: 68.9956\n",
      "[86]\tvalid_0's l2: 68.6566\n",
      "[87]\tvalid_0's l2: 68.2519\n",
      "[88]\tvalid_0's l2: 68.2257\n",
      "[89]\tvalid_0's l2: 67.9879\n",
      "[90]\tvalid_0's l2: 67.5761\n",
      "[91]\tvalid_0's l2: 67.5589\n",
      "[92]\tvalid_0's l2: 66.4608\n",
      "[93]\tvalid_0's l2: 65.7055\n",
      "[94]\tvalid_0's l2: 65.0031\n",
      "[95]\tvalid_0's l2: 64.8737\n",
      "[96]\tvalid_0's l2: 64.6415\n",
      "[97]\tvalid_0's l2: 63.944\n",
      "[98]\tvalid_0's l2: 63.7408\n",
      "[99]\tvalid_0's l2: 63.5049\n",
      "[100]\tvalid_0's l2: 63.3843\n"
     ]
    },
    {
     "data": {
      "text/plain": [
       "LGBMRegressor()"
      ]
     },
     "execution_count": 24,
     "metadata": {},
     "output_type": "execute_result"
    }
   ],
   "source": [
    "from lightgbm import LGBMRegressor\n",
    "\n",
    "model = LGBMRegressor()\n",
    "model.fit(train.values, sales_train.values, verbose=True, early_stopping_rounds=20, eval_set=(val.values, sales_val.values))"
   ]
  },
  {
   "cell_type": "code",
   "execution_count": 25,
   "metadata": {
    "colab": {
     "base_uri": "https://localhost:8080/",
     "height": 261
    },
    "executionInfo": {
     "elapsed": 8,
     "status": "ok",
     "timestamp": 1644738487849,
     "user": {
      "displayName": "andrel",
      "photoUrl": "https://lh3.googleusercontent.com/a-/AOh14GhJHrQmI0O_j6I_y6ptXfC7DmRsvh9q4PkYKC9uRg=s64",
      "userId": "01083842325601129049"
     },
     "user_tz": -480
    },
    "id": "9I7uAYDWC_fv",
    "outputId": "e904afd9-34a2-4efc-a018-2314fe0fba71"
   },
   "outputs": [
    {
     "data": {
      "text/html": [
       "<div>\n",
       "<style scoped>\n",
       "    .dataframe tbody tr th:only-of-type {\n",
       "        vertical-align: middle;\n",
       "    }\n",
       "\n",
       "    .dataframe tbody tr th {\n",
       "        vertical-align: top;\n",
       "    }\n",
       "\n",
       "    .dataframe thead th {\n",
       "        text-align: right;\n",
       "    }\n",
       "</style>\n",
       "<table border=\"1\" class=\"dataframe\">\n",
       "  <thead>\n",
       "    <tr style=\"text-align: right;\">\n",
       "      <th></th>\n",
       "      <th>Metric Name</th>\n",
       "      <th>Score</th>\n",
       "    </tr>\n",
       "  </thead>\n",
       "  <tbody>\n",
       "    <tr>\n",
       "      <th>0</th>\n",
       "      <td>SMAPE</td>\n",
       "      <td>16.073213</td>\n",
       "    </tr>\n",
       "    <tr>\n",
       "      <th>1</th>\n",
       "      <td>MAE</td>\n",
       "      <td>6.260856</td>\n",
       "    </tr>\n",
       "    <tr>\n",
       "      <th>2</th>\n",
       "      <td>Median Absolute Error</td>\n",
       "      <td>5.224466</td>\n",
       "    </tr>\n",
       "    <tr>\n",
       "      <th>3</th>\n",
       "      <td>Mean Squared Error</td>\n",
       "      <td>63.384272</td>\n",
       "    </tr>\n",
       "    <tr>\n",
       "      <th>4</th>\n",
       "      <td>Max Error</td>\n",
       "      <td>49.278440</td>\n",
       "    </tr>\n",
       "    <tr>\n",
       "      <th>5</th>\n",
       "      <td>R2 Score</td>\n",
       "      <td>0.888089</td>\n",
       "    </tr>\n",
       "    <tr>\n",
       "      <th>6</th>\n",
       "      <td>Explained Variance Score</td>\n",
       "      <td>0.892342</td>\n",
       "    </tr>\n",
       "  </tbody>\n",
       "</table>\n",
       "</div>"
      ],
      "text/plain": [
       "                Metric Name      Score\n",
       "0                     SMAPE  16.073213\n",
       "1                       MAE   6.260856\n",
       "2     Median Absolute Error   5.224466\n",
       "3        Mean Squared Error  63.384272\n",
       "4                 Max Error  49.278440\n",
       "5                  R2 Score   0.888089\n",
       "6  Explained Variance Score   0.892342"
      ]
     },
     "execution_count": 25,
     "metadata": {},
     "output_type": "execute_result"
    }
   ],
   "source": [
    "y_pred = model.predict(val.values)\n",
    "regression_report(sales_val.values, y_pred)"
   ]
  },
  {
   "cell_type": "code",
   "execution_count": 26,
   "metadata": {
    "colab": {
     "base_uri": "https://localhost:8080/",
     "height": 201
    },
    "executionInfo": {
     "elapsed": 2636,
     "status": "ok",
     "timestamp": 1644739068336,
     "user": {
      "displayName": "andrel",
      "photoUrl": "https://lh3.googleusercontent.com/a-/AOh14GhJHrQmI0O_j6I_y6ptXfC7DmRsvh9q4PkYKC9uRg=s64",
      "userId": "01083842325601129049"
     },
     "user_tz": -480
    },
    "id": "rC9IBzLVDwrb",
    "outputId": "2dd7b0ce-e5ba-4cf6-a569-b884a991c0d3"
   },
   "outputs": [
    {
     "data": {
      "text/html": [
       "<div>\n",
       "<style scoped>\n",
       "    .dataframe tbody tr th:only-of-type {\n",
       "        vertical-align: middle;\n",
       "    }\n",
       "\n",
       "    .dataframe tbody tr th {\n",
       "        vertical-align: top;\n",
       "    }\n",
       "\n",
       "    .dataframe thead th {\n",
       "        text-align: right;\n",
       "    }\n",
       "</style>\n",
       "<table border=\"1\" class=\"dataframe\">\n",
       "  <thead>\n",
       "    <tr style=\"text-align: right;\">\n",
       "      <th></th>\n",
       "      <th>id</th>\n",
       "      <th>sales</th>\n",
       "    </tr>\n",
       "  </thead>\n",
       "  <tbody>\n",
       "    <tr>\n",
       "      <th>0</th>\n",
       "      <td>0</td>\n",
       "      <td>16.561062</td>\n",
       "    </tr>\n",
       "    <tr>\n",
       "      <th>1</th>\n",
       "      <td>1</td>\n",
       "      <td>17.444016</td>\n",
       "    </tr>\n",
       "    <tr>\n",
       "      <th>2</th>\n",
       "      <td>2</td>\n",
       "      <td>17.444016</td>\n",
       "    </tr>\n",
       "    <tr>\n",
       "      <th>3</th>\n",
       "      <td>3</td>\n",
       "      <td>18.268907</td>\n",
       "    </tr>\n",
       "    <tr>\n",
       "      <th>4</th>\n",
       "      <td>4</td>\n",
       "      <td>17.977213</td>\n",
       "    </tr>\n",
       "  </tbody>\n",
       "</table>\n",
       "</div>"
      ],
      "text/plain": [
       "   id      sales\n",
       "0   0  16.561062\n",
       "1   1  17.444016\n",
       "2   2  17.444016\n",
       "3   3  18.268907\n",
       "4   4  17.977213"
      ]
     },
     "execution_count": 26,
     "metadata": {},
     "output_type": "execute_result"
    }
   ],
   "source": [
    "# predict test data\n",
    "y_pred = model.predict(test_df.values)\n",
    "sample_df = pd.read_csv(\"sample_submission.csv\")\n",
    "sample_df['sales'] = y_pred\n",
    "sample_df.to_csv(\"submission_lgbm.csv\", index=False)\n",
    "sample_df.head()"
   ]
  },
  {
   "cell_type": "markdown",
   "metadata": {
    "id": "OsCGRlOGK2v9"
   },
   "source": [
    "## Linear Regression"
   ]
  },
  {
   "cell_type": "code",
   "execution_count": 27,
   "metadata": {
    "colab": {
     "base_uri": "https://localhost:8080/"
    },
    "executionInfo": {
     "elapsed": 415,
     "status": "ok",
     "timestamp": 1644740723064,
     "user": {
      "displayName": "andrel",
      "photoUrl": "https://lh3.googleusercontent.com/a-/AOh14GhJHrQmI0O_j6I_y6ptXfC7DmRsvh9q4PkYKC9uRg=s64",
      "userId": "01083842325601129049"
     },
     "user_tz": -480
    },
    "id": "W4MGPcdTK6ZX",
    "outputId": "3442f5ab-1ab3-488f-f1fe-ac3520450b5d"
   },
   "outputs": [
    {
     "data": {
      "text/plain": [
       "LinearRegression()"
      ]
     },
     "execution_count": 27,
     "metadata": {},
     "output_type": "execute_result"
    }
   ],
   "source": [
    "from sklearn.linear_model import LinearRegression\n",
    "model = LinearRegression()\n",
    "model.fit(train.values, sales_train.values)"
   ]
  },
  {
   "cell_type": "code",
   "execution_count": 28,
   "metadata": {
    "colab": {
     "base_uri": "https://localhost:8080/",
     "height": 261
    },
    "executionInfo": {
     "elapsed": 589,
     "status": "ok",
     "timestamp": 1644740727589,
     "user": {
      "displayName": "andrel",
      "photoUrl": "https://lh3.googleusercontent.com/a-/AOh14GhJHrQmI0O_j6I_y6ptXfC7DmRsvh9q4PkYKC9uRg=s64",
      "userId": "01083842325601129049"
     },
     "user_tz": -480
    },
    "id": "aRFnQrClLADC",
    "outputId": "58a8e795-7e55-4631-bc9d-418d7576f6cf"
   },
   "outputs": [
    {
     "data": {
      "text/html": [
       "<div>\n",
       "<style scoped>\n",
       "    .dataframe tbody tr th:only-of-type {\n",
       "        vertical-align: middle;\n",
       "    }\n",
       "\n",
       "    .dataframe tbody tr th {\n",
       "        vertical-align: top;\n",
       "    }\n",
       "\n",
       "    .dataframe thead th {\n",
       "        text-align: right;\n",
       "    }\n",
       "</style>\n",
       "<table border=\"1\" class=\"dataframe\">\n",
       "  <thead>\n",
       "    <tr style=\"text-align: right;\">\n",
       "      <th></th>\n",
       "      <th>Metric Name</th>\n",
       "      <th>Score</th>\n",
       "    </tr>\n",
       "  </thead>\n",
       "  <tbody>\n",
       "    <tr>\n",
       "      <th>0</th>\n",
       "      <td>SMAPE</td>\n",
       "      <td>48.924073</td>\n",
       "    </tr>\n",
       "    <tr>\n",
       "      <th>1</th>\n",
       "      <td>MAE</td>\n",
       "      <td>22.670578</td>\n",
       "    </tr>\n",
       "    <tr>\n",
       "      <th>2</th>\n",
       "      <td>Median Absolute Error</td>\n",
       "      <td>21.663495</td>\n",
       "    </tr>\n",
       "    <tr>\n",
       "      <th>3</th>\n",
       "      <td>Mean Squared Error</td>\n",
       "      <td>717.115720</td>\n",
       "    </tr>\n",
       "    <tr>\n",
       "      <th>4</th>\n",
       "      <td>Max Error</td>\n",
       "      <td>90.322757</td>\n",
       "    </tr>\n",
       "    <tr>\n",
       "      <th>5</th>\n",
       "      <td>R2 Score</td>\n",
       "      <td>-0.266139</td>\n",
       "    </tr>\n",
       "    <tr>\n",
       "      <th>6</th>\n",
       "      <td>Explained Variance Score</td>\n",
       "      <td>0.066234</td>\n",
       "    </tr>\n",
       "  </tbody>\n",
       "</table>\n",
       "</div>"
      ],
      "text/plain": [
       "                Metric Name       Score\n",
       "0                     SMAPE   48.924073\n",
       "1                       MAE   22.670578\n",
       "2     Median Absolute Error   21.663495\n",
       "3        Mean Squared Error  717.115720\n",
       "4                 Max Error   90.322757\n",
       "5                  R2 Score   -0.266139\n",
       "6  Explained Variance Score    0.066234"
      ]
     },
     "execution_count": 28,
     "metadata": {},
     "output_type": "execute_result"
    }
   ],
   "source": [
    "y_pred = model.predict(val.values)\n",
    "regression_report(sales_val.values, y_pred)"
   ]
  },
  {
   "cell_type": "code",
   "execution_count": 29,
   "metadata": {
    "colab": {
     "base_uri": "https://localhost:8080/",
     "height": 201
    },
    "executionInfo": {
     "elapsed": 1241,
     "status": "ok",
     "timestamp": 1644740732301,
     "user": {
      "displayName": "andrel",
      "photoUrl": "https://lh3.googleusercontent.com/a-/AOh14GhJHrQmI0O_j6I_y6ptXfC7DmRsvh9q4PkYKC9uRg=s64",
      "userId": "01083842325601129049"
     },
     "user_tz": -480
    },
    "id": "-U-_l-mFLBGf",
    "outputId": "a64caa76-8adf-48cc-d5b1-2f66272af775"
   },
   "outputs": [
    {
     "data": {
      "text/html": [
       "<div>\n",
       "<style scoped>\n",
       "    .dataframe tbody tr th:only-of-type {\n",
       "        vertical-align: middle;\n",
       "    }\n",
       "\n",
       "    .dataframe tbody tr th {\n",
       "        vertical-align: top;\n",
       "    }\n",
       "\n",
       "    .dataframe thead th {\n",
       "        text-align: right;\n",
       "    }\n",
       "</style>\n",
       "<table border=\"1\" class=\"dataframe\">\n",
       "  <thead>\n",
       "    <tr style=\"text-align: right;\">\n",
       "      <th></th>\n",
       "      <th>id</th>\n",
       "      <th>sales</th>\n",
       "    </tr>\n",
       "  </thead>\n",
       "  <tbody>\n",
       "    <tr>\n",
       "      <th>0</th>\n",
       "      <td>0</td>\n",
       "      <td>57.005051</td>\n",
       "    </tr>\n",
       "    <tr>\n",
       "      <th>1</th>\n",
       "      <td>1</td>\n",
       "      <td>60.219296</td>\n",
       "    </tr>\n",
       "    <tr>\n",
       "      <th>2</th>\n",
       "      <td>2</td>\n",
       "      <td>63.433540</td>\n",
       "    </tr>\n",
       "    <tr>\n",
       "      <th>3</th>\n",
       "      <td>3</td>\n",
       "      <td>66.647785</td>\n",
       "    </tr>\n",
       "    <tr>\n",
       "      <th>4</th>\n",
       "      <td>4</td>\n",
       "      <td>69.862029</td>\n",
       "    </tr>\n",
       "  </tbody>\n",
       "</table>\n",
       "</div>"
      ],
      "text/plain": [
       "   id      sales\n",
       "0   0  57.005051\n",
       "1   1  60.219296\n",
       "2   2  63.433540\n",
       "3   3  66.647785\n",
       "4   4  69.862029"
      ]
     },
     "execution_count": 29,
     "metadata": {},
     "output_type": "execute_result"
    }
   ],
   "source": [
    "# predict test data\n",
    "y_pred = model.predict(test_df.values)\n",
    "sample_df = pd.read_csv(\"sample_submission.csv\")\n",
    "sample_df['sales'] = y_pred\n",
    "sample_df.to_csv(\"submission_lr.csv\", index=False)\n",
    "sample_df.head()"
   ]
  },
  {
   "cell_type": "markdown",
   "metadata": {
    "id": "injPwvnYG4T_"
   },
   "source": [
    "## Random Forest"
   ]
  },
  {
   "cell_type": "code",
   "execution_count": 30,
   "metadata": {
    "colab": {
     "base_uri": "https://localhost:8080/"
    },
    "executionInfo": {
     "elapsed": 276801,
     "status": "ok",
     "timestamp": 1644740586273,
     "user": {
      "displayName": "andrel",
      "photoUrl": "https://lh3.googleusercontent.com/a-/AOh14GhJHrQmI0O_j6I_y6ptXfC7DmRsvh9q4PkYKC9uRg=s64",
      "userId": "01083842325601129049"
     },
     "user_tz": -480
    },
    "id": "4NGgK1H5JbYK",
    "outputId": "c8ab6924-b546-4011-9f6b-15649f686ddf"
   },
   "outputs": [
    {
     "data": {
      "text/plain": [
       "RandomForestRegressor(n_estimators=200, n_jobs=-1)"
      ]
     },
     "execution_count": 30,
     "metadata": {},
     "output_type": "execute_result"
    }
   ],
   "source": [
    "from sklearn.ensemble import RandomForestRegressor\n",
    "model = RandomForestRegressor(n_estimators=200, n_jobs=-1)\n",
    "model.fit(train.values, sales_train.values)"
   ]
  },
  {
   "cell_type": "code",
   "execution_count": 31,
   "metadata": {
    "colab": {
     "base_uri": "https://localhost:8080/",
     "height": 261
    },
    "executionInfo": {
     "elapsed": 822,
     "status": "ok",
     "timestamp": 1644740587088,
     "user": {
      "displayName": "andrel",
      "photoUrl": "https://lh3.googleusercontent.com/a-/AOh14GhJHrQmI0O_j6I_y6ptXfC7DmRsvh9q4PkYKC9uRg=s64",
      "userId": "01083842325601129049"
     },
     "user_tz": -480
    },
    "id": "gJTo0tgLKe5d",
    "outputId": "fbc9387d-71ca-4385-f393-d166625361b1"
   },
   "outputs": [
    {
     "data": {
      "text/html": [
       "<div>\n",
       "<style scoped>\n",
       "    .dataframe tbody tr th:only-of-type {\n",
       "        vertical-align: middle;\n",
       "    }\n",
       "\n",
       "    .dataframe tbody tr th {\n",
       "        vertical-align: top;\n",
       "    }\n",
       "\n",
       "    .dataframe thead th {\n",
       "        text-align: right;\n",
       "    }\n",
       "</style>\n",
       "<table border=\"1\" class=\"dataframe\">\n",
       "  <thead>\n",
       "    <tr style=\"text-align: right;\">\n",
       "      <th></th>\n",
       "      <th>Metric Name</th>\n",
       "      <th>Score</th>\n",
       "    </tr>\n",
       "  </thead>\n",
       "  <tbody>\n",
       "    <tr>\n",
       "      <th>0</th>\n",
       "      <td>SMAPE</td>\n",
       "      <td>14.939864</td>\n",
       "    </tr>\n",
       "    <tr>\n",
       "      <th>1</th>\n",
       "      <td>MAE</td>\n",
       "      <td>5.903299</td>\n",
       "    </tr>\n",
       "    <tr>\n",
       "      <th>2</th>\n",
       "      <td>Median Absolute Error</td>\n",
       "      <td>4.701825</td>\n",
       "    </tr>\n",
       "    <tr>\n",
       "      <th>3</th>\n",
       "      <td>Mean Squared Error</td>\n",
       "      <td>59.287404</td>\n",
       "    </tr>\n",
       "    <tr>\n",
       "      <th>4</th>\n",
       "      <td>Max Error</td>\n",
       "      <td>45.934653</td>\n",
       "    </tr>\n",
       "    <tr>\n",
       "      <th>5</th>\n",
       "      <td>R2 Score</td>\n",
       "      <td>0.895322</td>\n",
       "    </tr>\n",
       "    <tr>\n",
       "      <th>6</th>\n",
       "      <td>Explained Variance Score</td>\n",
       "      <td>0.900283</td>\n",
       "    </tr>\n",
       "  </tbody>\n",
       "</table>\n",
       "</div>"
      ],
      "text/plain": [
       "                Metric Name      Score\n",
       "0                     SMAPE  14.939864\n",
       "1                       MAE   5.903299\n",
       "2     Median Absolute Error   4.701825\n",
       "3        Mean Squared Error  59.287404\n",
       "4                 Max Error  45.934653\n",
       "5                  R2 Score   0.895322\n",
       "6  Explained Variance Score   0.900283"
      ]
     },
     "execution_count": 31,
     "metadata": {},
     "output_type": "execute_result"
    }
   ],
   "source": [
    "y_pred = model.predict(val.values)\n",
    "regression_report(sales_val.values, y_pred)"
   ]
  },
  {
   "cell_type": "code",
   "execution_count": 32,
   "metadata": {
    "colab": {
     "base_uri": "https://localhost:8080/",
     "height": 201
    },
    "executionInfo": {
     "elapsed": 1558,
     "status": "ok",
     "timestamp": 1644740588640,
     "user": {
      "displayName": "andrel",
      "photoUrl": "https://lh3.googleusercontent.com/a-/AOh14GhJHrQmI0O_j6I_y6ptXfC7DmRsvh9q4PkYKC9uRg=s64",
      "userId": "01083842325601129049"
     },
     "user_tz": -480
    },
    "id": "hRU8f17_KlWI",
    "outputId": "f7e7fb6e-9738-4950-86b2-f42446595d72"
   },
   "outputs": [
    {
     "data": {
      "text/html": [
       "<div>\n",
       "<style scoped>\n",
       "    .dataframe tbody tr th:only-of-type {\n",
       "        vertical-align: middle;\n",
       "    }\n",
       "\n",
       "    .dataframe tbody tr th {\n",
       "        vertical-align: top;\n",
       "    }\n",
       "\n",
       "    .dataframe thead th {\n",
       "        text-align: right;\n",
       "    }\n",
       "</style>\n",
       "<table border=\"1\" class=\"dataframe\">\n",
       "  <thead>\n",
       "    <tr style=\"text-align: right;\">\n",
       "      <th></th>\n",
       "      <th>id</th>\n",
       "      <th>sales</th>\n",
       "    </tr>\n",
       "  </thead>\n",
       "  <tbody>\n",
       "    <tr>\n",
       "      <th>0</th>\n",
       "      <td>0</td>\n",
       "      <td>10.285578</td>\n",
       "    </tr>\n",
       "    <tr>\n",
       "      <th>1</th>\n",
       "      <td>1</td>\n",
       "      <td>14.938321</td>\n",
       "    </tr>\n",
       "    <tr>\n",
       "      <th>2</th>\n",
       "      <td>2</td>\n",
       "      <td>12.882200</td>\n",
       "    </tr>\n",
       "    <tr>\n",
       "      <th>3</th>\n",
       "      <td>3</td>\n",
       "      <td>14.679198</td>\n",
       "    </tr>\n",
       "    <tr>\n",
       "      <th>4</th>\n",
       "      <td>4</td>\n",
       "      <td>15.437772</td>\n",
       "    </tr>\n",
       "  </tbody>\n",
       "</table>\n",
       "</div>"
      ],
      "text/plain": [
       "   id      sales\n",
       "0   0  10.285578\n",
       "1   1  14.938321\n",
       "2   2  12.882200\n",
       "3   3  14.679198\n",
       "4   4  15.437772"
      ]
     },
     "execution_count": 32,
     "metadata": {},
     "output_type": "execute_result"
    }
   ],
   "source": [
    "# predict test data\n",
    "y_pred = model.predict(test_df.values)\n",
    "sample_df = pd.read_csv(\"sample_submission.csv\")\n",
    "sample_df['sales'] = y_pred\n",
    "sample_df.to_csv(\"submission_rf.csv\", index=False)\n",
    "sample_df.head()"
   ]
  },
  {
   "cell_type": "markdown",
   "metadata": {
    "id": "f7R7oWEeMe0_"
   },
   "source": [
    "## XGBoost"
   ]
  },
  {
   "cell_type": "code",
   "execution_count": 33,
   "metadata": {
    "colab": {
     "base_uri": "https://localhost:8080/"
    },
    "executionInfo": {
     "elapsed": 63718,
     "status": "ok",
     "timestamp": 1644765408058,
     "user": {
      "displayName": "andrel",
      "photoUrl": "https://lh3.googleusercontent.com/a-/AOh14GhJHrQmI0O_j6I_y6ptXfC7DmRsvh9q4PkYKC9uRg=s64",
      "userId": "01083842325601129049"
     },
     "user_tz": -480
    },
    "id": "_sZFHdesMUvV",
    "outputId": "008e3db1-7a11-4dd1-94b9-9a01bdd2c8ed"
   },
   "outputs": [
    {
     "data": {
      "text/plain": [
       "XGBRegressor(base_score=0.5, booster='gbtree', colsample_bylevel=1,\n",
       "             colsample_bynode=1, colsample_bytree=1, enable_categorical=False,\n",
       "             gamma=0, gpu_id=-1, importance_type=None,\n",
       "             interaction_constraints='', learning_rate=0.300000012,\n",
       "             max_delta_step=0, max_depth=6, min_child_weight=1, missing=nan,\n",
       "             monotone_constraints='()', n_estimators=200, n_jobs=8,\n",
       "             num_parallel_tree=1, predictor='auto', random_state=21,\n",
       "             reg_alpha=0, reg_lambda=1, scale_pos_weight=1, seed=21,\n",
       "             subsample=1, tree_method='exact', validate_parameters=1,\n",
       "             verbosity=None)"
      ]
     },
     "execution_count": 33,
     "metadata": {},
     "output_type": "execute_result"
    }
   ],
   "source": [
    "import xgboost\n",
    "model = xgboost.XGBRegressor(n_estimators = 200, seed = 21)\n",
    "model.fit(train.values, sales_train.values, verbose=True)"
   ]
  },
  {
   "cell_type": "code",
   "execution_count": 34,
   "metadata": {
    "colab": {
     "base_uri": "https://localhost:8080/",
     "height": 261
    },
    "executionInfo": {
     "elapsed": 317,
     "status": "ok",
     "timestamp": 1644765437786,
     "user": {
      "displayName": "andrel",
      "photoUrl": "https://lh3.googleusercontent.com/a-/AOh14GhJHrQmI0O_j6I_y6ptXfC7DmRsvh9q4PkYKC9uRg=s64",
      "userId": "01083842325601129049"
     },
     "user_tz": -480
    },
    "id": "VwXmzlxOMbZe",
    "outputId": "340e1a12-22ec-4737-a2b0-70430535a7d9"
   },
   "outputs": [
    {
     "data": {
      "text/html": [
       "<div>\n",
       "<style scoped>\n",
       "    .dataframe tbody tr th:only-of-type {\n",
       "        vertical-align: middle;\n",
       "    }\n",
       "\n",
       "    .dataframe tbody tr th {\n",
       "        vertical-align: top;\n",
       "    }\n",
       "\n",
       "    .dataframe thead th {\n",
       "        text-align: right;\n",
       "    }\n",
       "</style>\n",
       "<table border=\"1\" class=\"dataframe\">\n",
       "  <thead>\n",
       "    <tr style=\"text-align: right;\">\n",
       "      <th></th>\n",
       "      <th>Metric Name</th>\n",
       "      <th>Score</th>\n",
       "    </tr>\n",
       "  </thead>\n",
       "  <tbody>\n",
       "    <tr>\n",
       "      <th>0</th>\n",
       "      <td>SMAPE</td>\n",
       "      <td>14.064043</td>\n",
       "    </tr>\n",
       "    <tr>\n",
       "      <th>1</th>\n",
       "      <td>MAE</td>\n",
       "      <td>5.522580</td>\n",
       "    </tr>\n",
       "    <tr>\n",
       "      <th>2</th>\n",
       "      <td>Median Absolute Error</td>\n",
       "      <td>4.433034</td>\n",
       "    </tr>\n",
       "    <tr>\n",
       "      <th>3</th>\n",
       "      <td>Mean Squared Error</td>\n",
       "      <td>50.913739</td>\n",
       "    </tr>\n",
       "    <tr>\n",
       "      <th>4</th>\n",
       "      <td>Max Error</td>\n",
       "      <td>38.642258</td>\n",
       "    </tr>\n",
       "    <tr>\n",
       "      <th>5</th>\n",
       "      <td>R2 Score</td>\n",
       "      <td>0.910107</td>\n",
       "    </tr>\n",
       "    <tr>\n",
       "      <th>6</th>\n",
       "      <td>Explained Variance Score</td>\n",
       "      <td>0.910661</td>\n",
       "    </tr>\n",
       "  </tbody>\n",
       "</table>\n",
       "</div>"
      ],
      "text/plain": [
       "                Metric Name      Score\n",
       "0                     SMAPE  14.064043\n",
       "1                       MAE   5.522580\n",
       "2     Median Absolute Error   4.433034\n",
       "3        Mean Squared Error  50.913739\n",
       "4                 Max Error  38.642258\n",
       "5                  R2 Score   0.910107\n",
       "6  Explained Variance Score   0.910661"
      ]
     },
     "execution_count": 34,
     "metadata": {},
     "output_type": "execute_result"
    }
   ],
   "source": [
    "y_pred = model.predict(val.values)\n",
    "regression_report(sales_val.values, y_pred)"
   ]
  },
  {
   "cell_type": "code",
   "execution_count": 35,
   "metadata": {
    "colab": {
     "base_uri": "https://localhost:8080/",
     "height": 201
    },
    "executionInfo": {
     "elapsed": 1445,
     "status": "ok",
     "timestamp": 1644765441680,
     "user": {
      "displayName": "andrel",
      "photoUrl": "https://lh3.googleusercontent.com/a-/AOh14GhJHrQmI0O_j6I_y6ptXfC7DmRsvh9q4PkYKC9uRg=s64",
      "userId": "01083842325601129049"
     },
     "user_tz": -480
    },
    "id": "syiWclf_Mc67",
    "outputId": "3603824e-934d-4fa4-a548-f4dd246641de"
   },
   "outputs": [
    {
     "data": {
      "text/html": [
       "<div>\n",
       "<style scoped>\n",
       "    .dataframe tbody tr th:only-of-type {\n",
       "        vertical-align: middle;\n",
       "    }\n",
       "\n",
       "    .dataframe tbody tr th {\n",
       "        vertical-align: top;\n",
       "    }\n",
       "\n",
       "    .dataframe thead th {\n",
       "        text-align: right;\n",
       "    }\n",
       "</style>\n",
       "<table border=\"1\" class=\"dataframe\">\n",
       "  <thead>\n",
       "    <tr style=\"text-align: right;\">\n",
       "      <th></th>\n",
       "      <th>id</th>\n",
       "      <th>sales</th>\n",
       "    </tr>\n",
       "  </thead>\n",
       "  <tbody>\n",
       "    <tr>\n",
       "      <th>0</th>\n",
       "      <td>0</td>\n",
       "      <td>14.757501</td>\n",
       "    </tr>\n",
       "    <tr>\n",
       "      <th>1</th>\n",
       "      <td>1</td>\n",
       "      <td>16.119011</td>\n",
       "    </tr>\n",
       "    <tr>\n",
       "      <th>2</th>\n",
       "      <td>2</td>\n",
       "      <td>16.984201</td>\n",
       "    </tr>\n",
       "    <tr>\n",
       "      <th>3</th>\n",
       "      <td>3</td>\n",
       "      <td>13.956003</td>\n",
       "    </tr>\n",
       "    <tr>\n",
       "      <th>4</th>\n",
       "      <td>4</td>\n",
       "      <td>15.874704</td>\n",
       "    </tr>\n",
       "  </tbody>\n",
       "</table>\n",
       "</div>"
      ],
      "text/plain": [
       "   id      sales\n",
       "0   0  14.757501\n",
       "1   1  16.119011\n",
       "2   2  16.984201\n",
       "3   3  13.956003\n",
       "4   4  15.874704"
      ]
     },
     "execution_count": 35,
     "metadata": {},
     "output_type": "execute_result"
    }
   ],
   "source": [
    "# predict test data\n",
    "y_pred = model.predict(test_df.values)\n",
    "sample_df = pd.read_csv(\"sample_submission.csv\")\n",
    "sample_df['sales'] = y_pred\n",
    "sample_df.to_csv(\"submission_xgb.csv\", index=False)\n",
    "sample_df.head()"
   ]
  },
  {
   "cell_type": "markdown",
   "metadata": {
    "id": "TAcDszyfM92Y"
   },
   "source": [
    "## MLP (Neural Network)"
   ]
  },
  {
   "cell_type": "code",
   "execution_count": 36,
   "metadata": {
    "colab": {
     "base_uri": "https://localhost:8080/"
    },
    "executionInfo": {
     "elapsed": 94420,
     "status": "ok",
     "timestamp": 1644778917146,
     "user": {
      "displayName": "andrel",
      "photoUrl": "https://lh3.googleusercontent.com/a-/AOh14GhJHrQmI0O_j6I_y6ptXfC7DmRsvh9q4PkYKC9uRg=s64",
      "userId": "01083842325601129049"
     },
     "user_tz": -480
    },
    "id": "mw0c4WvoNAPT",
    "outputId": "dc7b83bb-adb5-4f4f-ba32-2689cf5acebb"
   },
   "outputs": [
    {
     "name": "stderr",
     "output_type": "stream",
     "text": [
      "C:\\Users\\nct\\anaconda3\\lib\\site-packages\\sklearn\\neural_network\\_multilayer_perceptron.py:692: ConvergenceWarning: Stochastic Optimizer: Maximum iterations (20) reached and the optimization hasn't converged yet.\n",
      "  warnings.warn(\n"
     ]
    }
   ],
   "source": [
    "from sklearn.neural_network import MLPRegressor\n",
    "model = MLPRegressor(hidden_layer_sizes=(32,32,32), activation=\"relu\", random_state=1, max_iter=20).fit(train.values, sales_train.values)"
   ]
  },
  {
   "cell_type": "code",
   "execution_count": 37,
   "metadata": {
    "colab": {
     "base_uri": "https://localhost:8080/",
     "height": 261
    },
    "executionInfo": {
     "elapsed": 18,
     "status": "ok",
     "timestamp": 1644778917148,
     "user": {
      "displayName": "andrel",
      "photoUrl": "https://lh3.googleusercontent.com/a-/AOh14GhJHrQmI0O_j6I_y6ptXfC7DmRsvh9q4PkYKC9uRg=s64",
      "userId": "01083842325601129049"
     },
     "user_tz": -480
    },
    "id": "R151-idGNK51",
    "outputId": "9cd321fa-e83c-4a18-ead6-eb10865d0065"
   },
   "outputs": [
    {
     "data": {
      "text/html": [
       "<div>\n",
       "<style scoped>\n",
       "    .dataframe tbody tr th:only-of-type {\n",
       "        vertical-align: middle;\n",
       "    }\n",
       "\n",
       "    .dataframe tbody tr th {\n",
       "        vertical-align: top;\n",
       "    }\n",
       "\n",
       "    .dataframe thead th {\n",
       "        text-align: right;\n",
       "    }\n",
       "</style>\n",
       "<table border=\"1\" class=\"dataframe\">\n",
       "  <thead>\n",
       "    <tr style=\"text-align: right;\">\n",
       "      <th></th>\n",
       "      <th>Metric Name</th>\n",
       "      <th>Score</th>\n",
       "    </tr>\n",
       "  </thead>\n",
       "  <tbody>\n",
       "    <tr>\n",
       "      <th>0</th>\n",
       "      <td>SMAPE</td>\n",
       "      <td>37.410320</td>\n",
       "    </tr>\n",
       "    <tr>\n",
       "      <th>1</th>\n",
       "      <td>MAE</td>\n",
       "      <td>15.518736</td>\n",
       "    </tr>\n",
       "    <tr>\n",
       "      <th>2</th>\n",
       "      <td>Median Absolute Error</td>\n",
       "      <td>12.422675</td>\n",
       "    </tr>\n",
       "    <tr>\n",
       "      <th>3</th>\n",
       "      <td>Mean Squared Error</td>\n",
       "      <td>406.063925</td>\n",
       "    </tr>\n",
       "    <tr>\n",
       "      <th>4</th>\n",
       "      <td>Max Error</td>\n",
       "      <td>102.058914</td>\n",
       "    </tr>\n",
       "    <tr>\n",
       "      <th>5</th>\n",
       "      <td>R2 Score</td>\n",
       "      <td>0.283054</td>\n",
       "    </tr>\n",
       "    <tr>\n",
       "      <th>6</th>\n",
       "      <td>Explained Variance Score</td>\n",
       "      <td>0.323098</td>\n",
       "    </tr>\n",
       "  </tbody>\n",
       "</table>\n",
       "</div>"
      ],
      "text/plain": [
       "                Metric Name       Score\n",
       "0                     SMAPE   37.410320\n",
       "1                       MAE   15.518736\n",
       "2     Median Absolute Error   12.422675\n",
       "3        Mean Squared Error  406.063925\n",
       "4                 Max Error  102.058914\n",
       "5                  R2 Score    0.283054\n",
       "6  Explained Variance Score    0.323098"
      ]
     },
     "execution_count": 37,
     "metadata": {},
     "output_type": "execute_result"
    }
   ],
   "source": [
    "y_pred = model.predict(val.values)\n",
    "regression_report(sales_val.values, y_pred)"
   ]
  },
  {
   "cell_type": "code",
   "execution_count": 38,
   "metadata": {
    "colab": {
     "base_uri": "https://localhost:8080/",
     "height": 201
    },
    "executionInfo": {
     "elapsed": 927,
     "status": "ok",
     "timestamp": 1644778918064,
     "user": {
      "displayName": "andrel",
      "photoUrl": "https://lh3.googleusercontent.com/a-/AOh14GhJHrQmI0O_j6I_y6ptXfC7DmRsvh9q4PkYKC9uRg=s64",
      "userId": "01083842325601129049"
     },
     "user_tz": -480
    },
    "id": "Q7sTfXKHNoT3",
    "outputId": "11a8a5d7-5353-4d04-f23a-0055f80e2c29"
   },
   "outputs": [
    {
     "data": {
      "text/html": [
       "<div>\n",
       "<style scoped>\n",
       "    .dataframe tbody tr th:only-of-type {\n",
       "        vertical-align: middle;\n",
       "    }\n",
       "\n",
       "    .dataframe tbody tr th {\n",
       "        vertical-align: top;\n",
       "    }\n",
       "\n",
       "    .dataframe thead th {\n",
       "        text-align: right;\n",
       "    }\n",
       "</style>\n",
       "<table border=\"1\" class=\"dataframe\">\n",
       "  <thead>\n",
       "    <tr style=\"text-align: right;\">\n",
       "      <th></th>\n",
       "      <th>id</th>\n",
       "      <th>sales</th>\n",
       "    </tr>\n",
       "  </thead>\n",
       "  <tbody>\n",
       "    <tr>\n",
       "      <th>0</th>\n",
       "      <td>0</td>\n",
       "      <td>4.529868</td>\n",
       "    </tr>\n",
       "    <tr>\n",
       "      <th>1</th>\n",
       "      <td>1</td>\n",
       "      <td>5.776620</td>\n",
       "    </tr>\n",
       "    <tr>\n",
       "      <th>2</th>\n",
       "      <td>2</td>\n",
       "      <td>7.023372</td>\n",
       "    </tr>\n",
       "    <tr>\n",
       "      <th>3</th>\n",
       "      <td>3</td>\n",
       "      <td>8.831623</td>\n",
       "    </tr>\n",
       "    <tr>\n",
       "      <th>4</th>\n",
       "      <td>4</td>\n",
       "      <td>10.765563</td>\n",
       "    </tr>\n",
       "  </tbody>\n",
       "</table>\n",
       "</div>"
      ],
      "text/plain": [
       "   id      sales\n",
       "0   0   4.529868\n",
       "1   1   5.776620\n",
       "2   2   7.023372\n",
       "3   3   8.831623\n",
       "4   4  10.765563"
      ]
     },
     "execution_count": 38,
     "metadata": {},
     "output_type": "execute_result"
    }
   ],
   "source": [
    "# predict test data\n",
    "y_pred = model.predict(test_df.values)\n",
    "sample_df = pd.read_csv(\"sample_submission.csv\")\n",
    "sample_df['sales'] = y_pred\n",
    "sample_df.to_csv(\"submission_mlp.csv\", index=False)\n",
    "sample_df.head()"
   ]
  },
  {
   "cell_type": "markdown",
   "metadata": {
    "id": "dbnlxm5nQCas"
   },
   "source": [
    "# Prophet"
   ]
  },
  {
   "cell_type": "code",
   "execution_count": 39,
   "metadata": {
    "id": "n3ezN5nHaSoF"
   },
   "outputs": [
    {
     "ename": "ModuleNotFoundError",
     "evalue": "No module named 'fbprophet'",
     "output_type": "error",
     "traceback": [
      "\u001b[1;31m---------------------------------------------------------------------------\u001b[0m",
      "\u001b[1;31mModuleNotFoundError\u001b[0m                       Traceback (most recent call last)",
      "Input \u001b[1;32mIn [39]\u001b[0m, in \u001b[0;36m<cell line: 2>\u001b[1;34m()\u001b[0m\n\u001b[0;32m      1\u001b[0m \u001b[38;5;66;03m# !pip install fbprophet\u001b[39;00m\n\u001b[1;32m----> 2\u001b[0m \u001b[38;5;28;01mfrom\u001b[39;00m \u001b[38;5;21;01mfbprophet\u001b[39;00m \u001b[38;5;28;01mimport\u001b[39;00m Prophet\n\u001b[0;32m      3\u001b[0m \u001b[38;5;28;01mfrom\u001b[39;00m \u001b[38;5;21;01mfbprophet\u001b[39;00m\u001b[38;5;21;01m.\u001b[39;00m\u001b[38;5;21;01mplot\u001b[39;00m \u001b[38;5;28;01mimport\u001b[39;00m plot_plotly, plot_components_plotly, plot_cross_validation_metric\n\u001b[0;32m      4\u001b[0m \u001b[38;5;28;01mfrom\u001b[39;00m \u001b[38;5;21;01mfbprophet\u001b[39;00m\u001b[38;5;21;01m.\u001b[39;00m\u001b[38;5;21;01mdiagnostics\u001b[39;00m \u001b[38;5;28;01mimport\u001b[39;00m performance_metrics, cross_validation\n",
      "\u001b[1;31mModuleNotFoundError\u001b[0m: No module named 'fbprophet'"
     ]
    }
   ],
   "source": [
    "# !pip install fbprophet\n",
    "from fbprophet import Prophet\n",
    "from fbprophet.plot import plot_plotly, plot_components_plotly, plot_cross_validation_metric\n",
    "from fbprophet.diagnostics import performance_metrics, cross_validation"
   ]
  },
  {
   "cell_type": "code",
   "execution_count": null,
   "metadata": {
    "colab": {
     "base_uri": "https://localhost:8080/"
    },
    "executionInfo": {
     "elapsed": 10,
     "status": "ok",
     "timestamp": 1644769252066,
     "user": {
      "displayName": "andrel",
      "photoUrl": "https://lh3.googleusercontent.com/a-/AOh14GhJHrQmI0O_j6I_y6ptXfC7DmRsvh9q4PkYKC9uRg=s64",
      "userId": "01083842325601129049"
     },
     "user_tz": -480
    },
    "id": "oB8DxzN-4t87",
    "outputId": "7901fca7-373b-4c7f-a343-efe4e8c67f7e"
   },
   "outputs": [],
   "source": [
    "print(len(val.index.unique()))"
   ]
  },
  {
   "cell_type": "code",
   "execution_count": null,
   "metadata": {
    "id": "LRQDwsfDV-WD"
   },
   "outputs": [],
   "source": [
    "import pandas as pd\n",
    "import numpy as np\n",
    "\n",
    "train_df = pd.read_csv(\"https://drive.google.com/uc?id=1h-vNpZ0RJnsuLxCTs0qc80jwGNrGeX49\")\n",
    "\n",
    "train = train_df.loc[(train_df[\"date\"] < \"2017-01-01\"), :] # everything else before that\n",
    "train['date'] = pd.to_datetime(train['date'])\n",
    "test = train_df.loc[(train_df[\"date\"] >= \"2017-01-01\") & (train_df[\"date\"] < \"2017-04-01\"), :] # First 3 months of 2017\n",
    "test['date'] = pd.to_datetime(test['date'])\n",
    "\n",
    "results = test.reset_index()\n",
    "results['sales'] = 0 # init sales col\n",
    "\n",
    "stores = train['store'].unique()\n",
    "items = train['item'].unique()\n",
    "period = len(test.index.unique()\n",
    "\n",
    "# run the model through each of the 10 stores and 50 items\n",
    "for s in stores:\n",
    "    for i in items:        \n",
    "        training_df = train.loc[(train['store'] == s) & (train['item'] == i)].reset_index()\n",
    "        training_df.rename(columns={'date': 'ds', 'sales': 'y'}, inplace=True)\n",
    "        \n",
    "        model = Prophet()\n",
    "        model.fit(training_df[['ds', 'y']])\n",
    "        \n",
    "        future = model.make_future_dataframe(periods=period, include_history=False)\n",
    "        forecast = model.predict(future)\n",
    "        \n",
    "        results.loc[(results['store'] == s) & (results['item'] == i),'sales'] = forecast['yhat']"
   ]
  },
  {
   "cell_type": "code",
   "execution_count": null,
   "metadata": {
    "colab": {
     "base_uri": "https://localhost:8080/"
    },
    "executionInfo": {
     "elapsed": 411,
     "status": "ok",
     "timestamp": 1644776819695,
     "user": {
      "displayName": "andrel",
      "photoUrl": "https://lh3.googleusercontent.com/a-/AOh14GhJHrQmI0O_j6I_y6ptXfC7DmRsvh9q4PkYKC9uRg=s64",
      "userId": "01083842325601129049"
     },
     "user_tz": -480
    },
    "id": "arwVYBnIEZ-y",
    "outputId": "05c3e601-f479-487e-cc95-48d30e00cb0a"
   },
   "outputs": [],
   "source": [
    "y_pred = forecast['yhat']\n",
    "y_pred"
   ]
  },
  {
   "cell_type": "code",
   "execution_count": null,
   "metadata": {
    "colab": {
     "base_uri": "https://localhost:8080/"
    },
    "executionInfo": {
     "elapsed": 449,
     "status": "ok",
     "timestamp": 1644776803541,
     "user": {
      "displayName": "andrel",
      "photoUrl": "https://lh3.googleusercontent.com/a-/AOh14GhJHrQmI0O_j6I_y6ptXfC7DmRsvh9q4PkYKC9uRg=s64",
      "userId": "01083842325601129049"
     },
     "user_tz": -480
    },
    "id": "7_FhwfUbzDNd",
    "outputId": "42da393d-84a0-41b0-cc7d-1717945f93ed"
   },
   "outputs": [],
   "source": [
    "val = train_df.loc[(train_df[\"date\"] >= \"2017-01-01\") & (train_df[\"date\"] < \"2017-04-01\"), :] # First 3 months of 2017\n",
    "val = val.reset_index()\n",
    "val.sales"
   ]
  },
  {
   "cell_type": "code",
   "execution_count": null,
   "metadata": {
    "colab": {
     "base_uri": "https://localhost:8080/",
     "height": 261
    },
    "executionInfo": {
     "elapsed": 511,
     "status": "ok",
     "timestamp": 1644776862493,
     "user": {
      "displayName": "andrel",
      "photoUrl": "https://lh3.googleusercontent.com/a-/AOh14GhJHrQmI0O_j6I_y6ptXfC7DmRsvh9q4PkYKC9uRg=s64",
      "userId": "01083842325601129049"
     },
     "user_tz": -480
    },
    "id": "c9OxDjSOEg5r",
    "outputId": "7b25b234-7d89-455a-ed59-36e511a46673"
   },
   "outputs": [],
   "source": [
    "regression_report(val.sales, y_pred)"
   ]
  },
  {
   "cell_type": "markdown",
   "metadata": {
    "id": "VDLJvCO7kZb4"
   },
   "source": [
    "## Improving Prophet: With Prophet built in holidays"
   ]
  },
  {
   "cell_type": "code",
   "execution_count": null,
   "metadata": {
    "id": "X2NC62LPf8GI"
   },
   "outputs": [],
   "source": [
    "train = pd.read_csv(\"https://drive.google.com/uc?id=1h-vNpZ0RJnsuLxCTs0qc80jwGNrGeX49\", parse_dates=['date'], index_col=['date'])\n",
    "test = pd.read_csv(\"https://drive.google.com/uc?id=1i01pfTSwINi_SBEZhZCG_oZ8C2s6zqWa\", parse_dates=['date'], index_col=['date'])\n",
    "\n",
    "results = test.reset_index()\n",
    "results['sales'] = 0\n",
    "\n",
    "stores = train_df['store'].unique()\n",
    "items = train_df['item'].unique()\n",
    "period = len(test.index.unique()\n",
    "\n",
    "# run the model through each of the 10 stores and 50 items\n",
    "for s in stores:\n",
    "    for i in items:        \n",
    "        training_df = train.loc[(train['store'] == s) & (train['item'] == i)].reset_index()\n",
    "        training_df.rename(columns={'date': 'ds', 'sales': 'y'}, inplace=True)\n",
    "        \n",
    "        training_df['y'] = np.log1p(training_df['y'])\n",
    "        \n",
    "        model = Prophet(daily_seasonality=False, weekly_seasonality=True, yearly_seasonality=True, seasonality_mode='additive')\n",
    "        model.add_seasonality(name='monthly', period=30.5, fourier_order=5)\n",
    "        model.add_country_holidays(country_name='US')\n",
    "        model.fit(training_df[['ds', 'y']])\n",
    "        \n",
    "        future = model.make_future_dataframe(periods=period, include_history=False)\n",
    "        forecast = model.predict(future)\n",
    "        \n",
    "        results.loc[(results['store'] == s) & (results['item'] == i),'sales'] = np.expm1(forecast['yhat']).values"
   ]
  },
  {
   "cell_type": "code",
   "execution_count": null,
   "metadata": {
    "colab": {
     "base_uri": "https://localhost:8080/",
     "height": 441
    },
    "executionInfo": {
     "elapsed": 997,
     "status": "ok",
     "timestamp": 1644059490844,
     "user": {
      "displayName": "andrel",
      "photoUrl": "https://lh3.googleusercontent.com/a-/AOh14GhJHrQmI0O_j6I_y6ptXfC7DmRsvh9q4PkYKC9uRg=s64",
      "userId": "01083842325601129049"
     },
     "user_tz": -480
    },
    "id": "4X3BHMndiqSK",
    "outputId": "4bd0cf96-5eaa-434b-d96b-8faa80efbd3b"
   },
   "outputs": [],
   "source": [
    "forecastplot = model.plot(forecast)"
   ]
  },
  {
   "cell_type": "code",
   "execution_count": null,
   "metadata": {
    "colab": {
     "base_uri": "https://localhost:8080/",
     "height": 1000
    },
    "executionInfo": {
     "elapsed": 1095,
     "status": "ok",
     "timestamp": 1644059491930,
     "user": {
      "displayName": "andrel",
      "photoUrl": "https://lh3.googleusercontent.com/a-/AOh14GhJHrQmI0O_j6I_y6ptXfC7DmRsvh9q4PkYKC9uRg=s64",
      "userId": "01083842325601129049"
     },
     "user_tz": -480
    },
    "id": "kfZIVAwwis4r",
    "outputId": "e8183e31-0ba7-4969-eb92-70638fe68773"
   },
   "outputs": [],
   "source": [
    "fig = model.plot_components(forecast)"
   ]
  },
  {
   "cell_type": "code",
   "execution_count": null,
   "metadata": {
    "id": "14_X6phfgE1y"
   },
   "outputs": [],
   "source": [
    "results.drop(['date', 'store', 'item'], axis=1, inplace=True)\n",
    "results.to_csv('/content/Prophet_2.csv', index=False)"
   ]
  },
  {
   "cell_type": "code",
   "execution_count": null,
   "metadata": {
    "colab": {
     "base_uri": "https://localhost:8080/",
     "height": 419
    },
    "executionInfo": {
     "elapsed": 5,
     "status": "ok",
     "timestamp": 1644059515894,
     "user": {
      "displayName": "andrel",
      "photoUrl": "https://lh3.googleusercontent.com/a-/AOh14GhJHrQmI0O_j6I_y6ptXfC7DmRsvh9q4PkYKC9uRg=s64",
      "userId": "01083842325601129049"
     },
     "user_tz": -480
    },
    "id": "4m7lW16diOJs",
    "outputId": "b997de90-9c8d-4406-b5c6-a8376cf4e4bb"
   },
   "outputs": [],
   "source": [
    "results"
   ]
  },
  {
   "cell_type": "code",
   "execution_count": null,
   "metadata": {
    "id": "-k_4w3qliF4C"
   },
   "outputs": [],
   "source": [
    "test_results = results\n",
    "test_results['sales'] = np.round(test_results['sales']).astype(int) # round the result to whole number"
   ]
  },
  {
   "cell_type": "code",
   "execution_count": null,
   "metadata": {
    "colab": {
     "base_uri": "https://localhost:8080/",
     "height": 419
    },
    "executionInfo": {
     "elapsed": 7,
     "status": "ok",
     "timestamp": 1644059528576,
     "user": {
      "displayName": "andrel",
      "photoUrl": "https://lh3.googleusercontent.com/a-/AOh14GhJHrQmI0O_j6I_y6ptXfC7DmRsvh9q4PkYKC9uRg=s64",
      "userId": "01083842325601129049"
     },
     "user_tz": -480
    },
    "id": "XRkeOn7GiRZK",
    "outputId": "a2d4c15c-6416-4649-f6fb-8a4a97109c4a"
   },
   "outputs": [],
   "source": [
    "test_results"
   ]
  },
  {
   "cell_type": "code",
   "execution_count": null,
   "metadata": {
    "id": "ekTw_W3RldnM"
   },
   "outputs": [],
   "source": [
    "# rounded off results is better than non-rounded\n",
    "test_results.to_csv('/content/Prophet_3.csv', index=False) "
   ]
  },
  {
   "cell_type": "code",
   "execution_count": null,
   "metadata": {
    "colab": {
     "base_uri": "https://localhost:8080/"
    },
    "executionInfo": {
     "elapsed": 387,
     "status": "ok",
     "timestamp": 1644058338471,
     "user": {
      "displayName": "andrel",
      "photoUrl": "https://lh3.googleusercontent.com/a-/AOh14GhJHrQmI0O_j6I_y6ptXfC7DmRsvh9q4PkYKC9uRg=s64",
      "userId": "01083842325601129049"
     },
     "user_tz": -480
    },
    "id": "tdhDnko4gU1H",
    "outputId": "7d34a671-b7bd-4175-eafb-abc0b482c503"
   },
   "outputs": [],
   "source": [
    "model.train_holiday_names"
   ]
  },
  {
   "cell_type": "markdown",
   "metadata": {
    "id": "w8NGSKUYkUyr"
   },
   "source": [
    "## Improving Prophet: With holiday dataset from Kaggle"
   ]
  },
  {
   "cell_type": "code",
   "execution_count": null,
   "metadata": {
    "colab": {
     "base_uri": "https://localhost:8080/",
     "height": 201
    },
    "executionInfo": {
     "elapsed": 417,
     "status": "ok",
     "timestamp": 1644777206657,
     "user": {
      "displayName": "andrel",
      "photoUrl": "https://lh3.googleusercontent.com/a-/AOh14GhJHrQmI0O_j6I_y6ptXfC7DmRsvh9q4PkYKC9uRg=s64",
      "userId": "01083842325601129049"
     },
     "user_tz": -480
    },
    "id": "uLQtWGSQXE-v",
    "outputId": "0d257ccd-7b21-4d93-d5ea-cdc783ab5562"
   },
   "outputs": [],
   "source": [
    "holidays = pd.read_csv(\"/content/holidays.csv\")\n",
    "holidays.head()"
   ]
  },
  {
   "cell_type": "code",
   "execution_count": null,
   "metadata": {
    "id": "Uk_dhmb0Zeu1"
   },
   "outputs": [],
   "source": [
    "holidays.rename(columns={\"Date\": \"ds\", \"Holiday\": \"holiday\"},inplace=True)\n",
    "holidays['ds'] = pd.to_datetime(holidays['ds']) \n",
    "holidays = holidays[(holidays['ds']>df.iloc[0]['date'])&(holidays['ds']<df.iloc[-1]['date'])]\n",
    "\n",
    "results = test.reset_index()\n",
    "results['sales'] = 0\n",
    "\n",
    "period = len(test.index.unique()"
   ]
  },
  {
   "cell_type": "code",
   "execution_count": null,
   "metadata": {
    "id": "HqbpVS0ZZldb"
   },
   "outputs": [],
   "source": [
    "for s in stores:\n",
    "    for i in items:        \n",
    "        training_df = train.loc[(train['store'] == s) & (train['item'] == i)].reset_index()\n",
    "        training_df.rename(columns={'date': 'ds', 'sales': 'y'}, inplace=True)\n",
    "        training_df['y'] = np.log1p(training_df['y']) # log transform\n",
    "        \n",
    "        model = Prophet(daily_seasonality=False, weekly_seasonality=True, yearly_seasonality=True, holidays = holidays, seasonality_mode='additive')\n",
    "        model.add_seasonality(name='monthly', period=30.5, fourier_order=5)\n",
    "        model.fit(training_df[['ds', 'y']])\n",
    "        \n",
    "        future = model.make_future_dataframe(periods=period, include_history=False)\n",
    "        forecast = model.predict(future)\n",
    "        \n",
    "        results.loc[(results['store'] == s) & (results['item'] == i),'sales'] = np.expm1(forecast['yhat']).values # undo log transform"
   ]
  },
  {
   "cell_type": "code",
   "execution_count": null,
   "metadata": {
    "id": "WrQE6dUbPRG6"
   },
   "outputs": [],
   "source": [
    "results.drop(['date', 'store', 'item'], axis=1, inplace=True)\n",
    "results['sales'] = np.round(results['sales']).astype(int) # round to whole number\n",
    "results.to_csv('Prophet.csv', index=False)"
   ]
  },
  {
   "cell_type": "code",
   "execution_count": null,
   "metadata": {
    "colab": {
     "base_uri": "https://localhost:8080/",
     "height": 441
    },
    "executionInfo": {
     "elapsed": 591,
     "status": "ok",
     "timestamp": 1644058014256,
     "user": {
      "displayName": "andrel",
      "photoUrl": "https://lh3.googleusercontent.com/a-/AOh14GhJHrQmI0O_j6I_y6ptXfC7DmRsvh9q4PkYKC9uRg=s64",
      "userId": "01083842325601129049"
     },
     "user_tz": -480
    },
    "id": "oI4Fsn3Ec2qu",
    "outputId": "9e7c4f02-77c4-4224-89fc-b039301a6519"
   },
   "outputs": [],
   "source": [
    "forecastplot = model.plot(forecast)"
   ]
  },
  {
   "cell_type": "code",
   "execution_count": null,
   "metadata": {
    "colab": {
     "base_uri": "https://localhost:8080/",
     "height": 1000
    },
    "executionInfo": {
     "elapsed": 2892,
     "status": "ok",
     "timestamp": 1644058034573,
     "user": {
      "displayName": "andrel",
      "photoUrl": "https://lh3.googleusercontent.com/a-/AOh14GhJHrQmI0O_j6I_y6ptXfC7DmRsvh9q4PkYKC9uRg=s64",
      "userId": "01083842325601129049"
     },
     "user_tz": -480
    },
    "id": "9Vb-ftpVfpSy",
    "outputId": "1e6bbc24-32be-463b-f826-94987bb7ff3b"
   },
   "outputs": [],
   "source": [
    "fig = model.plot_components(forecast)"
   ]
  },
  {
   "cell_type": "code",
   "execution_count": null,
   "metadata": {
    "colab": {
     "base_uri": "https://localhost:8080/",
     "height": 419
    },
    "executionInfo": {
     "elapsed": 8,
     "status": "ok",
     "timestamp": 1644057976068,
     "user": {
      "displayName": "andrel",
      "photoUrl": "https://lh3.googleusercontent.com/a-/AOh14GhJHrQmI0O_j6I_y6ptXfC7DmRsvh9q4PkYKC9uRg=s64",
      "userId": "01083842325601129049"
     },
     "user_tz": -480
    },
    "id": "Nx8L2MjFbN9p",
    "outputId": "add69f09-21dc-4ca8-f48b-961888e4a53e"
   },
   "outputs": [],
   "source": [
    "results"
   ]
  },
  {
   "cell_type": "markdown",
   "metadata": {
    "id": "c1wjS9XIpL9X"
   },
   "source": [
    "## Improving Prophet: Seasonality (fourier order 3 instead of 5)"
   ]
  },
  {
   "cell_type": "code",
   "execution_count": null,
   "metadata": {
    "id": "b34QEDNDpLFs"
   },
   "outputs": [],
   "source": [
    "results = test.reset_index()\n",
    "results['sales']\n",
    "period = len(test.index.unique()\n",
    "\n",
    "for s in stores:\n",
    "    for i in items:        \n",
    "        training_df = train.loc[(train['store'] == s) & (train['item'] == i)].reset_index()\n",
    "        training_df.rename(columns={'date': 'ds', 'sales': 'y'}, inplace=True)\n",
    "        training_df['y'] = np.log1p(training_df['y'])\n",
    "        \n",
    "        model = Prophet(daily_seasonality=False, weekly_seasonality=True, yearly_seasonality=True, holidays = holidays, seasonality_mode='additive')\n",
    "        model.add_seasonality(name='monthly', period=30.5, fourier_order=3)\n",
    "        model.fit(training_df[['ds', 'y']])\n",
    "        \n",
    "        future = model.make_future_dataframe(periods=period), include_history=False)\n",
    "        forecast = model.predict(future)\n",
    "        \n",
    "        results.loc[(results['store'] == s) & (results['item'] == i),'sales'] = np.expm1(forecast['yhat']).values\n",
    "        "
   ]
  },
  {
   "cell_type": "code",
   "execution_count": null,
   "metadata": {
    "colab": {
     "base_uri": "https://localhost:8080/",
     "height": 419
    },
    "executionInfo": {
     "elapsed": 326,
     "status": "ok",
     "timestamp": 1644061884822,
     "user": {
      "displayName": "andrel",
      "photoUrl": "https://lh3.googleusercontent.com/a-/AOh14GhJHrQmI0O_j6I_y6ptXfC7DmRsvh9q4PkYKC9uRg=s64",
      "userId": "01083842325601129049"
     },
     "user_tz": -480
    },
    "id": "m_AXrEWPuRfH",
    "outputId": "fffae5ff-6d34-411d-e7ba-1aa90b3cd9db"
   },
   "outputs": [],
   "source": [
    "results.drop(['date', 'store', 'item'], axis=1, inplace=True)\n",
    "results"
   ]
  },
  {
   "cell_type": "code",
   "execution_count": null,
   "metadata": {
    "id": "LFtxtv0XuYVM"
   },
   "outputs": [],
   "source": [
    "results.to_csv('/content/submission_prophet_1.csv', index=False)"
   ]
  },
  {
   "cell_type": "code",
   "execution_count": null,
   "metadata": {
    "id": "-wjP_oGJpUpu"
   },
   "outputs": [],
   "source": [
    "# rounding\n",
    "results['sales'] = np.round(results['sales']).astype(int)\n",
    "results.to_csv('/content/submission_prophet.csv', index=False)"
   ]
  },
  {
   "cell_type": "code",
   "execution_count": null,
   "metadata": {
    "colab": {
     "base_uri": "https://localhost:8080/",
     "height": 441
    },
    "executionInfo": {
     "elapsed": 644,
     "status": "ok",
     "timestamp": 1644063732508,
     "user": {
      "displayName": "andrel",
      "photoUrl": "https://lh3.googleusercontent.com/a-/AOh14GhJHrQmI0O_j6I_y6ptXfC7DmRsvh9q4PkYKC9uRg=s64",
      "userId": "01083842325601129049"
     },
     "user_tz": -480
    },
    "id": "Oodmv8pGx0Et",
    "outputId": "c53a0cc2-197e-4ff5-8db4-d7901ee7e951"
   },
   "outputs": [],
   "source": [
    "forecastplot = model.plot(forecast)"
   ]
  },
  {
   "cell_type": "code",
   "execution_count": null,
   "metadata": {
    "colab": {
     "base_uri": "https://localhost:8080/",
     "height": 1000
    },
    "executionInfo": {
     "elapsed": 1412,
     "status": "ok",
     "timestamp": 1644063734437,
     "user": {
      "displayName": "andrel",
      "photoUrl": "https://lh3.googleusercontent.com/a-/AOh14GhJHrQmI0O_j6I_y6ptXfC7DmRsvh9q4PkYKC9uRg=s64",
      "userId": "01083842325601129049"
     },
     "user_tz": -480
    },
    "id": "2P-9RCBzx1i5",
    "outputId": "d3942c21-feec-445a-be16-f72885455ad0"
   },
   "outputs": [],
   "source": [
    "fig = model.plot_components(forecast)"
   ]
  },
  {
   "cell_type": "markdown",
   "metadata": {
    "id": "yiiKlm5-pz7P"
   },
   "source": [
    "# Proposed Solution"
   ]
  },
  {
   "cell_type": "markdown",
   "metadata": {
    "id": "f8y05XeRrVG9"
   },
   "source": [
    "## Retraining Best Baseline Model - Catboost\n",
    "\n",
    "\n",
    "> Previously, the baseline models were trained on segmented data to evaluate the performance of each model. As Prophet was trained with the entire training dataset provided without splitting, the catboost model will be trained here in entirety. \n",
    "\n"
   ]
  },
  {
   "cell_type": "code",
   "execution_count": null,
   "metadata": {
    "id": "VHyppwJFrVG9"
   },
   "outputs": [],
   "source": [
    "!pip install catboost"
   ]
  },
  {
   "cell_type": "code",
   "execution_count": null,
   "metadata": {
    "colab": {
     "base_uri": "https://localhost:8080/"
    },
    "executionInfo": {
     "elapsed": 27083,
     "status": "ok",
     "timestamp": 1642869037586,
     "user": {
      "displayName": "andrel",
      "photoUrl": "https://lh3.googleusercontent.com/a-/AOh14GhJHrQmI0O_j6I_y6ptXfC7DmRsvh9q4PkYKC9uRg=s64",
      "userId": "01083842325601129049"
     },
     "user_tz": -480
    },
    "id": "ci-km_yCrVG-",
    "outputId": "bdf6c9c7-88d3-477c-e5ef-9b518f5ef81c"
   },
   "outputs": [],
   "source": [
    "from catboost import CatBoostRegressor\n",
    "from sklearn.metrics import mean_squared_error as mse\n",
    "\n",
    "model = CatBoostRegressor(max_depth=10, loss_function='RMSE', n_estimators = 200, eta = 0.3, random_seed=1)\n",
    "model.fit(train_df.values, sales.values, verbose=True, early_stopping_rounds = 20)"
   ]
  },
  {
   "cell_type": "code",
   "execution_count": null,
   "metadata": {
    "id": "arG-V5bbrVG_"
   },
   "outputs": [],
   "source": [
    "y_pred = model.predict(test_df.values)"
   ]
  },
  {
   "cell_type": "code",
   "execution_count": null,
   "metadata": {
    "colab": {
     "base_uri": "https://localhost:8080/",
     "height": 204
    },
    "executionInfo": {
     "elapsed": 1108,
     "status": "ok",
     "timestamp": 1642869051846,
     "user": {
      "displayName": "andrel",
      "photoUrl": "https://lh3.googleusercontent.com/a-/AOh14GhJHrQmI0O_j6I_y6ptXfC7DmRsvh9q4PkYKC9uRg=s64",
      "userId": "01083842325601129049"
     },
     "user_tz": -480
    },
    "id": "H-ZQ7HtprVG_",
    "outputId": "630bb1d1-1106-4a57-f5d9-7db6b76c0919"
   },
   "outputs": [],
   "source": [
    "# init sample_submission.csv\n",
    "sample_df = pd.read_csv(\"https://drive.google.com/uc?id=1VUhb4Jv2BbeE3jLef3vuTMhWDnf3z_JD\")\n",
    "sample_df['sales'] = y_pred\n",
    "sample_df.head()"
   ]
  },
  {
   "cell_type": "code",
   "execution_count": null,
   "metadata": {
    "id": "kYamu9PmrVG_"
   },
   "outputs": [],
   "source": [
    "sample_df.to_csv(\"submission_catboost.csv\", index=False)"
   ]
  },
  {
   "cell_type": "markdown",
   "metadata": {
    "id": "TCUREfnYg_hi"
   },
   "source": [
    "## Ensembling Experiments (Before Tuning)"
   ]
  },
  {
   "cell_type": "markdown",
   "metadata": {
    "id": "gdh9vNEpYGSP"
   },
   "source": [
    "Experiment 1 (without rounding)"
   ]
  },
  {
   "cell_type": "code",
   "execution_count": null,
   "metadata": {
    "id": "XhExossEhGQz"
   },
   "outputs": [],
   "source": [
    "# both df had no rounding\n",
    "import pandas as pd\n",
    "df1 = pd.read_csv(\"/content/submission_catboost.csv\")\n",
    "df2 = pd.read_csv(\"/content/submission_prophet_1.csv\")"
   ]
  },
  {
   "cell_type": "code",
   "execution_count": null,
   "metadata": {
    "colab": {
     "base_uri": "https://localhost:8080/",
     "height": 142
    },
    "executionInfo": {
     "elapsed": 514,
     "status": "ok",
     "timestamp": 1644239806411,
     "user": {
      "displayName": "andrel",
      "photoUrl": "https://lh3.googleusercontent.com/a-/AOh14GhJHrQmI0O_j6I_y6ptXfC7DmRsvh9q4PkYKC9uRg=s64",
      "userId": "01083842325601129049"
     },
     "user_tz": -480
    },
    "id": "qI3ZtOOXVCx7",
    "outputId": "11bbbbb9-ca89-4c9c-a0e1-ea4a85380969"
   },
   "outputs": [],
   "source": [
    "df1.head(3)"
   ]
  },
  {
   "cell_type": "code",
   "execution_count": null,
   "metadata": {
    "colab": {
     "base_uri": "https://localhost:8080/",
     "height": 142
    },
    "executionInfo": {
     "elapsed": 7,
     "status": "ok",
     "timestamp": 1644239810815,
     "user": {
      "displayName": "andrel",
      "photoUrl": "https://lh3.googleusercontent.com/a-/AOh14GhJHrQmI0O_j6I_y6ptXfC7DmRsvh9q4PkYKC9uRg=s64",
      "userId": "01083842325601129049"
     },
     "user_tz": -480
    },
    "id": "pjadJNBtVFrC",
    "outputId": "05b574cc-78c3-4b0e-945a-744fbd2db906"
   },
   "outputs": [],
   "source": [
    "df2.head(3)"
   ]
  },
  {
   "cell_type": "code",
   "execution_count": null,
   "metadata": {
    "id": "-iKPuRlLVHvr"
   },
   "outputs": [],
   "source": [
    "df3 = df1 # make a duplicate\n",
    "df3['sales'] = (0.5*df1['sales']) + (0.5*df2['sales'])"
   ]
  },
  {
   "cell_type": "code",
   "execution_count": null,
   "metadata": {
    "colab": {
     "base_uri": "https://localhost:8080/",
     "height": 419
    },
    "executionInfo": {
     "elapsed": 9,
     "status": "ok",
     "timestamp": 1644239924681,
     "user": {
      "displayName": "andrel",
      "photoUrl": "https://lh3.googleusercontent.com/a-/AOh14GhJHrQmI0O_j6I_y6ptXfC7DmRsvh9q4PkYKC9uRg=s64",
      "userId": "01083842325601129049"
     },
     "user_tz": -480
    },
    "id": "Zmkol1utVdzF",
    "outputId": "7ca2a61b-d75e-4b12-e418-2867e7d78517"
   },
   "outputs": [],
   "source": [
    "df3"
   ]
  },
  {
   "cell_type": "code",
   "execution_count": null,
   "metadata": {
    "id": "QkaGGgFFVqPN"
   },
   "outputs": [],
   "source": [
    "df3.to_csv('/content/submission_ens.csv', index=False) "
   ]
  },
  {
   "cell_type": "markdown",
   "metadata": {
    "id": "-brEgMX6YON4"
   },
   "source": [
    "Experiment 2 (with rounding)"
   ]
  },
  {
   "cell_type": "code",
   "execution_count": null,
   "metadata": {
    "id": "ppPFKT5kYjaK"
   },
   "outputs": [],
   "source": [
    "import numpy as np\n",
    "df4 = df3\n",
    "df4['sales'] = np.round(df4['sales']).astype(int) # round the result to whole number"
   ]
  },
  {
   "cell_type": "code",
   "execution_count": null,
   "metadata": {
    "colab": {
     "base_uri": "https://localhost:8080/",
     "height": 419
    },
    "executionInfo": {
     "elapsed": 515,
     "status": "ok",
     "timestamp": 1644240773004,
     "user": {
      "displayName": "andrel",
      "photoUrl": "https://lh3.googleusercontent.com/a-/AOh14GhJHrQmI0O_j6I_y6ptXfC7DmRsvh9q4PkYKC9uRg=s64",
      "userId": "01083842325601129049"
     },
     "user_tz": -480
    },
    "id": "wWSVJ1ulYtc5",
    "outputId": "0f88c09e-40cb-4e7f-c9a1-be3b34e2bfdf"
   },
   "outputs": [],
   "source": [
    "df4"
   ]
  },
  {
   "cell_type": "code",
   "execution_count": null,
   "metadata": {
    "id": "QiRmGfK-YsWn"
   },
   "outputs": [],
   "source": [
    "df4.to_csv('/content/submission_ens2.csv', index=False)"
   ]
  },
  {
   "cell_type": "markdown",
   "metadata": {
    "id": "45e2npC9b35i"
   },
   "source": [
    "Experiment 3 (changing weightage p1)"
   ]
  },
  {
   "cell_type": "code",
   "execution_count": null,
   "metadata": {
    "id": "2U3D8DOOb7Sa"
   },
   "outputs": [],
   "source": [
    "df5 = df1 # make a duplicate\n",
    "df5['sales'] = (0.4*df1['sales']) + (0.6*df2['sales'])"
   ]
  },
  {
   "cell_type": "code",
   "execution_count": null,
   "metadata": {
    "colab": {
     "base_uri": "https://localhost:8080/",
     "height": 419
    },
    "executionInfo": {
     "elapsed": 510,
     "status": "ok",
     "timestamp": 1644241865678,
     "user": {
      "displayName": "andrel",
      "photoUrl": "https://lh3.googleusercontent.com/a-/AOh14GhJHrQmI0O_j6I_y6ptXfC7DmRsvh9q4PkYKC9uRg=s64",
      "userId": "01083842325601129049"
     },
     "user_tz": -480
    },
    "id": "uUtC3fElcCWS",
    "outputId": "70a794a2-338a-4ac8-e567-b13d67f07ec8"
   },
   "outputs": [],
   "source": [
    "df5"
   ]
  },
  {
   "cell_type": "markdown",
   "metadata": {
    "id": "ksCRQ68xcNt_"
   },
   "source": [
    "Experiment 4 (changing weightage p2)"
   ]
  },
  {
   "cell_type": "code",
   "execution_count": null,
   "metadata": {
    "id": "k1woOkVJcNCP"
   },
   "outputs": [],
   "source": [
    "df6 = df1 # make a duplicate\n",
    "df6['sales'] = (0.6*df1['sales']) + (0.4*df2['sales'])"
   ]
  },
  {
   "cell_type": "code",
   "execution_count": null,
   "metadata": {
    "colab": {
     "base_uri": "https://localhost:8080/",
     "height": 419
    },
    "executionInfo": {
     "elapsed": 9,
     "status": "ok",
     "timestamp": 1644241877767,
     "user": {
      "displayName": "andrel",
      "photoUrl": "https://lh3.googleusercontent.com/a-/AOh14GhJHrQmI0O_j6I_y6ptXfC7DmRsvh9q4PkYKC9uRg=s64",
      "userId": "01083842325601129049"
     },
     "user_tz": -480
    },
    "id": "AnT-05TUcWlG",
    "outputId": "94ae7af9-57e2-4a52-9a9c-7ca421826b9c"
   },
   "outputs": [],
   "source": [
    "df6"
   ]
  },
  {
   "cell_type": "code",
   "execution_count": null,
   "metadata": {
    "id": "WEaL237PdCNC"
   },
   "outputs": [],
   "source": [
    "df6.to_csv('/content/submission_ens4.csv', index=False)"
   ]
  },
  {
   "cell_type": "code",
   "execution_count": null,
   "metadata": {
    "id": "_XSwYwctdMO1"
   },
   "outputs": [],
   "source": [
    "import numpy as np\n",
    "df6_rounded = df6\n",
    "df6_rounded['sales'] = np.round(df6_rounded['sales']).astype(int) # round the result to whole number"
   ]
  },
  {
   "cell_type": "code",
   "execution_count": null,
   "metadata": {
    "colab": {
     "base_uri": "https://localhost:8080/",
     "height": 419
    },
    "executionInfo": {
     "elapsed": 688,
     "status": "ok",
     "timestamp": 1644241970842,
     "user": {
      "displayName": "andrel",
      "photoUrl": "https://lh3.googleusercontent.com/a-/AOh14GhJHrQmI0O_j6I_y6ptXfC7DmRsvh9q4PkYKC9uRg=s64",
      "userId": "01083842325601129049"
     },
     "user_tz": -480
    },
    "id": "HftPeuExdUyt",
    "outputId": "1bae1962-450b-4989-aa23-cdd1f968bae6"
   },
   "outputs": [],
   "source": [
    "df6_rounded"
   ]
  },
  {
   "cell_type": "code",
   "execution_count": null,
   "metadata": {
    "id": "RBOLkG_xdaGk"
   },
   "outputs": [],
   "source": [
    "df6_rounded.to_csv('/content/submission_ens4_rounded.csv', index=False)"
   ]
  },
  {
   "cell_type": "markdown",
   "metadata": {
    "id": "clx6ZnQ5qu62"
   },
   "source": [
    "## Improving Catboost"
   ]
  },
  {
   "cell_type": "code",
   "execution_count": null,
   "metadata": {
    "id": "-Fz3OJjvqu63"
   },
   "outputs": [],
   "source": [
    "!pip install catboost"
   ]
  },
  {
   "cell_type": "markdown",
   "metadata": {
    "id": "DqSPxLZj5Ycs"
   },
   "source": [
    "Gridsearch, 3-fold cross validation"
   ]
  },
  {
   "cell_type": "code",
   "execution_count": null,
   "metadata": {
    "colab": {
     "base_uri": "https://localhost:8080/",
     "height": 1000
    },
    "executionInfo": {
     "elapsed": 195855,
     "status": "ok",
     "timestamp": 1644251417445,
     "user": {
      "displayName": "andrel",
      "photoUrl": "https://lh3.googleusercontent.com/a-/AOh14GhJHrQmI0O_j6I_y6ptXfC7DmRsvh9q4PkYKC9uRg=s64",
      "userId": "01083842325601129049"
     },
     "user_tz": -480
    },
    "id": "P-r0IQpE9ojm",
    "outputId": "c22508db-ca57-4dbf-c4e7-1169aa8da826"
   },
   "outputs": [],
   "source": [
    "from catboost import CatBoostRegressor\n",
    "import numpy as np\n",
    "\n",
    "model = CatBoostRegressor()\n",
    "\n",
    "grid = {'learning_rate': [0.03, 0.1, 0.3],\n",
    "        'max_depth': [8, 10, 12],\n",
    "        'n_estimators': [100, 200, 300]}\n",
    "\n",
    "grid_search_result = model.grid_search(grid, cv=3,\n",
    "                                       X=train_df.values,\n",
    "                                       y=sales.values,\n",
    "                                       plot=True)"
   ]
  },
  {
   "cell_type": "code",
   "execution_count": null,
   "metadata": {
    "colab": {
     "base_uri": "https://localhost:8080/"
    },
    "executionInfo": {
     "elapsed": 283,
     "status": "ok",
     "timestamp": 1644251498006,
     "user": {
      "displayName": "andrel",
      "photoUrl": "https://lh3.googleusercontent.com/a-/AOh14GhJHrQmI0O_j6I_y6ptXfC7DmRsvh9q4PkYKC9uRg=s64",
      "userId": "01083842325601129049"
     },
     "user_tz": -480
    },
    "id": "WoS4vb3iBhdE",
    "outputId": "a3d1779f-2b8d-4fac-c001-8e6b34167fbd"
   },
   "outputs": [],
   "source": [
    "grid_search_result['params']"
   ]
  },
  {
   "cell_type": "markdown",
   "metadata": {
    "id": "Y823vmtClGjo"
   },
   "source": [
    "Results based on the best parameters"
   ]
  },
  {
   "cell_type": "code",
   "execution_count": null,
   "metadata": {
    "colab": {
     "base_uri": "https://localhost:8080/"
    },
    "executionInfo": {
     "elapsed": 57359,
     "status": "ok",
     "timestamp": 1644814515098,
     "user": {
      "displayName": "andrel",
      "photoUrl": "https://lh3.googleusercontent.com/a-/AOh14GhJHrQmI0O_j6I_y6ptXfC7DmRsvh9q4PkYKC9uRg=s64",
      "userId": "01083842325601129049"
     },
     "user_tz": -480
    },
    "id": "zjr3c3cqlGjp",
    "outputId": "d1dfd10b-fda6-45d8-8bc4-2e92d8d7e8c5"
   },
   "outputs": [],
   "source": [
    "from catboost import CatBoostRegressor\n",
    "from sklearn.metrics import mean_squared_error as mse\n",
    "\n",
    "model = CatBoostRegressor(max_depth=10, loss_function='RMSE', eval_metric='SMAPE', n_estimators = 300, learning_rate = 0.3, random_seed=1)\n",
    "model.fit(train_df.values, sales.values, verbose=True, early_stopping_rounds=20)"
   ]
  },
  {
   "cell_type": "code",
   "execution_count": null,
   "metadata": {
    "id": "D6HgvgsAlGjq"
   },
   "outputs": [],
   "source": [
    "y_pred = model.predict(test_df.values)"
   ]
  },
  {
   "cell_type": "code",
   "execution_count": null,
   "metadata": {
    "colab": {
     "base_uri": "https://localhost:8080/",
     "height": 204
    },
    "executionInfo": {
     "elapsed": 782,
     "status": "ok",
     "timestamp": 1644814520938,
     "user": {
      "displayName": "andrel",
      "photoUrl": "https://lh3.googleusercontent.com/a-/AOh14GhJHrQmI0O_j6I_y6ptXfC7DmRsvh9q4PkYKC9uRg=s64",
      "userId": "01083842325601129049"
     },
     "user_tz": -480
    },
    "id": "5zRZikaUlGjq",
    "outputId": "c40aceba-4da0-4585-94e8-d23c09197f90"
   },
   "outputs": [],
   "source": [
    "# init sample_submission.csv\n",
    "sample_df = pd.read_csv(\"https://drive.google.com/uc?id=1VUhb4Jv2BbeE3jLef3vuTMhWDnf3z_JD\")\n",
    "sample_df['sales'] = y_pred\n",
    "sample_df.head()"
   ]
  },
  {
   "cell_type": "code",
   "execution_count": null,
   "metadata": {
    "id": "xwfkt7N2lGjr"
   },
   "outputs": [],
   "source": [
    "sample_df.to_csv(\"submission_catboost_2.csv\", index=False)"
   ]
  },
  {
   "cell_type": "code",
   "execution_count": null,
   "metadata": {
    "colab": {
     "base_uri": "https://localhost:8080/",
     "height": 419
    },
    "executionInfo": {
     "elapsed": 315,
     "status": "ok",
     "timestamp": 1644814532701,
     "user": {
      "displayName": "andrel",
      "photoUrl": "https://lh3.googleusercontent.com/a-/AOh14GhJHrQmI0O_j6I_y6ptXfC7DmRsvh9q4PkYKC9uRg=s64",
      "userId": "01083842325601129049"
     },
     "user_tz": -480
    },
    "id": "w6gDrv_klGjr",
    "outputId": "bfe1802f-7474-445b-e673-023a5a419a23"
   },
   "outputs": [],
   "source": [
    "sample_df"
   ]
  },
  {
   "cell_type": "markdown",
   "metadata": {
    "id": "9Jr2pMtwJLer"
   },
   "source": [
    "Results based on the best parameters (different random seed)"
   ]
  },
  {
   "cell_type": "code",
   "execution_count": null,
   "metadata": {
    "colab": {
     "base_uri": "https://localhost:8080/"
    },
    "executionInfo": {
     "elapsed": 44742,
     "status": "ok",
     "timestamp": 1644253525632,
     "user": {
      "displayName": "andrel",
      "photoUrl": "https://lh3.googleusercontent.com/a-/AOh14GhJHrQmI0O_j6I_y6ptXfC7DmRsvh9q4PkYKC9uRg=s64",
      "userId": "01083842325601129049"
     },
     "user_tz": -480
    },
    "id": "1GNrLeTLJLes",
    "outputId": "f2086760-eb01-4f0c-92f5-840bcf261393"
   },
   "outputs": [],
   "source": [
    "from catboost import CatBoostRegressor\n",
    "from sklearn.metrics import mean_squared_error as mse\n",
    "\n",
    "model = CatBoostRegressor(max_depth=10, loss_function='RMSE', eval_metric='SMAPE', n_estimators = 300, learning_rate = 0.3, random_seed=21)\n",
    "model.fit(train_df.values, sales.values, verbose=True, early_stopping_rounds=20)"
   ]
  },
  {
   "cell_type": "code",
   "execution_count": null,
   "metadata": {
    "id": "fqZX4zzMJLeu"
   },
   "outputs": [],
   "source": [
    "y_pred = model.predict(test_df.values)"
   ]
  },
  {
   "cell_type": "code",
   "execution_count": null,
   "metadata": {
    "colab": {
     "base_uri": "https://localhost:8080/",
     "height": 204
    },
    "executionInfo": {
     "elapsed": 898,
     "status": "ok",
     "timestamp": 1644253526523,
     "user": {
      "displayName": "andrel",
      "photoUrl": "https://lh3.googleusercontent.com/a-/AOh14GhJHrQmI0O_j6I_y6ptXfC7DmRsvh9q4PkYKC9uRg=s64",
      "userId": "01083842325601129049"
     },
     "user_tz": -480
    },
    "id": "RA78E2e_JLeu",
    "outputId": "117836d4-35f2-42ec-d0c4-267ece15617e"
   },
   "outputs": [],
   "source": [
    "# init sample_submission.csv\n",
    "sample_df = pd.read_csv(\"https://drive.google.com/uc?id=1VUhb4Jv2BbeE3jLef3vuTMhWDnf3z_JD\")\n",
    "sample_df['sales'] = y_pred\n",
    "sample_df.head()"
   ]
  },
  {
   "cell_type": "code",
   "execution_count": null,
   "metadata": {
    "id": "kK3B0HkEJLeu"
   },
   "outputs": [],
   "source": [
    "sample_df.to_csv(\"submission_catboost_3.csv\", index=False)"
   ]
  },
  {
   "cell_type": "code",
   "execution_count": null,
   "metadata": {
    "colab": {
     "base_uri": "https://localhost:8080/",
     "height": 419
    },
    "executionInfo": {
     "elapsed": 10,
     "status": "ok",
     "timestamp": 1644253526524,
     "user": {
      "displayName": "andrel",
      "photoUrl": "https://lh3.googleusercontent.com/a-/AOh14GhJHrQmI0O_j6I_y6ptXfC7DmRsvh9q4PkYKC9uRg=s64",
      "userId": "01083842325601129049"
     },
     "user_tz": -480
    },
    "id": "pmjrn9V_JLeu",
    "outputId": "f04d7d3b-bf26-48a5-b8bf-1466e265afa4"
   },
   "outputs": [],
   "source": [
    "sample_df"
   ]
  },
  {
   "cell_type": "markdown",
   "metadata": {
    "id": "fyLOZRBnjUjm"
   },
   "source": [
    "## Improving Prophet"
   ]
  },
  {
   "cell_type": "code",
   "execution_count": null,
   "metadata": {
    "id": "jEH6tky-jUjr"
   },
   "outputs": [],
   "source": [
    "# !pip install fbprophet\n",
    "from fbprophet import Prophet\n",
    "from fbprophet.plot import plot_plotly, plot_components_plotly, plot_cross_validation_metric\n",
    "from fbprophet.diagnostics import performance_metrics, cross_validation\n",
    "import numpy as np"
   ]
  },
  {
   "cell_type": "code",
   "execution_count": null,
   "metadata": {
    "colab": {
     "base_uri": "https://localhost:8080/",
     "height": 204
    },
    "executionInfo": {
     "elapsed": 2135,
     "status": "ok",
     "timestamp": 1644806984959,
     "user": {
      "displayName": "andrel",
      "photoUrl": "https://lh3.googleusercontent.com/a-/AOh14GhJHrQmI0O_j6I_y6ptXfC7DmRsvh9q4PkYKC9uRg=s64",
      "userId": "01083842325601129049"
     },
     "user_tz": -480
    },
    "id": "JCSP0Ht6jUjt",
    "outputId": "06e054cf-839d-4999-d73b-916264a82a67"
   },
   "outputs": [],
   "source": [
    "import pandas as pd\n",
    "# train.csv\n",
    "train_df = pd.read_csv(\"https://drive.google.com/uc?id=1h-vNpZ0RJnsuLxCTs0qc80jwGNrGeX49\")\n",
    "train_df.head()"
   ]
  },
  {
   "cell_type": "code",
   "execution_count": null,
   "metadata": {
    "id": "mj9n-n7UjUjs"
   },
   "outputs": [],
   "source": [
    "train_df.rename(columns = {'date':'ds', 'sales':'y'}, inplace = True)"
   ]
  },
  {
   "cell_type": "markdown",
   "metadata": {
    "id": "GIs1sMDAjEb6"
   },
   "source": [
    "Included unofficial holidays like black friday"
   ]
  },
  {
   "cell_type": "code",
   "execution_count": null,
   "metadata": {
    "colab": {
     "base_uri": "https://localhost:8080/",
     "height": 173
    },
    "executionInfo": {
     "elapsed": 410,
     "status": "ok",
     "timestamp": 1644820730484,
     "user": {
      "displayName": "andrel",
      "photoUrl": "https://lh3.googleusercontent.com/a-/AOh14GhJHrQmI0O_j6I_y6ptXfC7DmRsvh9q4PkYKC9uRg=s64",
      "userId": "01083842325601129049"
     },
     "user_tz": -480
    },
    "id": "AZ-xlyE28t7x",
    "outputId": "b5b88201-321c-4936-e887-a236fd221198"
   },
   "outputs": [],
   "source": [
    "holidays = pd.read_csv(\"/content/unofficial_holidays.csv\")\n",
    "holidays.loc[385:388]"
   ]
  },
  {
   "cell_type": "code",
   "execution_count": null,
   "metadata": {
    "colab": {
     "base_uri": "https://localhost:8080/",
     "height": 419
    },
    "executionInfo": {
     "elapsed": 336,
     "status": "ok",
     "timestamp": 1644820942454,
     "user": {
      "displayName": "andrel",
      "photoUrl": "https://lh3.googleusercontent.com/a-/AOh14GhJHrQmI0O_j6I_y6ptXfC7DmRsvh9q4PkYKC9uRg=s64",
      "userId": "01083842325601129049"
     },
     "user_tz": -480
    },
    "id": "Czj8gXTOigof",
    "outputId": "1e912eb1-35d5-4f5b-80ae-cef1b6b77d95"
   },
   "outputs": [],
   "source": [
    "holidays = pd.read_csv(\"/content/holidays_new.csv\")\n",
    "holidays.rename(columns={\"Date\": \"ds\", \"Holiday\": \"holiday\"},inplace=True)\n",
    "holidays['ds'] = pd.to_datetime(holidays['ds']) \n",
    "holidays"
   ]
  },
  {
   "cell_type": "markdown",
   "metadata": {
    "id": "HZO0UZELjUjw"
   },
   "source": [
    "Seasonality"
   ]
  },
  {
   "cell_type": "code",
   "execution_count": null,
   "metadata": {
    "id": "pw6i3Nf6jUjx"
   },
   "outputs": [],
   "source": [
    "train = pd.read_csv(\"https://drive.google.com/uc?id=1h-vNpZ0RJnsuLxCTs0qc80jwGNrGeX49\", parse_dates=['date'], index_col=['date'])\n",
    "test = pd.read_csv(\"https://drive.google.com/uc?id=1i01pfTSwINi_SBEZhZCG_oZ8C2s6zqWa\", parse_dates=['date'], index_col=['date'])\n",
    "\n",
    "results = test.reset_index()\n",
    "results['sales'] = 0\n",
    "\n",
    "stores = train_df['store'].unique()\n",
    "items = train_df['item'].unique()\n",
    "\n",
    "for s in stores :\n",
    "    for i in items:        \n",
    "        training_df = train.loc[(train['store'] == s) & (train['item'] == i)].reset_index()\n",
    "        training_df.rename(columns={'date': 'ds', 'sales': 'y'}, inplace=True)\n",
    "        training_df['y'] = np.log1p(training_df['y'])\n",
    "        \n",
    "        model = Prophet(daily_seasonality=False, weekly_seasonality=True, yearly_seasonality=True, holidays = holidays, seasonality_mode='additive')\n",
    "        model.add_seasonality(name='monthly', period=30.5, fourier_order=3)\n",
    "        model.fit(training_df[['ds', 'y']])\n",
    "        \n",
    "        future = model.make_future_dataframe(periods=len(test.index.unique()), include_history=False)\n",
    "        forecast = model.predict(future)\n",
    "        \n",
    "        results.loc[(results['store'] == s) & (results['item'] == i),'sales'] = np.expm1(forecast['yhat']).values\n",
    "        "
   ]
  },
  {
   "cell_type": "code",
   "execution_count": null,
   "metadata": {
    "id": "k1lk5qb1jUjx"
   },
   "outputs": [],
   "source": [
    "results.drop(['date', 'store', 'item'], axis=1, inplace=True)\n",
    "results.to_csv('/content/submission_prophet_2.csv', index=False)"
   ]
  },
  {
   "cell_type": "code",
   "execution_count": null,
   "metadata": {
    "colab": {
     "base_uri": "https://localhost:8080/",
     "height": 419
    },
    "executionInfo": {
     "elapsed": 8,
     "status": "ok",
     "timestamp": 1644809476171,
     "user": {
      "displayName": "andrel",
      "photoUrl": "https://lh3.googleusercontent.com/a-/AOh14GhJHrQmI0O_j6I_y6ptXfC7DmRsvh9q4PkYKC9uRg=s64",
      "userId": "01083842325601129049"
     },
     "user_tz": -480
    },
    "id": "Ki8a1LALSNDC",
    "outputId": "ab8372c0-aaca-4ff0-8644-e4691009f4d4"
   },
   "outputs": [],
   "source": [
    "results"
   ]
  },
  {
   "cell_type": "code",
   "execution_count": null,
   "metadata": {
    "id": "t1TpnzJZjUjz"
   },
   "outputs": [],
   "source": [
    "results['sales'] = np.round(results['sales']).astype(int) # round the result to whole number\n",
    "results.to_csv('/content/submission_prophet_2_rounded.csv', index=False)"
   ]
  },
  {
   "cell_type": "code",
   "execution_count": null,
   "metadata": {
    "colab": {
     "base_uri": "https://localhost:8080/",
     "height": 419
    },
    "executionInfo": {
     "elapsed": 509,
     "status": "ok",
     "timestamp": 1644809485991,
     "user": {
      "displayName": "andrel",
      "photoUrl": "https://lh3.googleusercontent.com/a-/AOh14GhJHrQmI0O_j6I_y6ptXfC7DmRsvh9q4PkYKC9uRg=s64",
      "userId": "01083842325601129049"
     },
     "user_tz": -480
    },
    "id": "xKIvZDjqlA1b",
    "outputId": "6e52f90e-144d-4a3d-8f02-d10db7ebbe1d"
   },
   "outputs": [],
   "source": [
    "results"
   ]
  },
  {
   "cell_type": "code",
   "execution_count": null,
   "metadata": {
    "colab": {
     "base_uri": "https://localhost:8080/",
     "height": 441
    },
    "executionInfo": {
     "elapsed": 1227,
     "status": "ok",
     "timestamp": 1644809502681,
     "user": {
      "displayName": "andrel",
      "photoUrl": "https://lh3.googleusercontent.com/a-/AOh14GhJHrQmI0O_j6I_y6ptXfC7DmRsvh9q4PkYKC9uRg=s64",
      "userId": "01083842325601129049"
     },
     "user_tz": -480
    },
    "id": "O37JaJK8jUjz",
    "outputId": "392dcff0-dc0e-4081-b5bb-f1371d430f04"
   },
   "outputs": [],
   "source": [
    "forecastplot = model.plot(forecast)"
   ]
  },
  {
   "cell_type": "code",
   "execution_count": null,
   "metadata": {
    "colab": {
     "base_uri": "https://localhost:8080/",
     "height": 1000
    },
    "executionInfo": {
     "elapsed": 2304,
     "status": "ok",
     "timestamp": 1644809506626,
     "user": {
      "displayName": "andrel",
      "photoUrl": "https://lh3.googleusercontent.com/a-/AOh14GhJHrQmI0O_j6I_y6ptXfC7DmRsvh9q4PkYKC9uRg=s64",
      "userId": "01083842325601129049"
     },
     "user_tz": -480
    },
    "id": "0QHcFyT4jUjz",
    "outputId": "acb198ed-be72-465e-9bed-5b67403d9889"
   },
   "outputs": [],
   "source": [
    "fig = model.plot_components(forecast)"
   ]
  },
  {
   "cell_type": "markdown",
   "metadata": {
    "id": "_n8ZtjyKxbtj"
   },
   "source": [
    "## Ensembling Experiments (After Tuning)\n",
    "\n",
    "\n",
    "> The improved catboost and Prophet models showed improvement to forecasting accuracy (observed in Experiment 6) - especially with a custom ratio of weighted average (60% catboost 40% prophet instead of 50-50 in Experiment 9). From ensembled learning before tuning, rounded sales figures showed better SMAPE scores, which is also applied for all experiments below. Experiment 10 showed that the ensembling of all 5 models did not produce the best result, possibly due to higher inaccuracies in forecasting for the pre-tuned models.\n",
    "\n"
   ]
  },
  {
   "cell_type": "code",
   "execution_count": null,
   "metadata": {
    "id": "ch9PyO40tb_d"
   },
   "outputs": [],
   "source": [
    "import pandas as pd\n",
    "df1_1 = pd.read_csv(\"/content/submission_catboost.csv\")\n",
    "df1_2 = pd.read_csv(\"/content/submission_catboost_2.csv\")\n",
    "df1_3 = pd.read_csv(\"/content/submission_catboost_3.csv\")\n",
    "df2_1 = pd.read_csv(\"/content/submission_prophet_1.csv\")\n",
    "df2_2 = pd.read_csv(\"/content/submission_prophet_2.csv\")\n",
    "\n",
    "exp_df = df1_1 # make a duplicate for experiments"
   ]
  },
  {
   "cell_type": "markdown",
   "metadata": {
    "id": "1h-5fLnMIEVh"
   },
   "source": [
    "Experiment 5"
   ]
  },
  {
   "cell_type": "code",
   "execution_count": null,
   "metadata": {
    "colab": {
     "base_uri": "https://localhost:8080/",
     "height": 419
    },
    "executionInfo": {
     "elapsed": 9,
     "status": "ok",
     "timestamp": 1644252893189,
     "user": {
      "displayName": "andrel",
      "photoUrl": "https://lh3.googleusercontent.com/a-/AOh14GhJHrQmI0O_j6I_y6ptXfC7DmRsvh9q4PkYKC9uRg=s64",
      "userId": "01083842325601129049"
     },
     "user_tz": -480
    },
    "id": "kDPkK_5vxr_H",
    "outputId": "3174b37f-57e3-4bfa-8b6b-1c802acca4be"
   },
   "outputs": [],
   "source": [
    "exp_df['sales'] = (0.6*df1_1['sales']) + (0.4*df2_1['sales'])\n",
    "exp_df.to_csv('/content/submission_ens5.csv', index=False)\n",
    "exp_df"
   ]
  },
  {
   "cell_type": "code",
   "execution_count": null,
   "metadata": {
    "colab": {
     "base_uri": "https://localhost:8080/",
     "height": 419
    },
    "executionInfo": {
     "elapsed": 691,
     "status": "ok",
     "timestamp": 1644252914255,
     "user": {
      "displayName": "andrel",
      "photoUrl": "https://lh3.googleusercontent.com/a-/AOh14GhJHrQmI0O_j6I_y6ptXfC7DmRsvh9q4PkYKC9uRg=s64",
      "userId": "01083842325601129049"
     },
     "user_tz": -480
    },
    "id": "p7vqOHenxr_J",
    "outputId": "14d4e458-bf7c-4d34-b3ec-9bb420f4a4aa"
   },
   "outputs": [],
   "source": [
    "exp_df_rounded = exp_df\n",
    "exp_df_rounded['sales'] = np.round(exp_df_rounded['sales']).astype(int) # round the result to whole number\n",
    "exp_df_rounded.to_csv('/content/submission_ens5_rounded.csv', index=False)\n",
    "exp_df_rounded"
   ]
  },
  {
   "cell_type": "markdown",
   "metadata": {
    "id": "kNOojOpgIKlF"
   },
   "source": [
    "Experiment 6 - BEST"
   ]
  },
  {
   "cell_type": "code",
   "execution_count": null,
   "metadata": {
    "colab": {
     "base_uri": "https://localhost:8080/",
     "height": 419
    },
    "executionInfo": {
     "elapsed": 377,
     "status": "ok",
     "timestamp": 1644818799523,
     "user": {
      "displayName": "andrel",
      "photoUrl": "https://lh3.googleusercontent.com/a-/AOh14GhJHrQmI0O_j6I_y6ptXfC7DmRsvh9q4PkYKC9uRg=s64",
      "userId": "01083842325601129049"
     },
     "user_tz": -480
    },
    "id": "E7NsINiz3u8k",
    "outputId": "5510c2d4-81ff-4160-f47d-cf9525729028"
   },
   "outputs": [],
   "source": [
    "exp_df['sales'] = (0.6*df1_2['sales']) + (0.4*df2_2['sales'])\n",
    "exp_df"
   ]
  },
  {
   "cell_type": "code",
   "execution_count": null,
   "metadata": {
    "colab": {
     "base_uri": "https://localhost:8080/",
     "height": 419
    },
    "executionInfo": {
     "elapsed": 315,
     "status": "ok",
     "timestamp": 1644818804024,
     "user": {
      "displayName": "andrel",
      "photoUrl": "https://lh3.googleusercontent.com/a-/AOh14GhJHrQmI0O_j6I_y6ptXfC7DmRsvh9q4PkYKC9uRg=s64",
      "userId": "01083842325601129049"
     },
     "user_tz": -480
    },
    "id": "1MoYVKyJ3u8l",
    "outputId": "5f99c58b-b8d9-492e-fb5e-4db886abbf3e"
   },
   "outputs": [],
   "source": [
    "exp_df_rounded = exp_df\n",
    "exp_df_rounded['sales'] = np.round(exp_df_rounded['sales']).astype(int)\n",
    "exp_df.to_csv('/content/submission_ens6_rounded-2.csv', index=False)\n",
    "exp_df_rounded"
   ]
  },
  {
   "cell_type": "markdown",
   "metadata": {
    "id": "4XMaZx9kO1La"
   },
   "source": [
    "Experiment 7 - SECOND BEST"
   ]
  },
  {
   "cell_type": "code",
   "execution_count": null,
   "metadata": {
    "colab": {
     "base_uri": "https://localhost:8080/",
     "height": 419
    },
    "executionInfo": {
     "elapsed": 424,
     "status": "ok",
     "timestamp": 1644814886249,
     "user": {
      "displayName": "andrel",
      "photoUrl": "https://lh3.googleusercontent.com/a-/AOh14GhJHrQmI0O_j6I_y6ptXfC7DmRsvh9q4PkYKC9uRg=s64",
      "userId": "01083842325601129049"
     },
     "user_tz": -480
    },
    "id": "sF94W7xNmSD1",
    "outputId": "d8e92e3c-518d-4ea8-af36-d5ced294e922"
   },
   "outputs": [],
   "source": [
    "exp_df['sales'] = (0.6*df1_2['sales']) + (0.4*df2_1['sales'])\n",
    "exp_df"
   ]
  },
  {
   "cell_type": "code",
   "execution_count": null,
   "metadata": {
    "colab": {
     "base_uri": "https://localhost:8080/",
     "height": 419
    },
    "executionInfo": {
     "elapsed": 420,
     "status": "ok",
     "timestamp": 1644814936212,
     "user": {
      "displayName": "andrel",
      "photoUrl": "https://lh3.googleusercontent.com/a-/AOh14GhJHrQmI0O_j6I_y6ptXfC7DmRsvh9q4PkYKC9uRg=s64",
      "userId": "01083842325601129049"
     },
     "user_tz": -480
    },
    "id": "Js8XWstAm8q6",
    "outputId": "ad5935ad-4f75-474e-b429-34103eb9e3a8"
   },
   "outputs": [],
   "source": [
    "exp_df_rounded = exp_df\n",
    "exp_df_rounded['sales'] = np.round(exp_df_rounded['sales']).astype(int) # round the result to whole number\n",
    "exp_df.to_csv('/content/submission_ens7_rounded_v2.csv', index=False)\n",
    "exp_df_rounded"
   ]
  },
  {
   "cell_type": "markdown",
   "metadata": {
    "id": "9VV7zrFaPO3w"
   },
   "source": [
    "Experiment 8"
   ]
  },
  {
   "cell_type": "code",
   "execution_count": null,
   "metadata": {
    "colab": {
     "base_uri": "https://localhost:8080/",
     "height": 419
    },
    "executionInfo": {
     "elapsed": 277,
     "status": "ok",
     "timestamp": 1644255155434,
     "user": {
      "displayName": "andrel",
      "photoUrl": "https://lh3.googleusercontent.com/a-/AOh14GhJHrQmI0O_j6I_y6ptXfC7DmRsvh9q4PkYKC9uRg=s64",
      "userId": "01083842325601129049"
     },
     "user_tz": -480
    },
    "id": "nTYBZTIJPO3z",
    "outputId": "585861db-db9b-4a07-ecf2-0142616873bd"
   },
   "outputs": [],
   "source": [
    "exp_df['sales'] = (0.6*df1_3['sales']) + (0.4*df2_1['sales'])\n",
    "exp_df"
   ]
  },
  {
   "cell_type": "code",
   "execution_count": null,
   "metadata": {
    "colab": {
     "base_uri": "https://localhost:8080/",
     "height": 419
    },
    "executionInfo": {
     "elapsed": 5,
     "status": "ok",
     "timestamp": 1644255160271,
     "user": {
      "displayName": "andrel",
      "photoUrl": "https://lh3.googleusercontent.com/a-/AOh14GhJHrQmI0O_j6I_y6ptXfC7DmRsvh9q4PkYKC9uRg=s64",
      "userId": "01083842325601129049"
     },
     "user_tz": -480
    },
    "id": "buRx-5ofPO30",
    "outputId": "5db74aad-f614-4217-ba1f-7b3493bd7ed3"
   },
   "outputs": [],
   "source": [
    "exp_df_rounded = exp_df\n",
    "exp_df_rounded['sales'] = np.round(exp_df_rounded['sales']).astype(int) # round the result to whole number\n",
    "exp_df_rounded.to_csv('/content/submission_ens8_rounded.csv', index=False)\n",
    "exp_df_rounded"
   ]
  },
  {
   "cell_type": "markdown",
   "metadata": {
    "id": "G1WJRMaO9H4p"
   },
   "source": [
    "Experiment 9"
   ]
  },
  {
   "cell_type": "code",
   "execution_count": null,
   "metadata": {
    "colab": {
     "base_uri": "https://localhost:8080/",
     "height": 419
    },
    "executionInfo": {
     "elapsed": 376,
     "status": "ok",
     "timestamp": 1644817025814,
     "user": {
      "displayName": "andrel",
      "photoUrl": "https://lh3.googleusercontent.com/a-/AOh14GhJHrQmI0O_j6I_y6ptXfC7DmRsvh9q4PkYKC9uRg=s64",
      "userId": "01083842325601129049"
     },
     "user_tz": -480
    },
    "id": "b6BUXILd9H4r",
    "outputId": "43eafc7e-b7cb-4bda-9301-762077cf3766"
   },
   "outputs": [],
   "source": [
    "exp_df['sales'] = (0.5*df1_2['sales']) + (0.5*df2_2['sales'])\n",
    "exp_df"
   ]
  },
  {
   "cell_type": "code",
   "execution_count": null,
   "metadata": {
    "colab": {
     "base_uri": "https://localhost:8080/",
     "height": 419
    },
    "executionInfo": {
     "elapsed": 297,
     "status": "ok",
     "timestamp": 1644817064606,
     "user": {
      "displayName": "andrel",
      "photoUrl": "https://lh3.googleusercontent.com/a-/AOh14GhJHrQmI0O_j6I_y6ptXfC7DmRsvh9q4PkYKC9uRg=s64",
      "userId": "01083842325601129049"
     },
     "user_tz": -480
    },
    "id": "sJZwuSmx9H4t",
    "outputId": "b57b374a-9579-453e-aafb-bed81e370661"
   },
   "outputs": [],
   "source": [
    "import numpy as np\n",
    "exp_df_rounded = exp_df\n",
    "exp_df_rounded['sales'] = np.round(exp_df_rounded['sales']).astype(int) # round the result to whole number\n",
    "exp_df_rounded.to_csv('/content/submission_ens9_rounded.csv', index=False)\n",
    "exp_df_rounded"
   ]
  },
  {
   "cell_type": "markdown",
   "metadata": {
    "id": "yVr8m4Zx_H75"
   },
   "source": [
    "Experiment 10"
   ]
  },
  {
   "cell_type": "code",
   "execution_count": null,
   "metadata": {
    "colab": {
     "base_uri": "https://localhost:8080/",
     "height": 419
    },
    "executionInfo": {
     "elapsed": 343,
     "status": "ok",
     "timestamp": 1644817121687,
     "user": {
      "displayName": "andrel",
      "photoUrl": "https://lh3.googleusercontent.com/a-/AOh14GhJHrQmI0O_j6I_y6ptXfC7DmRsvh9q4PkYKC9uRg=s64",
      "userId": "01083842325601129049"
     },
     "user_tz": -480
    },
    "id": "GrOi9PDI_H7-",
    "outputId": "d3c661ed-8356-403c-b96b-a603d7dc339e"
   },
   "outputs": [],
   "source": [
    "exp_df['sales'] = (0.45*((df1_1['sales']+df1_2['sales']+df1_3['sales'])/3)) + (0.55*(((0.5*df2_1['sales'])+(0.5*df2_2['sales']))))\n",
    "exp_df"
   ]
  },
  {
   "cell_type": "code",
   "execution_count": null,
   "metadata": {
    "colab": {
     "base_uri": "https://localhost:8080/",
     "height": 419
    },
    "executionInfo": {
     "elapsed": 320,
     "status": "ok",
     "timestamp": 1644817128113,
     "user": {
      "displayName": "andrel",
      "photoUrl": "https://lh3.googleusercontent.com/a-/AOh14GhJHrQmI0O_j6I_y6ptXfC7DmRsvh9q4PkYKC9uRg=s64",
      "userId": "01083842325601129049"
     },
     "user_tz": -480
    },
    "id": "l_1wL3gz_H7_",
    "outputId": "01057933-d700-4702-fc97-7dd725aa111d"
   },
   "outputs": [],
   "source": [
    "exp_df_rounded = exp_df\n",
    "exp_df_rounded['sales'] = np.round(exp_df_rounded['sales']).astype(int) # round the result to whole number\n",
    "exp_df_rounded.to_csv('/content/submission_ens10_rounded.csv', index=False)\n",
    "exp_df_rounded"
   ]
  }
 ],
 "metadata": {
  "accelerator": "GPU",
  "colab": {
   "collapsed_sections": [
    "wubyecOrBaZ7",
    "ZbISeAJnJDw9",
    "9Es_6MN6ODYR",
    "EF-sUZd6MsYn",
    "-48Fx9hoLHT6",
    "1OHkWBmHZwVB",
    "OsCGRlOGK2v9",
    "injPwvnYG4T_",
    "f7R7oWEeMe0_",
    "TAcDszyfM92Y",
    "dbnlxm5nQCas",
    "VDLJvCO7kZb4",
    "w8NGSKUYkUyr",
    "c1wjS9XIpL9X",
    "yiiKlm5-pz7P",
    "f8y05XeRrVG9",
    "TCUREfnYg_hi",
    "clx6ZnQ5qu62",
    "fyLOZRBnjUjm",
    "_n8ZtjyKxbtj"
   ],
   "name": "ML.ipynb",
   "provenance": [
    {
     "file_id": "1AeR7Wv6la6BdkL0CE6cT6cXhf-f4lUq9",
     "timestamp": 1642859191581
    }
   ]
  },
  "kernelspec": {
   "display_name": "Python 3 (ipykernel)",
   "language": "python",
   "name": "python3"
  },
  "language_info": {
   "codemirror_mode": {
    "name": "ipython",
    "version": 3
   },
   "file_extension": ".py",
   "mimetype": "text/x-python",
   "name": "python",
   "nbconvert_exporter": "python",
   "pygments_lexer": "ipython3",
   "version": "3.9.12"
  }
 },
 "nbformat": 4,
 "nbformat_minor": 1
}
